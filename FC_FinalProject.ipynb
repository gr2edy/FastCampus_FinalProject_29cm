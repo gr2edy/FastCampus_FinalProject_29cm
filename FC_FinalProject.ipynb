{
 "cells": [
  {
   "cell_type": "markdown",
   "id": "70e3f07e",
   "metadata": {},
   "source": [
    "**Final Project (29cm)** \n",
    "# 데이터 전처리 및 탐색"
   ]
  },
  {
   "cell_type": "code",
   "execution_count": 164,
   "id": "40166b99",
   "metadata": {},
   "outputs": [],
   "source": [
    "import pandas as pd\n",
    "import numpy as np\n",
    "import seaborn as sns\n",
    "import matplotlib.pyplot as plt\n",
    "%matplotlib inline \n",
    "\n",
    "import warnings\n",
    "warnings.filterwarnings('ignore')\n",
    "\n",
    "pd.set_option('display.max_rows', 1000)\n",
    "pd.set_option('display.max_column', 1000)\n",
    "pd.options.display.float_format = '{:.2f}'.format\n",
    "\n",
    "import random\n",
    "from tqdm.autonotebook import tqdm\n",
    "import string\n",
    "import re\n",
    "plt.rcParams['font.family'] = 'AppleGothic' # 폰트 변경\n",
    "plt.rcParams['axes.unicode_minus'] = False # 축 값 마이너스 깨짐 해결"
   ]
  },
  {
   "cell_type": "markdown",
   "id": "aa1433d6",
   "metadata": {},
   "source": [
    "## 파일 불러오기"
   ]
  },
  {
   "cell_type": "code",
   "execution_count": 165,
   "id": "57fb7538",
   "metadata": {},
   "outputs": [],
   "source": [
    "events = pd.read_csv(\"/Users/greedy/Downloads/패스트캠퍼스/파이널/data/commerce/sampled_events.csv\")\n",
    "products = pd.read_csv(\"/Users/greedy/Downloads/패스트캠퍼스/파이널/data/commerce/sampled_products.csv\")\n",
    "users = pd.read_csv(\"/Users/greedy/Downloads/패스트캠퍼스/파이널/data/commerce/sampled_users.csv\")"
   ]
  },
  {
   "cell_type": "code",
   "execution_count": null,
   "id": "164a84bf",
   "metadata": {},
   "outputs": [],
   "source": [
    "ad = pd.read_csv(\"/Users/greedy/Downloads/패스트캠퍼스/파이널/data/data/ad.csv\")\n",
    "advertiser = pd.read_csv(\"/Users/greedy/Downloads/패스트캠퍼스/파이널/data/data/advertiser.csv\")\n",
    "dataset = pd.read_csv(\"/Users/greedy/Downloads/패스트캠퍼스/파이널/data/data/dataset.csv\")\n",
    "impression_log = pd.read_csv(\"/Users/greedy/Downloads/패스트캠퍼스/파이널/data/data/impression_log.csv\")\n",
    "view_log = pd.read_csv(\"/Users/greedy/Downloads/패스트캠퍼스/파이널/data/data/view_log.csv\")\n",
    "viewer = pd.read_csv(\"/Users/greedy/Downloads/패스트캠퍼스/파이널/data/data/viewer.csv\")"
   ]
  },
  {
   "cell_type": "markdown",
   "id": "58103a9c",
   "metadata": {},
   "source": [
    "## 데이터 살펴보기"
   ]
  },
  {
   "cell_type": "code",
   "execution_count": null,
   "id": "ceaf6c31",
   "metadata": {},
   "outputs": [],
   "source": [
    "events.head()"
   ]
  },
  {
   "cell_type": "code",
   "execution_count": null,
   "id": "ff41d6b9",
   "metadata": {},
   "outputs": [],
   "source": [
    "events.describe()"
   ]
  },
  {
   "cell_type": "code",
   "execution_count": null,
   "id": "2b67d0d8",
   "metadata": {},
   "outputs": [],
   "source": [
    "events.info()"
   ]
  },
  {
   "cell_type": "code",
   "execution_count": null,
   "id": "bd276a77",
   "metadata": {},
   "outputs": [],
   "source": [
    "events.isnull().sum()"
   ]
  },
  {
   "cell_type": "code",
   "execution_count": null,
   "id": "9768dbb9",
   "metadata": {},
   "outputs": [],
   "source": [
    "products.head()"
   ]
  },
  {
   "cell_type": "code",
   "execution_count": null,
   "id": "ea635d74",
   "metadata": {},
   "outputs": [],
   "source": [
    "products.describe()"
   ]
  },
  {
   "cell_type": "code",
   "execution_count": null,
   "id": "684bf339",
   "metadata": {},
   "outputs": [],
   "source": [
    "products.info()"
   ]
  },
  {
   "cell_type": "code",
   "execution_count": null,
   "id": "4a81d09f",
   "metadata": {},
   "outputs": [],
   "source": [
    "users.head()"
   ]
  },
  {
   "cell_type": "code",
   "execution_count": null,
   "id": "07081d0c",
   "metadata": {},
   "outputs": [],
   "source": [
    "users.describe()"
   ]
  },
  {
   "cell_type": "code",
   "execution_count": null,
   "id": "45614a1a",
   "metadata": {},
   "outputs": [],
   "source": [
    "users.info()"
   ]
  },
  {
   "cell_type": "markdown",
   "id": "d1645af4",
   "metadata": {},
   "source": [
    "## 데이터 users, products를 events에 병합"
   ]
  },
  {
   "cell_type": "code",
   "execution_count": 166,
   "id": "1c077ccf",
   "metadata": {},
   "outputs": [],
   "source": [
    "df = pd.merge(events, products, how = 'outer', on = 'item_no')"
   ]
  },
  {
   "cell_type": "code",
   "execution_count": 167,
   "id": "97b700da",
   "metadata": {},
   "outputs": [],
   "source": [
    "df = pd.merge(df, users, how = 'outer', on = 'user_no')"
   ]
  },
  {
   "cell_type": "code",
   "execution_count": null,
   "id": "74ea55a2",
   "metadata": {},
   "outputs": [],
   "source": [
    "df['item_no'].drop_duplicates()"
   ]
  },
  {
   "cell_type": "code",
   "execution_count": null,
   "id": "6472b174",
   "metadata": {},
   "outputs": [],
   "source": [
    "df['user_no'].drop_duplicates()"
   ]
  },
  {
   "cell_type": "code",
   "execution_count": null,
   "id": "3a14c6d4",
   "metadata": {},
   "outputs": [],
   "source": [
    "df.head()"
   ]
  },
  {
   "cell_type": "code",
   "execution_count": null,
   "id": "bc043037",
   "metadata": {},
   "outputs": [],
   "source": [
    "df.describe()"
   ]
  },
  {
   "cell_type": "code",
   "execution_count": null,
   "id": "af409296",
   "metadata": {},
   "outputs": [],
   "source": [
    "df.info()"
   ]
  },
  {
   "cell_type": "code",
   "execution_count": null,
   "id": "36af56b0",
   "metadata": {
    "scrolled": false
   },
   "outputs": [],
   "source": [
    "df.isnull().sum()"
   ]
  },
  {
   "cell_type": "code",
   "execution_count": null,
   "id": "dcdb0fc9",
   "metadata": {
    "scrolled": true
   },
   "outputs": [],
   "source": [
    "df.columns"
   ]
  },
  {
   "cell_type": "markdown",
   "id": "32ad7286",
   "metadata": {},
   "source": [
    "## 전처리"
   ]
  },
  {
   "cell_type": "code",
   "execution_count": null,
   "id": "52643c1f",
   "metadata": {},
   "outputs": [],
   "source": [
    "import missingno\n",
    "plt.figure(figsize=(20, 8))\n",
    "missingno.matrix(df)"
   ]
  },
  {
   "cell_type": "code",
   "execution_count": null,
   "id": "386bc96e",
   "metadata": {},
   "outputs": [],
   "source": [
    "df[df['brand_no'].isnull()]['category3_name']"
   ]
  },
  {
   "cell_type": "code",
   "execution_count": null,
   "id": "5dc27012",
   "metadata": {},
   "outputs": [],
   "source": [
    "df[df['brand_name'].isnull()]"
   ]
  },
  {
   "cell_type": "markdown",
   "id": "386fe851",
   "metadata": {},
   "source": [
    "**브랜드 네임 없는 경우 대부분 홑이불**"
   ]
  },
  {
   "cell_type": "code",
   "execution_count": null,
   "id": "a834d2da",
   "metadata": {},
   "outputs": [],
   "source": [
    "#2017년생 구매 데이터"
   ]
  },
  {
   "cell_type": "markdown",
   "id": "fa9ae17d",
   "metadata": {},
   "source": [
    "### Users 생년월일 --> 날짜데이터, Null값 처리\n"
   ]
  },
  {
   "cell_type": "code",
   "execution_count": 168,
   "id": "64367800",
   "metadata": {
    "scrolled": true
   },
   "outputs": [],
   "source": [
    "df['birth_date'] = pd.to_datetime(df['birth_date'], errors = 'coerce')"
   ]
  },
  {
   "cell_type": "code",
   "execution_count": null,
   "id": "f400bc96",
   "metadata": {},
   "outputs": [],
   "source": [
    "type(df['birth_date'][0])"
   ]
  },
  {
   "cell_type": "code",
   "execution_count": null,
   "id": "7e0f2e62",
   "metadata": {},
   "outputs": [],
   "source": [
    "df['birth_date'].isnull().sum()"
   ]
  },
  {
   "cell_type": "code",
   "execution_count": 169,
   "id": "3339270f",
   "metadata": {},
   "outputs": [],
   "source": [
    "def convert_datetime(row):\n",
    "    if pd.isnull(row):\n",
    "        return np.nan\n",
    "    else:\n",
    "        return pd.to_datetime(row)"
   ]
  },
  {
   "cell_type": "code",
   "execution_count": 170,
   "id": "d481eaab",
   "metadata": {},
   "outputs": [],
   "source": [
    "df['birth_date'] = df['birth_date'].apply(convert_datetime)"
   ]
  },
  {
   "cell_type": "code",
   "execution_count": null,
   "id": "95e9fef1",
   "metadata": {},
   "outputs": [],
   "source": [
    "df['birth_date'].describe()"
   ]
  },
  {
   "cell_type": "code",
   "execution_count": null,
   "id": "5d7fe2e5",
   "metadata": {},
   "outputs": [],
   "source": [
    "df_year = df['birth_date'].dt.year"
   ]
  },
  {
   "cell_type": "code",
   "execution_count": null,
   "id": "580d77d8",
   "metadata": {},
   "outputs": [],
   "source": [
    "df_year.max()"
   ]
  },
  {
   "cell_type": "code",
   "execution_count": null,
   "id": "64d6dae6",
   "metadata": {},
   "outputs": [],
   "source": [
    "x = df_year.unique()\n",
    "x"
   ]
  },
  {
   "cell_type": "code",
   "execution_count": null,
   "id": "32ece223",
   "metadata": {},
   "outputs": [],
   "source": [
    "plt.figure(figsize=(20, 7))\n",
    "a = df_year.plot(kind='hist')\n",
    "a.get_xaxis().get_major_formatter().set_scientific(False)\n",
    "plt.grid(color='lightgrey', alpha=0.5)\n",
    "plt.xticks(np.arange(1923,2017))\n",
    "plt.show()"
   ]
  },
  {
   "cell_type": "markdown",
   "id": "22c5dccc",
   "metadata": {},
   "source": [
    "### Users 성별"
   ]
  },
  {
   "cell_type": "code",
   "execution_count": null,
   "id": "b48015e2",
   "metadata": {
    "scrolled": true
   },
   "outputs": [],
   "source": [
    "df['gender'].value_counts()"
   ]
  },
  {
   "cell_type": "markdown",
   "id": "8ccf86d3",
   "metadata": {},
   "source": [
    "여성 회원 다수"
   ]
  },
  {
   "cell_type": "markdown",
   "id": "f3652100",
   "metadata": {},
   "source": [
    "## 데이터 EDA"
   ]
  },
  {
   "cell_type": "markdown",
   "id": "aed88d68",
   "metadata": {},
   "source": [
    "### Products 카테고리"
   ]
  },
  {
   "cell_type": "code",
   "execution_count": null,
   "id": "276eef53",
   "metadata": {
    "scrolled": true
   },
   "outputs": [],
   "source": [
    "df_category = df.groupby(['category1_name'])['session_id'].count().sort_values(ascending=False).\\\n",
    "reset_index()\n",
    "\n",
    "#비중\n",
    "for i in range(len(df_category)):\n",
    "    df_category['비중'] = df_category['session_id']/df_category['session_id'].sum() * 100\n",
    "\n",
    "df_category"
   ]
  },
  {
   "cell_type": "code",
   "execution_count": null,
   "id": "0f0249c1",
   "metadata": {},
   "outputs": [],
   "source": [
    "colors = sns.color_palette('hls', len(df_category['category1_name'])) \n",
    "\n",
    "fig = plt.figure(figsize=(10, 10)) \n",
    "fig.set_facecolor('white') \n",
    "ax = fig.add_subplot() \n",
    " \n",
    "pie = ax.pie(df_category['비중'], ## 파이차트 출력\n",
    "       startangle=90, ## 시작점을 90도(degree)로 지정\n",
    "       counterclock=False, ## 시계 방향으로 그린다.\n",
    "       autopct=lambda p : '{:.2f}%'.format(p), \n",
    "       colors = colors\n",
    "       )\n",
    "plt.title('카테고리 비중', fontsize=14)\n",
    "plt.legend(pie[0], df_category['category1_name']) "
   ]
  },
  {
   "cell_type": "code",
   "execution_count": null,
   "id": "8fe8b11c",
   "metadata": {},
   "outputs": [],
   "source": [
    "df1 = df.groupby('category1_name')['session_id'].count()\n",
    "df1"
   ]
  },
  {
   "cell_type": "code",
   "execution_count": null,
   "id": "6ebac99f",
   "metadata": {
    "scrolled": true
   },
   "outputs": [],
   "source": [
    "df3['session_id']"
   ]
  },
  {
   "cell_type": "code",
   "execution_count": null,
   "id": "733a0fe7",
   "metadata": {
    "scrolled": true
   },
   "outputs": [],
   "source": [
    "df3 = df2[df['event_name']=='purchase_success'].set_index('category1_name')\n",
    "for i in range(len(df3)):\n",
    "    df3['세션 당 구매율'] = df3['session_id']/df1\n",
    "df3"
   ]
  },
  {
   "cell_type": "code",
   "execution_count": null,
   "id": "92aee8a4",
   "metadata": {},
   "outputs": [],
   "source": [
    "#유저 당 구매율\n",
    "#유저 한 명이 본 상품 수\n",
    "#유저 당 구매이벤트 / 총 이벤트 수\n",
    "df.groupby('user_no')['events_name'].\n",
    "df.groupby('user_no').sum()"
   ]
  },
  {
   "cell_type": "markdown",
   "id": "a7d59c28",
   "metadata": {},
   "source": [
    "### 코호트 분석"
   ]
  },
  {
   "cell_type": "code",
   "execution_count": null,
   "id": "eb8decc3",
   "metadata": {},
   "outputs": [],
   "source": [
    "#https://workingwithpython.com/pythoncohortanalysis/"
   ]
  },
  {
   "cell_type": "code",
   "execution_count": null,
   "id": "0b1beaac",
   "metadata": {},
   "outputs": [],
   "source": [
    "df['event_timestamp'] = pd.to_datetime(df['event_timestamp'])\n",
    "df.head()"
   ]
  },
  {
   "cell_type": "code",
   "execution_count": null,
   "id": "e0905a41",
   "metadata": {},
   "outputs": [],
   "source": [
    "df['event_timestamp'] = df['event_timestamp'].dt.strftime('%y/%m/%d')"
   ]
  },
  {
   "cell_type": "code",
   "execution_count": null,
   "id": "bab65b09",
   "metadata": {},
   "outputs": [],
   "source": [
    "df.head()"
   ]
  },
  {
   "cell_type": "code",
   "execution_count": null,
   "id": "03ac807d",
   "metadata": {},
   "outputs": [],
   "source": [
    "#유저 - 세션 - 타임스탬프 - 이벤트 네임 \n",
    "CH = df[['user_no', 'session_id', 'event_timestamp', 'event_name']]\n",
    "CH.head()"
   ]
  },
  {
   "cell_type": "code",
   "execution_count": null,
   "id": "ed2cda26",
   "metadata": {},
   "outputs": [],
   "source": [
    "FirstSession = CH.groupby('user_no')['event_timestamp'].min()\n",
    "FirstSession.head()"
   ]
  },
  {
   "cell_type": "code",
   "execution_count": null,
   "id": "9b403c09",
   "metadata": {},
   "outputs": [],
   "source": [
    "FirstSession"
   ]
  },
  {
   "cell_type": "code",
   "execution_count": null,
   "id": "3c9accc4",
   "metadata": {},
   "outputs": [],
   "source": [
    "CH.set_index('user_no', inplace = True)"
   ]
  },
  {
   "cell_type": "code",
   "execution_count": null,
   "id": "ffb594e8",
   "metadata": {},
   "outputs": [],
   "source": [
    "CH['FirstSession']=FirstSession"
   ]
  },
  {
   "cell_type": "code",
   "execution_count": null,
   "id": "710da0a6",
   "metadata": {},
   "outputs": [],
   "source": [
    "CH.reset_index(inplace = True)"
   ]
  },
  {
   "cell_type": "code",
   "execution_count": null,
   "id": "e91de251",
   "metadata": {},
   "outputs": [],
   "source": [
    "grouped = CH.groupby(['FirstSession', 'event_timestamp'])"
   ]
  },
  {
   "cell_type": "code",
   "execution_count": null,
   "id": "ebd9e913",
   "metadata": {},
   "outputs": [],
   "source": [
    "CH1 = grouped['user_no'].nunique()\n",
    "CH1.head(10)"
   ]
  },
  {
   "cell_type": "code",
   "execution_count": null,
   "id": "d476acd5",
   "metadata": {},
   "outputs": [],
   "source": [
    "CH1.reset_index()"
   ]
  },
  {
   "cell_type": "code",
   "execution_count": null,
   "id": "949a9273",
   "metadata": {
    "scrolled": true
   },
   "outputs": [],
   "source": [
    "CH1.rename({'user_no':'TotalUsers'},axis=1,inplace=True)\n",
    "CH1 = CH1.reset_index()"
   ]
  },
  {
   "cell_type": "code",
   "execution_count": null,
   "id": "92cba9a4",
   "metadata": {},
   "outputs": [],
   "source": [
    "CH1"
   ]
  },
  {
   "cell_type": "code",
   "execution_count": null,
   "id": "599b65a3",
   "metadata": {},
   "outputs": [],
   "source": [
    "each_period=CH1['FirstSession'].value_counts().sort_index()\n",
    "each_period"
   ]
  },
  {
   "cell_type": "code",
   "execution_count": null,
   "id": "d9a352de",
   "metadata": {},
   "outputs": [],
   "source": [
    "cohortperiod=[]\n",
    "\n",
    "for x in each_period: \n",
    "    for y in range(x):\n",
    "        cohortperiod.append(y)"
   ]
  },
  {
   "cell_type": "code",
   "execution_count": null,
   "id": "bbe77d46",
   "metadata": {},
   "outputs": [],
   "source": [
    "CH1['CohortPeriod']=cohortperiod\n",
    "CH1.head(20)"
   ]
  },
  {
   "cell_type": "code",
   "execution_count": null,
   "id": "27921f39",
   "metadata": {},
   "outputs": [],
   "source": [
    "CH1.set_index(['FirstSession','CohortPeriod'],inplace=True)\n",
    "CH1.head()"
   ]
  },
  {
   "cell_type": "code",
   "execution_count": null,
   "id": "dfa6e68b",
   "metadata": {},
   "outputs": [],
   "source": [
    "CH1=CH1['user_no'].unstack(1)\n",
    "CH1"
   ]
  },
  {
   "cell_type": "code",
   "execution_count": null,
   "id": "5d9f1f52",
   "metadata": {},
   "outputs": [],
   "source": [
    "CH1[0]"
   ]
  },
  {
   "cell_type": "code",
   "execution_count": null,
   "id": "888b7b0e",
   "metadata": {},
   "outputs": [],
   "source": [
    "user_retention=CH1.divide(CH1[0],axis=0)\n",
    "user_retention"
   ]
  },
  {
   "cell_type": "code",
   "execution_count": null,
   "id": "d33b1b45",
   "metadata": {},
   "outputs": [],
   "source": [
    "plt.figure(figsize=(200, 100))\n",
    "plt.title('Cohort Analysis', fontsize=20)\n",
    "sns.heatmap(user_retention, annot=True, annot_kws ={'size' : 20}, fmt='.0%', vmin=0, vmax=0.3)\n",
    "plt.savefig('Cohort pic')\n",
    "plt.show()\n"
   ]
  },
  {
   "cell_type": "markdown",
   "id": "b996fbbf",
   "metadata": {},
   "source": [
    "### 세션 분석"
   ]
  },
  {
   "cell_type": "code",
   "execution_count": null,
   "id": "97782f94",
   "metadata": {
    "scrolled": true
   },
   "outputs": [],
   "source": [
    "df['event_timestamp']"
   ]
  },
  {
   "cell_type": "code",
   "execution_count": null,
   "id": "d05d75a7",
   "metadata": {
    "scrolled": true
   },
   "outputs": [],
   "source": [
    "session = df['event_timestamp'].dt.strftime('%H:%M:%S')"
   ]
  },
  {
   "cell_type": "code",
   "execution_count": null,
   "id": "04ab3245",
   "metadata": {},
   "outputs": [],
   "source": [
    "session = session.sort_values()\n",
    "session"
   ]
  },
  {
   "cell_type": "code",
   "execution_count": null,
   "id": "5d891627",
   "metadata": {},
   "outputs": [],
   "source": [
    "session_0 = session[session=='00:00:00']"
   ]
  },
  {
   "cell_type": "code",
   "execution_count": null,
   "id": "9067d574",
   "metadata": {},
   "outputs": [],
   "source": [
    "session_0.value_counts()"
   ]
  },
  {
   "cell_type": "markdown",
   "id": "53d4578c",
   "metadata": {},
   "source": [
    "### 세션 대비 구매율"
   ]
  },
  {
   "cell_type": "code",
   "execution_count": null,
   "id": "12140bc4",
   "metadata": {},
   "outputs": [],
   "source": [
    "#session 중복 제거 - "
   ]
  },
  {
   "cell_type": "code",
   "execution_count": null,
   "id": "3fd322eb",
   "metadata": {
    "scrolled": true
   },
   "outputs": [],
   "source": [
    "df.groupby(['user_no','session_id'])['event_name'].count()"
   ]
  },
  {
   "cell_type": "code",
   "execution_count": null,
   "id": "9e98a3e8",
   "metadata": {},
   "outputs": [],
   "source": [
    "#일단 세션 중복 날려서 유저 당 세션 수 구하기\n",
    "df_drop_duplicate = df['session_id'].drop_duplicates()\n",
    "df_drop_duplicate"
   ]
  },
  {
   "cell_type": "code",
   "execution_count": null,
   "id": "3c7ac672",
   "metadata": {},
   "outputs": [],
   "source": [
    "#session 중복 제거된 값\n",
    "df_drop_duplicate = df[['user_no','session_id']]\n",
    "df_drop_duplicate = df_drop_duplicate.drop_duplicates()"
   ]
  },
  {
   "cell_type": "code",
   "execution_count": null,
   "id": "c64fb021",
   "metadata": {},
   "outputs": [],
   "source": [
    "#사용자별 세션 수\n",
    "drop_session = df_drop_duplicate.groupby('user_no')['session_id'].count()"
   ]
  },
  {
   "cell_type": "code",
   "execution_count": null,
   "id": "fd81ccfe",
   "metadata": {},
   "outputs": [],
   "source": [
    "#purchase 수\n",
    "purchase = df[df['event_name']=='purchase_success']\n",
    "#df 5880407 / purchase = 465253"
   ]
  },
  {
   "cell_type": "code",
   "execution_count": null,
   "id": "9496ceb2",
   "metadata": {},
   "outputs": [],
   "source": [
    "purchase_session = purchase.groupby('user_no')['session_id'].count()"
   ]
  },
  {
   "cell_type": "code",
   "execution_count": null,
   "id": "9a9e54d9",
   "metadata": {},
   "outputs": [],
   "source": [
    "purchase_session = purchase_session.reset_index()"
   ]
  },
  {
   "cell_type": "code",
   "execution_count": null,
   "id": "cc475dd3",
   "metadata": {},
   "outputs": [],
   "source": [
    "purchase_session.columns = ['user_no', 'purchase_success']"
   ]
  },
  {
   "cell_type": "code",
   "execution_count": null,
   "id": "ebd26096",
   "metadata": {},
   "outputs": [],
   "source": [
    "User_drop_duplicate = pd.merge(purchase_session, drop_session, how='outer', on = 'user_no')"
   ]
  },
  {
   "cell_type": "code",
   "execution_count": null,
   "id": "b3cd5bf9",
   "metadata": {},
   "outputs": [],
   "source": [
    "User_drop_duplicate['세션 당 구매'] = User_drop_duplicate['purchase_success']/User_drop_duplicate['session_id']*100"
   ]
  },
  {
   "cell_type": "code",
   "execution_count": null,
   "id": "f062ea25",
   "metadata": {},
   "outputs": [],
   "source": [
    "#유저 당 구매 횟수, 세션 수, 세션 당 구매(%)\n",
    "User_drop_duplicate.head()"
   ]
  },
  {
   "cell_type": "code",
   "execution_count": null,
   "id": "58e931d1",
   "metadata": {},
   "outputs": [],
   "source": [
    "User_drop_duplicate.sort_values(by = '세션 당 구매', ascending=False).head()"
   ]
  },
  {
   "cell_type": "code",
   "execution_count": null,
   "id": "f892f654",
   "metadata": {},
   "outputs": [],
   "source": [
    "User_drop_duplicate.sort_values(by = 'session_id', ascending=False).head()"
   ]
  },
  {
   "cell_type": "code",
   "execution_count": null,
   "id": "ac11c211",
   "metadata": {},
   "outputs": [],
   "source": [
    "User_drop_duplicate.sort_values(by = 'purchase_success', ascending=False).head()"
   ]
  },
  {
   "cell_type": "code",
   "execution_count": null,
   "id": "7c5dc2dc",
   "metadata": {},
   "outputs": [],
   "source": [
    "User_drop_duplicate.describe()"
   ]
  },
  {
   "cell_type": "markdown",
   "id": "d83cae55",
   "metadata": {},
   "source": [
    "## RFM 분석 - Monetary"
   ]
  },
  {
   "cell_type": "code",
   "execution_count": 171,
   "id": "4551ef43",
   "metadata": {},
   "outputs": [
    {
     "data": {
      "text/plain": [
       "user_no                   session_id                        event_name      \n",
       "+++T9c17sr6wEYOy9UFv3w==  1679091c5a880faf6fb5e6087eb1b2dc  like_item           1\n",
       "                          8f14e45fceea167a5a36dedd4bea2543  like_item           1\n",
       "                          a87ff679a2f3e71d9181a67b7542122c  add_to_cart         1\n",
       "                                                            click_item          1\n",
       "                          c4ca4238a0b923820dcc509a6f75849b  purchase_success    1\n",
       "                                                                               ..\n",
       "zzxlG1wzPCGvsW0SlOleDg==  2afffa6a9f1e44c3fa8d7a6f320cd59c  click_item          1\n",
       "zzzTNW8escss3zrnpuGMhQ==  1a5794d7d2b6ab6321ee060c679a6ab6  add_to_cart         1\n",
       "zzzWx+6Z3L2IRJBTgvBs5g==  23b97dc3b2fc80c1924d28c53164351a  purchase_success    1\n",
       "                          384b39b543032d5211fc47821c26a837  click_item          1\n",
       "                          ba26b3c58cb9a591d68ad8fb78b468f7  purchase_success    2\n",
       "Name: item_name, Length: 1656678, dtype: int64"
      ]
     },
     "execution_count": 171,
     "metadata": {},
     "output_type": "execute_result"
    }
   ],
   "source": [
    "#유저 별 셋션 당 아이템\n",
    "df.groupby(['user_no','session_id','event_name'])['item_name'].count()"
   ]
  },
  {
   "cell_type": "code",
   "execution_count": 172,
   "id": "4067d92e",
   "metadata": {},
   "outputs": [],
   "source": [
    "user_monetary = df.groupby(['user_no','session_id','event_name'])['price'].sum()"
   ]
  },
  {
   "cell_type": "code",
   "execution_count": 173,
   "id": "8566ef73",
   "metadata": {},
   "outputs": [],
   "source": [
    "user_monetary = user_monetary.reset_index()"
   ]
  },
  {
   "cell_type": "code",
   "execution_count": 174,
   "id": "ffaa2e5a",
   "metadata": {
    "scrolled": true
   },
   "outputs": [],
   "source": [
    "user_monetary_purchase = user_monetary[user_monetary['event_name']=='purchase_success']"
   ]
  },
  {
   "cell_type": "code",
   "execution_count": 175,
   "id": "35f11362",
   "metadata": {},
   "outputs": [],
   "source": [
    "user_monetary = user_monetary_purchase.groupby('user_no')['price'].sum()"
   ]
  },
  {
   "cell_type": "code",
   "execution_count": 176,
   "id": "04d77ef0",
   "metadata": {},
   "outputs": [
    {
     "data": {
      "text/plain": [
       "user_no\n",
       "b2xZVfUtjyGsZckO7j6zkg==   29726100.00\n",
       "anAN3a+fvEnnvFdQ61+Egw==   22966700.00\n",
       "pywOPeCTmJKudBVHC1/5iw==   11035900.00\n",
       "b/lqkmii6O9hL/CH0kWgLA==   10094000.00\n",
       "8j/l4DjsSqXcIR9r5GAmLQ==   10068900.00\n",
       "                               ...    \n",
       "zsIsMbNoIc4xEmZenh3B3w==        600.00\n",
       "N1KCZiTobZBss1eWO2iSaA==        500.00\n",
       "b92MPzK5El3jMdyexHEcwA==        500.00\n",
       "yHqaSnz/MQRtTX8TRSQ/yA==          0.00\n",
       "6ir2ttlfekzXxidzH6Gu3A==          0.00\n",
       "Name: price, Length: 146904, dtype: float64"
      ]
     },
     "execution_count": 176,
     "metadata": {},
     "output_type": "execute_result"
    }
   ],
   "source": [
    "#고객당 구매 금액\n",
    "user_monetary.sort_values(ascending = False)"
   ]
  },
  {
   "cell_type": "code",
   "execution_count": 177,
   "id": "b1bc372b",
   "metadata": {},
   "outputs": [],
   "source": [
    "user_monetary = user_monetary.reset_index()"
   ]
  },
  {
   "cell_type": "code",
   "execution_count": 16,
   "id": "8e19cf1f",
   "metadata": {},
   "outputs": [
    {
     "data": {
      "image/png": "[encoded data removed]",
      "text/plain": [
       "<Figure size 288x504 with 1 Axes>"
      ]
     },
     "metadata": {
      "needs_background": "light"
     },
     "output_type": "display_data"
    }
   ],
   "source": [
    "# boxplot 세로 그래프\n",
    "plt.figure(figsize = (4, 7))\n",
    "sns.boxplot(y = 'price', data = user_monetary)\n",
    "plt.title('vertical graph', size = 15)\n",
    "plt.show()"
   ]
  },
  {
   "cell_type": "markdown",
   "id": "98c49492",
   "metadata": {},
   "source": [
    "**소수 유저의 구매 금액이 이상치 급으로 큰 것을 확인**"
   ]
  },
  {
   "cell_type": "code",
   "execution_count": 106,
   "id": "1bc236bd",
   "metadata": {},
   "outputs": [
    {
     "name": "stdout",
     "output_type": "stream",
     "text": [
      "Q1:  49000.0\n",
      "Q2:  100499.5\n",
      "Q3:  216500.0\n",
      "Q4:  29726100.0\n"
     ]
    }
   ],
   "source": [
    "#4 Quantile\n",
    "num = user_monetary['price']\n",
    "Q1 = num.quantile(.25)\n",
    "Q3 = num.quantile(.75)\n",
    "IQR = Q3 - Q1\n",
    "Q2 = num.quantile(.5)\n",
    "Q4 = num.quantile(1)\n",
    "\n",
    "print('Q1: ', Q1)\n",
    "print('Q2: ', Q2)\n",
    "print('Q3: ', Q3)\n",
    "print('Q4: ', Q4)"
   ]
  },
  {
   "cell_type": "code",
   "execution_count": 178,
   "id": "c922f764",
   "metadata": {},
   "outputs": [],
   "source": [
    "# percentile\n",
    "num_m = user_monetary['price']\n",
    "\n",
    "P1 = np.percentile(num_m, 10, interpolation = 'nearest')\n",
    "P2 = np.percentile(num_m, 20, interpolation = 'nearest')\n",
    "P3 = np.percentile(num_m, 30, interpolation = 'nearest')\n",
    "P4 = np.percentile(num_m, 40, interpolation = 'nearest')\n",
    "P5 = np.percentile(num_m, 50, interpolation = 'nearest')\n",
    "P6 = np.percentile(num_m, 60, interpolation = 'nearest')\n",
    "P7 = np.percentile(num_m, 70, interpolation = 'nearest')\n",
    "P8 = np.percentile(num_m, 80, interpolation = 'nearest')\n",
    "P9 = np.percentile(num_m, 90, interpolation = 'nearest')"
   ]
  },
  {
   "cell_type": "code",
   "execution_count": 179,
   "id": "8d9cbda2",
   "metadata": {},
   "outputs": [],
   "source": [
    "user_monetary['monetary'] = \"\""
   ]
  },
  {
   "cell_type": "code",
   "execution_count": 180,
   "id": "a1a35157",
   "metadata": {},
   "outputs": [],
   "source": [
    "def monetary(x):\n",
    "    if x > P9 :\n",
    "        return 10\n",
    "    \n",
    "    elif x > P8 :\n",
    "        return 9\n",
    "    \n",
    "    elif x > P7 :\n",
    "        return 8\n",
    "    \n",
    "    elif x > P6 :\n",
    "        return 7\n",
    "    \n",
    "    elif x > P5 :\n",
    "        return 6\n",
    "    \n",
    "    elif x > P4 :\n",
    "        return 5\n",
    "    \n",
    "    elif x > P3 :\n",
    "        return 4\n",
    "    \n",
    "    elif x > P2 :\n",
    "        return 3\n",
    "    \n",
    "    elif x > P1 :\n",
    "        return 2\n",
    "    else:\n",
    "        return 1"
   ]
  },
  {
   "cell_type": "code",
   "execution_count": 181,
   "id": "df53b209",
   "metadata": {},
   "outputs": [],
   "source": [
    "user_monetary['monetary'] = user_monetary['price'].apply(monetary)"
   ]
  },
  {
   "cell_type": "code",
   "execution_count": null,
   "id": "a16e8747",
   "metadata": {},
   "outputs": [],
   "source": [
    "# #monetary 를 10분위로 점수 부여\n",
    "# for i in range(0, len(user_monetary['monetary'])):\n",
    "#     if user_monetary['price'][i] > P9 :\n",
    "#         user_monetary['monetary'][i] = 10\n",
    "#     elif user_monetary['price'][i] > P8 :\n",
    "#         user_monetary['monetary'][i] = 9\n",
    "#     elif user_monetary['price'][i] > P7 :\n",
    "#         user_monetary['monetary'][i] = 8\n",
    "#     elif user_monetary['price'][i] > P6 :\n",
    "#         user_monetary['monetary'][i] = 7\n",
    "#     elif user_monetary['price'][i] > P5 :\n",
    "#         user_monetary['monetary'][i] = 6\n",
    "#     elif user_monetary['price'][i] > P4 :\n",
    "#         user_monetary['monetary'][i] = 5\n",
    "#     elif user_monetary['price'][i] > P3 :\n",
    "#         user_monetary['monetary'][i] = 4\n",
    "#     elif user_monetary['price'][i] > P2 :\n",
    "#         user_monetary['monetary'][i] = 3\n",
    "#     elif user_monetary['price'][i] > P1 :\n",
    "#         user_monetary['monetary'][i] = 2\n",
    "#     else:\n",
    "#         user_monetary['monetary'][i] = 1"
   ]
  },
  {
   "cell_type": "code",
   "execution_count": null,
   "id": "64347065",
   "metadata": {},
   "outputs": [],
   "source": [
    "# #monetary 를 4분위로 점수 부여\n",
    "# for i in range(1, len(user_monetary['monetary'])):\n",
    "#     if user_monetary['price'][i] > Q3 :\n",
    "#         user_monetary['monetary'][i] = 4\n",
    "#     elif user_monetary['price'][i] > Q2:\n",
    "#         user_monetary['monetary'][i] = 3\n",
    "#     elif user_monetary['price'][i] > Q1:\n",
    "#         user_monetary['monetary'][i] = 2\n",
    "#     else:\n",
    "#         user_monetary['monetary'][i] = 1"
   ]
  },
  {
   "cell_type": "code",
   "execution_count": 182,
   "id": "098a97c2",
   "metadata": {},
   "outputs": [
    {
     "data": {
      "text/html": [
       "<div>\n",
       "<style scoped>\n",
       "    .dataframe tbody tr th:only-of-type {\n",
       "        vertical-align: middle;\n",
       "    }\n",
       "\n",
       "    .dataframe tbody tr th {\n",
       "        vertical-align: top;\n",
       "    }\n",
       "\n",
       "    .dataframe thead th {\n",
       "        text-align: right;\n",
       "    }\n",
       "</style>\n",
       "<table border=\"1\" class=\"dataframe\">\n",
       "  <thead>\n",
       "    <tr style=\"text-align: right;\">\n",
       "      <th></th>\n",
       "      <th>user_no</th>\n",
       "      <th>price</th>\n",
       "      <th>monetary</th>\n",
       "    </tr>\n",
       "  </thead>\n",
       "  <tbody>\n",
       "    <tr>\n",
       "      <th>0</th>\n",
       "      <td>+++T9c17sr6wEYOy9UFv3w==</td>\n",
       "      <td>274500.00</td>\n",
       "      <td>9</td>\n",
       "    </tr>\n",
       "    <tr>\n",
       "      <th>1</th>\n",
       "      <td>+++aQH5NnhiU/9qECKk3uQ==</td>\n",
       "      <td>163000.00</td>\n",
       "      <td>7</td>\n",
       "    </tr>\n",
       "    <tr>\n",
       "      <th>2</th>\n",
       "      <td>++0bwiYVJ/TAsCpxI4UCuw==</td>\n",
       "      <td>88000.00</td>\n",
       "      <td>5</td>\n",
       "    </tr>\n",
       "    <tr>\n",
       "      <th>3</th>\n",
       "      <td>++1HN9s1imztN8ftPCt3LA==</td>\n",
       "      <td>16800.00</td>\n",
       "      <td>1</td>\n",
       "    </tr>\n",
       "    <tr>\n",
       "      <th>4</th>\n",
       "      <td>++2StXdzG0Bj/Kkb5EFcog==</td>\n",
       "      <td>25900.00</td>\n",
       "      <td>1</td>\n",
       "    </tr>\n",
       "  </tbody>\n",
       "</table>\n",
       "</div>"
      ],
      "text/plain": [
       "                    user_no     price  monetary\n",
       "0  +++T9c17sr6wEYOy9UFv3w== 274500.00         9\n",
       "1  +++aQH5NnhiU/9qECKk3uQ== 163000.00         7\n",
       "2  ++0bwiYVJ/TAsCpxI4UCuw==  88000.00         5\n",
       "3  ++1HN9s1imztN8ftPCt3LA==  16800.00         1\n",
       "4  ++2StXdzG0Bj/Kkb5EFcog==  25900.00         1"
      ]
     },
     "execution_count": 182,
     "metadata": {},
     "output_type": "execute_result"
    }
   ],
   "source": [
    "user_monetary.head()"
   ]
  },
  {
   "cell_type": "code",
   "execution_count": null,
   "id": "79d47aa4",
   "metadata": {},
   "outputs": [],
   "source": [
    "# for index, row in user_sales.iterrows():\n",
    "#     if row.price > Q3:\n",
    "#         df.loc[index, 'monetary'] = 4\n",
    "#     elif row.price > Q2:\n",
    "#         df.loc[index, 'monetary'] = 3\n",
    "#     elif row.price > Q1:\n",
    "#         df.loc[index, 'monetary'] = 2\n",
    "#     else:\n",
    "#         df.loc[index, 'monetary'] = 1"
   ]
  },
  {
   "cell_type": "code",
   "execution_count": 183,
   "id": "31fec407",
   "metadata": {},
   "outputs": [
    {
     "data": {
      "text/plain": [
       "2     16647\n",
       "1     14895\n",
       "6     14888\n",
       "8     14723\n",
       "10    14689\n",
       "9     14653\n",
       "7     14486\n",
       "4     14445\n",
       "5     13766\n",
       "3     13712\n",
       "Name: monetary, dtype: int64"
      ]
     },
     "execution_count": 183,
     "metadata": {},
     "output_type": "execute_result"
    }
   ],
   "source": [
    "#점수 별 수\n",
    "user_monetary['monetary'].value_counts()"
   ]
  },
  {
   "cell_type": "markdown",
   "id": "e2f20847",
   "metadata": {},
   "source": [
    "## RFM 분석 - Frequency"
   ]
  },
  {
   "cell_type": "code",
   "execution_count": 185,
   "id": "162c94da",
   "metadata": {},
   "outputs": [],
   "source": [
    "#구매 빈도 구하기\n",
    "#구매한 고객 user_no, session_id 가져오기\n",
    "user_frequency = df[df['event_name']=='purchase_success'][['user_no', 'session_id']]"
   ]
  },
  {
   "cell_type": "code",
   "execution_count": 186,
   "id": "39545c83",
   "metadata": {},
   "outputs": [],
   "source": [
    "user_frequency.drop_duplicates(['session_id'], inplace = True)"
   ]
  },
  {
   "cell_type": "code",
   "execution_count": 187,
   "id": "19aa37c4",
   "metadata": {},
   "outputs": [],
   "source": [
    "user_frequency = user_frequency.groupby('user_no')['session_id'].count().reset_index()\n"
   ]
  },
  {
   "cell_type": "code",
   "execution_count": 188,
   "id": "9641a62c",
   "metadata": {},
   "outputs": [
    {
     "data": {
      "text/plain": [
       "1     96029\n",
       "2     27029\n",
       "3     11030\n",
       "4      5546\n",
       "5      2891\n",
       "6      1642\n",
       "7       987\n",
       "8       590\n",
       "9       359\n",
       "10      248\n",
       "11      134\n",
       "12      101\n",
       "13       68\n",
       "14       56\n",
       "15       36\n",
       "16       34\n",
       "17       18\n",
       "18       21\n",
       "19       16\n",
       "20        8\n",
       "21        9\n",
       "22        6\n",
       "23        4\n",
       "24        7\n",
       "25        6\n",
       "26        4\n",
       "27        3\n",
       "29        2\n",
       "30        2\n",
       "31        2\n",
       "32        3\n",
       "33        1\n",
       "34        3\n",
       "35        1\n",
       "38        1\n",
       "40        1\n",
       "41        1\n",
       "42        1\n",
       "54        1\n",
       "69        1\n",
       "90        1\n",
       "99        1\n",
       "Name: session_id, dtype: int64"
      ]
     },
     "execution_count": 188,
     "metadata": {},
     "output_type": "execute_result"
    }
   ],
   "source": [
    "#구매 빈도\n",
    "user_frequency['session_id'].value_counts().sort_index()"
   ]
  },
  {
   "cell_type": "code",
   "execution_count": 189,
   "id": "dbe8f57a",
   "metadata": {},
   "outputs": [],
   "source": [
    "user_frequency['frequency'] = \"\""
   ]
  },
  {
   "cell_type": "code",
   "execution_count": 190,
   "id": "3014dff4",
   "metadata": {},
   "outputs": [
    {
     "data": {
      "text/html": [
       "<div>\n",
       "<style scoped>\n",
       "    .dataframe tbody tr th:only-of-type {\n",
       "        vertical-align: middle;\n",
       "    }\n",
       "\n",
       "    .dataframe tbody tr th {\n",
       "        vertical-align: top;\n",
       "    }\n",
       "\n",
       "    .dataframe thead th {\n",
       "        text-align: right;\n",
       "    }\n",
       "</style>\n",
       "<table border=\"1\" class=\"dataframe\">\n",
       "  <thead>\n",
       "    <tr style=\"text-align: right;\">\n",
       "      <th></th>\n",
       "      <th>user_no</th>\n",
       "      <th>session_id</th>\n",
       "      <th>frequency</th>\n",
       "    </tr>\n",
       "  </thead>\n",
       "  <tbody>\n",
       "    <tr>\n",
       "      <th>0</th>\n",
       "      <td>+++T9c17sr6wEYOy9UFv3w==</td>\n",
       "      <td>4</td>\n",
       "      <td></td>\n",
       "    </tr>\n",
       "    <tr>\n",
       "      <th>1</th>\n",
       "      <td>+++aQH5NnhiU/9qECKk3uQ==</td>\n",
       "      <td>2</td>\n",
       "      <td></td>\n",
       "    </tr>\n",
       "    <tr>\n",
       "      <th>2</th>\n",
       "      <td>++0bwiYVJ/TAsCpxI4UCuw==</td>\n",
       "      <td>1</td>\n",
       "      <td></td>\n",
       "    </tr>\n",
       "    <tr>\n",
       "      <th>3</th>\n",
       "      <td>++1HN9s1imztN8ftPCt3LA==</td>\n",
       "      <td>1</td>\n",
       "      <td></td>\n",
       "    </tr>\n",
       "    <tr>\n",
       "      <th>4</th>\n",
       "      <td>++2StXdzG0Bj/Kkb5EFcog==</td>\n",
       "      <td>1</td>\n",
       "      <td></td>\n",
       "    </tr>\n",
       "  </tbody>\n",
       "</table>\n",
       "</div>"
      ],
      "text/plain": [
       "                    user_no  session_id frequency\n",
       "0  +++T9c17sr6wEYOy9UFv3w==           4          \n",
       "1  +++aQH5NnhiU/9qECKk3uQ==           2          \n",
       "2  ++0bwiYVJ/TAsCpxI4UCuw==           1          \n",
       "3  ++1HN9s1imztN8ftPCt3LA==           1          \n",
       "4  ++2StXdzG0Bj/Kkb5EFcog==           1          "
      ]
     },
     "execution_count": 190,
     "metadata": {},
     "output_type": "execute_result"
    }
   ],
   "source": [
    "user_frequency.head()"
   ]
  },
  {
   "cell_type": "code",
   "execution_count": 191,
   "id": "c4870f60",
   "metadata": {},
   "outputs": [],
   "source": [
    "def frequency(x):\n",
    "    if x == 1 :\n",
    "        return 2.5\n",
    "    \n",
    "    elif x <= 3 :\n",
    "        return 5\n",
    "    \n",
    "    elif x<= 7 :\n",
    "        return 7.5\n",
    "    \n",
    "    else:\n",
    "        return 10"
   ]
  },
  {
   "cell_type": "code",
   "execution_count": 192,
   "id": "17f64725",
   "metadata": {},
   "outputs": [],
   "source": [
    "user_frequency['frequency'] = user_frequency['session_id'].apply(frequency)"
   ]
  },
  {
   "cell_type": "code",
   "execution_count": null,
   "id": "570b96d0",
   "metadata": {},
   "outputs": [],
   "source": [
    "# # frequency 점수 부여\n",
    "# for i in range(0, len(user_frequency['frequency'])):\n",
    "#     if user_frequency['session_id'][i] == 1:\n",
    "#         user_frequency['frequency'][i] = 2.5\n",
    "#     elif user_frequency['session_id'][i] <= 3 :\n",
    "#         user_frequency['frequency'][i] = 5\n",
    "#     elif user_frequency['session_id'][i] <= 7 :\n",
    "#         user_frequency['frequency'][i] = 7.5\n",
    "#     else:\n",
    "#         user_frequency['frequency'][i] = 10"
   ]
  },
  {
   "cell_type": "code",
   "execution_count": null,
   "id": "a5bd888d",
   "metadata": {},
   "outputs": [],
   "source": [
    "# # percentile\n",
    "# num_f = user_frequency['session_id']\n",
    "\n",
    "# P1 = np.percentile(num_f, 10, interpolation = 'nearest')\n",
    "# P2 = np.percentile(num_f, 20, interpolation = 'nearest')\n",
    "# P3 = np.percentile(num_f, 30, interpolation = 'nearest')\n",
    "# P4 = np.percentile(num_f, 40, interpolation = 'nearest')\n",
    "# P5 = np.percentile(num_f, 50, interpolation = 'nearest')\n",
    "# P6 = np.percentile(num_f, 60, interpolation = 'nearest')\n",
    "# P7 = np.percentile(num_f, 70, interpolation = 'nearest')\n",
    "# P8 = np.percentile(num_f, 80, interpolation = 'nearest')\n",
    "# P9 = np.percentile(num_f, 90, interpolation = 'nearest')"
   ]
  },
  {
   "cell_type": "code",
   "execution_count": null,
   "id": "233d05f0",
   "metadata": {},
   "outputs": [],
   "source": [
    "# #frequency 를 10분위로 점수 부여\n",
    "# for i in range(1, len(user_frequency['session_id'])):\n",
    "#     if user_frequency['session_id'][i] > P9 :\n",
    "#         user_frequency['frequency'][i] = 10\n",
    "#     elif user_frequency['session_id'][i] > P8 :\n",
    "#         user_frequency['frequency'][i] = 9\n",
    "#     elif user_frequency['session_id'][i] > P7 :\n",
    "#         user_frequency['frequency'][i] = 8\n",
    "#     elif user_frequency['session_id'][i] > P6 :\n",
    "#         user_frequency['frequency'][i] = 7\n",
    "#     elif user_frequency['session_id'][i] > P5 :\n",
    "#         user_frequency['frequency'][i] = 6\n",
    "#     elif user_frequency['session_id'][i] > P4 :\n",
    "#         user_frequency['frequency'][i] = 5\n",
    "#     elif user_frequency['session_id'][i] > P3 :\n",
    "#         user_frequency['frequency'][i] = 4\n",
    "#     elif user_frequency['session_id'][i] > P2 :\n",
    "#         user_frequency['frequency'][i] = 3\n",
    "#     elif user_frequency['session_id'][i] > P1 :\n",
    "#         user_frequency['frequency'][i] = 2\n",
    "#     else:\n",
    "#         user_frequency['frequency'][i] = 1"
   ]
  },
  {
   "cell_type": "code",
   "execution_count": null,
   "id": "1daa43d4",
   "metadata": {},
   "outputs": [],
   "source": [
    "# for i in range(1, 146905):\n",
    "#     if df_Frequency['Frequency_purchase'][i] == 1:\n",
    "#         df_Frequency['F_Score'][i] = 1\n",
    "#     elif df_Frequency['Frequency_purchase'][i] <= 3:\n",
    "#         df_Frequency['F_Score'][i] = 2\n",
    "#     elif df_Frequency['Frequency_purchase'][i] <= 10:\n",
    "#         df_Frequency['F_Score'][i] = 3\n",
    "#     else:\n",
    "#         df_Frequency['F_Score'][i] = 4"
   ]
  },
  {
   "cell_type": "code",
   "execution_count": 193,
   "id": "2e63d90e",
   "metadata": {
    "scrolled": false
   },
   "outputs": [
    {
     "data": {
      "text/plain": [
       "2.50     96029\n",
       "5.00     38059\n",
       "7.50     11066\n",
       "10.00     1750\n",
       "Name: frequency, dtype: int64"
      ]
     },
     "execution_count": 193,
     "metadata": {},
     "output_type": "execute_result"
    }
   ],
   "source": [
    "user_frequency['frequency'].value_counts()"
   ]
  },
  {
   "cell_type": "markdown",
   "id": "ee82a16e",
   "metadata": {},
   "source": [
    "## RFM 분석 - Recency"
   ]
  },
  {
   "cell_type": "code",
   "execution_count": 194,
   "id": "298e2870",
   "metadata": {},
   "outputs": [],
   "source": [
    "user_recency = df[df['event_name']=='purchase_success'][['session_id', 'user_no', 'event_timestamp', 'event_name']]"
   ]
  },
  {
   "cell_type": "code",
   "execution_count": 195,
   "id": "07c134b5",
   "metadata": {},
   "outputs": [
    {
     "data": {
      "text/html": [
       "<div>\n",
       "<style scoped>\n",
       "    .dataframe tbody tr th:only-of-type {\n",
       "        vertical-align: middle;\n",
       "    }\n",
       "\n",
       "    .dataframe tbody tr th {\n",
       "        vertical-align: top;\n",
       "    }\n",
       "\n",
       "    .dataframe thead th {\n",
       "        text-align: right;\n",
       "    }\n",
       "</style>\n",
       "<table border=\"1\" class=\"dataframe\">\n",
       "  <thead>\n",
       "    <tr style=\"text-align: right;\">\n",
       "      <th></th>\n",
       "      <th>session_id</th>\n",
       "      <th>user_no</th>\n",
       "      <th>event_timestamp</th>\n",
       "      <th>event_name</th>\n",
       "    </tr>\n",
       "  </thead>\n",
       "  <tbody>\n",
       "    <tr>\n",
       "      <th>40</th>\n",
       "      <td>cddf65caad5fe0da36ceaeaf6ecc7d45</td>\n",
       "      <td>l1wFRhb3av5rTWyYEofrIA==</td>\n",
       "      <td>2021-07-22 09:06:32.310004</td>\n",
       "      <td>purchase_success</td>\n",
       "    </tr>\n",
       "    <tr>\n",
       "      <th>49</th>\n",
       "      <td>cddf65caad5fe0da36ceaeaf6ecc7d45</td>\n",
       "      <td>l1wFRhb3av5rTWyYEofrIA==</td>\n",
       "      <td>2021-07-22 09:06:32.312005</td>\n",
       "      <td>purchase_success</td>\n",
       "    </tr>\n",
       "    <tr>\n",
       "      <th>52</th>\n",
       "      <td>16e708ee91a1bd7beb297bf6bad1ddaa</td>\n",
       "      <td>Y5GM63HPuFwrRnvYhDu7sQ==</td>\n",
       "      <td>2021-06-05 16:34:41.511016</td>\n",
       "      <td>purchase_success</td>\n",
       "    </tr>\n",
       "    <tr>\n",
       "      <th>53</th>\n",
       "      <td>16e708ee91a1bd7beb297bf6bad1ddaa</td>\n",
       "      <td>Y5GM63HPuFwrRnvYhDu7sQ==</td>\n",
       "      <td>2021-06-05 16:34:41.511017</td>\n",
       "      <td>purchase_success</td>\n",
       "    </tr>\n",
       "    <tr>\n",
       "      <th>55</th>\n",
       "      <td>62f88dca0928240cc90b285198b43f73</td>\n",
       "      <td>Y5GM63HPuFwrRnvYhDu7sQ==</td>\n",
       "      <td>2021-06-10 20:26:17.230003</td>\n",
       "      <td>purchase_success</td>\n",
       "    </tr>\n",
       "    <tr>\n",
       "      <th>...</th>\n",
       "      <td>...</td>\n",
       "      <td>...</td>\n",
       "      <td>...</td>\n",
       "      <td>...</td>\n",
       "    </tr>\n",
       "    <tr>\n",
       "      <th>5880386</th>\n",
       "      <td>27f0fb7b0a61f8f92fdfd2c73f6b4c72</td>\n",
       "      <td>oh75lIfzKEJ2rFR/iJ/qdA==</td>\n",
       "      <td>2021-08-04 10:23:49.345004</td>\n",
       "      <td>purchase_success</td>\n",
       "    </tr>\n",
       "    <tr>\n",
       "      <th>5880391</th>\n",
       "      <td>27f0fb7b0a61f8f92fdfd2c73f6b4c72</td>\n",
       "      <td>oh75lIfzKEJ2rFR/iJ/qdA==</td>\n",
       "      <td>2021-08-04 10:23:49.346005</td>\n",
       "      <td>purchase_success</td>\n",
       "    </tr>\n",
       "    <tr>\n",
       "      <th>5880394</th>\n",
       "      <td>d5b03d3acb580879f82271ab4885ee5e</td>\n",
       "      <td>+LFNEeZb/856pFisEieEiQ==</td>\n",
       "      <td>2021-08-04 09:07:15.743004</td>\n",
       "      <td>purchase_success</td>\n",
       "    </tr>\n",
       "    <tr>\n",
       "      <th>5880402</th>\n",
       "      <td>9034aefc59c787ca83bd15648e93ad3a</td>\n",
       "      <td>8okJXtYVKYoBoBAG823v2Q==</td>\n",
       "      <td>2021-08-04 11:05:01.281062</td>\n",
       "      <td>purchase_success</td>\n",
       "    </tr>\n",
       "    <tr>\n",
       "      <th>5880404</th>\n",
       "      <td>628dd6aff94d030bfd147b0519677b9c</td>\n",
       "      <td>vrE4nCVISqKLZ59f+eGRfA==</td>\n",
       "      <td>2021-08-04 12:26:44.327071</td>\n",
       "      <td>purchase_success</td>\n",
       "    </tr>\n",
       "  </tbody>\n",
       "</table>\n",
       "<p>465253 rows × 4 columns</p>\n",
       "</div>"
      ],
      "text/plain": [
       "                               session_id                   user_no  \\\n",
       "40       cddf65caad5fe0da36ceaeaf6ecc7d45  l1wFRhb3av5rTWyYEofrIA==   \n",
       "49       cddf65caad5fe0da36ceaeaf6ecc7d45  l1wFRhb3av5rTWyYEofrIA==   \n",
       "52       16e708ee91a1bd7beb297bf6bad1ddaa  Y5GM63HPuFwrRnvYhDu7sQ==   \n",
       "53       16e708ee91a1bd7beb297bf6bad1ddaa  Y5GM63HPuFwrRnvYhDu7sQ==   \n",
       "55       62f88dca0928240cc90b285198b43f73  Y5GM63HPuFwrRnvYhDu7sQ==   \n",
       "...                                   ...                       ...   \n",
       "5880386  27f0fb7b0a61f8f92fdfd2c73f6b4c72  oh75lIfzKEJ2rFR/iJ/qdA==   \n",
       "5880391  27f0fb7b0a61f8f92fdfd2c73f6b4c72  oh75lIfzKEJ2rFR/iJ/qdA==   \n",
       "5880394  d5b03d3acb580879f82271ab4885ee5e  +LFNEeZb/856pFisEieEiQ==   \n",
       "5880402  9034aefc59c787ca83bd15648e93ad3a  8okJXtYVKYoBoBAG823v2Q==   \n",
       "5880404  628dd6aff94d030bfd147b0519677b9c  vrE4nCVISqKLZ59f+eGRfA==   \n",
       "\n",
       "                    event_timestamp        event_name  \n",
       "40       2021-07-22 09:06:32.310004  purchase_success  \n",
       "49       2021-07-22 09:06:32.312005  purchase_success  \n",
       "52       2021-06-05 16:34:41.511016  purchase_success  \n",
       "53       2021-06-05 16:34:41.511017  purchase_success  \n",
       "55       2021-06-10 20:26:17.230003  purchase_success  \n",
       "...                             ...               ...  \n",
       "5880386  2021-08-04 10:23:49.345004  purchase_success  \n",
       "5880391  2021-08-04 10:23:49.346005  purchase_success  \n",
       "5880394  2021-08-04 09:07:15.743004  purchase_success  \n",
       "5880402  2021-08-04 11:05:01.281062  purchase_success  \n",
       "5880404  2021-08-04 12:26:44.327071  purchase_success  \n",
       "\n",
       "[465253 rows x 4 columns]"
      ]
     },
     "execution_count": 195,
     "metadata": {},
     "output_type": "execute_result"
    }
   ],
   "source": [
    "user_recency"
   ]
  },
  {
   "cell_type": "code",
   "execution_count": 196,
   "id": "fba75056",
   "metadata": {},
   "outputs": [],
   "source": [
    "user_recency1 = user_recency.groupby('user_no')['session_id'].count().reset_index()"
   ]
  },
  {
   "cell_type": "code",
   "execution_count": 197,
   "id": "65e13255",
   "metadata": {},
   "outputs": [],
   "source": [
    "user_recency = pd.merge(user_recency, user_recency1, how = 'inner', on = 'user_no')"
   ]
  },
  {
   "cell_type": "code",
   "execution_count": 198,
   "id": "c86faa0f",
   "metadata": {},
   "outputs": [],
   "source": [
    "user_recency.columns=['session_id', 'user_no', 'event_timestamp', 'event_name', 'session_count']"
   ]
  },
  {
   "cell_type": "code",
   "execution_count": 199,
   "id": "31f17fa9",
   "metadata": {},
   "outputs": [],
   "source": [
    "user_recency.set_index('user_no', inplace = True)"
   ]
  },
  {
   "cell_type": "code",
   "execution_count": 200,
   "id": "e135bbfb",
   "metadata": {},
   "outputs": [
    {
     "ename": "AttributeError",
     "evalue": "Can only use .dt accessor with datetimelike values",
     "output_type": "error",
     "traceback": [
      "\u001b[0;31m---------------------------------------------------------------------------\u001b[0m",
      "\u001b[0;31mAttributeError\u001b[0m                            Traceback (most recent call last)",
      "\u001b[0;32m/var/folders/3c/6rc19g3n3p9ctq6gjs0d2c_40000gn/T/ipykernel_22651/2638528289.py\u001b[0m in \u001b[0;36m<module>\u001b[0;34m\u001b[0m\n\u001b[0;32m----> 1\u001b[0;31m \u001b[0muser_recency\u001b[0m\u001b[0;34m[\u001b[0m\u001b[0;34m'event_timestamp'\u001b[0m\u001b[0;34m]\u001b[0m \u001b[0;34m=\u001b[0m \u001b[0muser_recency\u001b[0m\u001b[0;34m[\u001b[0m\u001b[0;34m'event_timestamp'\u001b[0m\u001b[0;34m]\u001b[0m\u001b[0;34m.\u001b[0m\u001b[0mdt\u001b[0m\u001b[0;34m.\u001b[0m\u001b[0mstrftime\u001b[0m\u001b[0;34m(\u001b[0m\u001b[0;34m'%y/%m/%d'\u001b[0m\u001b[0;34m)\u001b[0m\u001b[0;34m\u001b[0m\u001b[0;34m\u001b[0m\u001b[0m\n\u001b[0m",
      "\u001b[0;32m~/opt/anaconda3/lib/python3.9/site-packages/pandas/core/generic.py\u001b[0m in \u001b[0;36m__getattr__\u001b[0;34m(self, name)\u001b[0m\n\u001b[1;32m   5485\u001b[0m         ):\n\u001b[1;32m   5486\u001b[0m             \u001b[0;32mreturn\u001b[0m \u001b[0mself\u001b[0m\u001b[0;34m[\u001b[0m\u001b[0mname\u001b[0m\u001b[0;34m]\u001b[0m\u001b[0;34m\u001b[0m\u001b[0;34m\u001b[0m\u001b[0m\n\u001b[0;32m-> 5487\u001b[0;31m         \u001b[0;32mreturn\u001b[0m \u001b[0mobject\u001b[0m\u001b[0;34m.\u001b[0m\u001b[0m__getattribute__\u001b[0m\u001b[0;34m(\u001b[0m\u001b[0mself\u001b[0m\u001b[0;34m,\u001b[0m \u001b[0mname\u001b[0m\u001b[0;34m)\u001b[0m\u001b[0;34m\u001b[0m\u001b[0;34m\u001b[0m\u001b[0m\n\u001b[0m\u001b[1;32m   5488\u001b[0m \u001b[0;34m\u001b[0m\u001b[0m\n\u001b[1;32m   5489\u001b[0m     \u001b[0;32mdef\u001b[0m \u001b[0m__setattr__\u001b[0m\u001b[0;34m(\u001b[0m\u001b[0mself\u001b[0m\u001b[0;34m,\u001b[0m \u001b[0mname\u001b[0m\u001b[0;34m:\u001b[0m \u001b[0mstr\u001b[0m\u001b[0;34m,\u001b[0m \u001b[0mvalue\u001b[0m\u001b[0;34m)\u001b[0m \u001b[0;34m->\u001b[0m \u001b[0;32mNone\u001b[0m\u001b[0;34m:\u001b[0m\u001b[0;34m\u001b[0m\u001b[0;34m\u001b[0m\u001b[0m\n",
      "\u001b[0;32m~/opt/anaconda3/lib/python3.9/site-packages/pandas/core/accessor.py\u001b[0m in \u001b[0;36m__get__\u001b[0;34m(self, obj, cls)\u001b[0m\n\u001b[1;32m    179\u001b[0m             \u001b[0;31m# we're accessing the attribute of the class, i.e., Dataset.geo\u001b[0m\u001b[0;34m\u001b[0m\u001b[0;34m\u001b[0m\u001b[0m\n\u001b[1;32m    180\u001b[0m             \u001b[0;32mreturn\u001b[0m \u001b[0mself\u001b[0m\u001b[0;34m.\u001b[0m\u001b[0m_accessor\u001b[0m\u001b[0;34m\u001b[0m\u001b[0;34m\u001b[0m\u001b[0m\n\u001b[0;32m--> 181\u001b[0;31m         \u001b[0maccessor_obj\u001b[0m \u001b[0;34m=\u001b[0m \u001b[0mself\u001b[0m\u001b[0;34m.\u001b[0m\u001b[0m_accessor\u001b[0m\u001b[0;34m(\u001b[0m\u001b[0mobj\u001b[0m\u001b[0;34m)\u001b[0m\u001b[0;34m\u001b[0m\u001b[0;34m\u001b[0m\u001b[0m\n\u001b[0m\u001b[1;32m    182\u001b[0m         \u001b[0;31m# Replace the property with the accessor object. Inspired by:\u001b[0m\u001b[0;34m\u001b[0m\u001b[0;34m\u001b[0m\u001b[0m\n\u001b[1;32m    183\u001b[0m         \u001b[0;31m# https://www.pydanny.com/cached-property.html\u001b[0m\u001b[0;34m\u001b[0m\u001b[0;34m\u001b[0m\u001b[0m\n",
      "\u001b[0;32m~/opt/anaconda3/lib/python3.9/site-packages/pandas/core/indexes/accessors.py\u001b[0m in \u001b[0;36m__new__\u001b[0;34m(cls, data)\u001b[0m\n\u001b[1;32m    504\u001b[0m             \u001b[0;32mreturn\u001b[0m \u001b[0mPeriodProperties\u001b[0m\u001b[0;34m(\u001b[0m\u001b[0mdata\u001b[0m\u001b[0;34m,\u001b[0m \u001b[0morig\u001b[0m\u001b[0;34m)\u001b[0m\u001b[0;34m\u001b[0m\u001b[0;34m\u001b[0m\u001b[0m\n\u001b[1;32m    505\u001b[0m \u001b[0;34m\u001b[0m\u001b[0m\n\u001b[0;32m--> 506\u001b[0;31m         \u001b[0;32mraise\u001b[0m \u001b[0mAttributeError\u001b[0m\u001b[0;34m(\u001b[0m\u001b[0;34m\"Can only use .dt accessor with datetimelike values\"\u001b[0m\u001b[0;34m)\u001b[0m\u001b[0;34m\u001b[0m\u001b[0;34m\u001b[0m\u001b[0m\n\u001b[0m",
      "\u001b[0;31mAttributeError\u001b[0m: Can only use .dt accessor with datetimelike values"
     ]
    }
   ],
   "source": [
    "user_recency['event_timestamp'] = user_recency['event_timestamp'].dt.strftime('%y/%m/%d')"
   ]
  },
  {
   "cell_type": "code",
   "execution_count": null,
   "id": "5c24d5cd",
   "metadata": {},
   "outputs": [],
   "source": [
    "user_recency.head()"
   ]
  },
  {
   "cell_type": "code",
   "execution_count": 201,
   "id": "597a1881",
   "metadata": {
    "scrolled": true
   },
   "outputs": [],
   "source": [
    "user_recency = user_recency.groupby('user_no')['event_timestamp'].max().reset_index()"
   ]
  },
  {
   "cell_type": "code",
   "execution_count": 202,
   "id": "0bddc99b",
   "metadata": {},
   "outputs": [
    {
     "data": {
      "text/html": [
       "<div>\n",
       "<style scoped>\n",
       "    .dataframe tbody tr th:only-of-type {\n",
       "        vertical-align: middle;\n",
       "    }\n",
       "\n",
       "    .dataframe tbody tr th {\n",
       "        vertical-align: top;\n",
       "    }\n",
       "\n",
       "    .dataframe thead th {\n",
       "        text-align: right;\n",
       "    }\n",
       "</style>\n",
       "<table border=\"1\" class=\"dataframe\">\n",
       "  <thead>\n",
       "    <tr style=\"text-align: right;\">\n",
       "      <th></th>\n",
       "      <th>user_no</th>\n",
       "      <th>event_timestamp</th>\n",
       "    </tr>\n",
       "  </thead>\n",
       "  <tbody>\n",
       "    <tr>\n",
       "      <th>0</th>\n",
       "      <td>+++T9c17sr6wEYOy9UFv3w==</td>\n",
       "      <td>2021-07-03 17:51:26.43805</td>\n",
       "    </tr>\n",
       "    <tr>\n",
       "      <th>1</th>\n",
       "      <td>+++aQH5NnhiU/9qECKk3uQ==</td>\n",
       "      <td>2021-06-21 20:56:44.832066</td>\n",
       "    </tr>\n",
       "    <tr>\n",
       "      <th>2</th>\n",
       "      <td>++0bwiYVJ/TAsCpxI4UCuw==</td>\n",
       "      <td>2021-07-27 14:33:20.527011</td>\n",
       "    </tr>\n",
       "    <tr>\n",
       "      <th>3</th>\n",
       "      <td>++1HN9s1imztN8ftPCt3LA==</td>\n",
       "      <td>2021-06-10 09:24:07.981038</td>\n",
       "    </tr>\n",
       "    <tr>\n",
       "      <th>4</th>\n",
       "      <td>++2StXdzG0Bj/Kkb5EFcog==</td>\n",
       "      <td>2021-06-29 18:49:40.928022</td>\n",
       "    </tr>\n",
       "    <tr>\n",
       "      <th>...</th>\n",
       "      <td>...</td>\n",
       "      <td>...</td>\n",
       "    </tr>\n",
       "    <tr>\n",
       "      <th>146899</th>\n",
       "      <td>zzrBh62TO71nt1GQm+jMjA==</td>\n",
       "      <td>2021-07-27 22:25:33.347005</td>\n",
       "    </tr>\n",
       "    <tr>\n",
       "      <th>146900</th>\n",
       "      <td>zzuJMnncH5Wrn/GUA7nqTg==</td>\n",
       "      <td>2021-07-23 20:01:48.630025</td>\n",
       "    </tr>\n",
       "    <tr>\n",
       "      <th>146901</th>\n",
       "      <td>zzwYai1YDr0JZQwaTqc0mQ==</td>\n",
       "      <td>2021-07-04 20:40:01.110004</td>\n",
       "    </tr>\n",
       "    <tr>\n",
       "      <th>146902</th>\n",
       "      <td>zzwxh/ZL9TPJOWZHLMvnDQ==</td>\n",
       "      <td>2021-06-30 16:21:08.063009</td>\n",
       "    </tr>\n",
       "    <tr>\n",
       "      <th>146903</th>\n",
       "      <td>zzzWx+6Z3L2IRJBTgvBs5g==</td>\n",
       "      <td>2021-07-04 00:25:00.662004</td>\n",
       "    </tr>\n",
       "  </tbody>\n",
       "</table>\n",
       "<p>146904 rows × 2 columns</p>\n",
       "</div>"
      ],
      "text/plain": [
       "                         user_no             event_timestamp\n",
       "0       +++T9c17sr6wEYOy9UFv3w==   2021-07-03 17:51:26.43805\n",
       "1       +++aQH5NnhiU/9qECKk3uQ==  2021-06-21 20:56:44.832066\n",
       "2       ++0bwiYVJ/TAsCpxI4UCuw==  2021-07-27 14:33:20.527011\n",
       "3       ++1HN9s1imztN8ftPCt3LA==  2021-06-10 09:24:07.981038\n",
       "4       ++2StXdzG0Bj/Kkb5EFcog==  2021-06-29 18:49:40.928022\n",
       "...                          ...                         ...\n",
       "146899  zzrBh62TO71nt1GQm+jMjA==  2021-07-27 22:25:33.347005\n",
       "146900  zzuJMnncH5Wrn/GUA7nqTg==  2021-07-23 20:01:48.630025\n",
       "146901  zzwYai1YDr0JZQwaTqc0mQ==  2021-07-04 20:40:01.110004\n",
       "146902  zzwxh/ZL9TPJOWZHLMvnDQ==  2021-06-30 16:21:08.063009\n",
       "146903  zzzWx+6Z3L2IRJBTgvBs5g==  2021-07-04 00:25:00.662004\n",
       "\n",
       "[146904 rows x 2 columns]"
      ]
     },
     "execution_count": 202,
     "metadata": {},
     "output_type": "execute_result"
    }
   ],
   "source": [
    "user_recency"
   ]
  },
  {
   "cell_type": "code",
   "execution_count": 134,
   "id": "33ce19f0",
   "metadata": {},
   "outputs": [],
   "source": [
    "# user_recency = pd.merge(user1, user_recency, how = 'inner', on = 'user_no')"
   ]
  },
  {
   "cell_type": "code",
   "execution_count": null,
   "id": "55a88951",
   "metadata": {},
   "outputs": [],
   "source": [
    "# user_recency"
   ]
  },
  {
   "cell_type": "code",
   "execution_count": null,
   "id": "974f2172",
   "metadata": {},
   "outputs": [],
   "source": [
    "# user_recency.columns = ['user_no', 'session_id', 'event_timestamp', 'event_name', 'session_count', 'event_max']"
   ]
  },
  {
   "cell_type": "code",
   "execution_count": 204,
   "id": "88dc38f5",
   "metadata": {},
   "outputs": [],
   "source": [
    "user_recency['recency'] = \"\""
   ]
  },
  {
   "cell_type": "code",
   "execution_count": 205,
   "id": "ab9cefe8",
   "metadata": {},
   "outputs": [
    {
     "name": "stdout",
     "output_type": "stream",
     "text": [
      "<class 'pandas.core.frame.DataFrame'>\n",
      "RangeIndex: 146904 entries, 0 to 146903\n",
      "Data columns (total 3 columns):\n",
      " #   Column           Non-Null Count   Dtype \n",
      "---  ------           --------------   ----- \n",
      " 0   user_no          146904 non-null  object\n",
      " 1   event_timestamp  146904 non-null  object\n",
      " 2   recency          146904 non-null  object\n",
      "dtypes: object(3)\n",
      "memory usage: 3.4+ MB\n"
     ]
    }
   ],
   "source": [
    "user_recency.info()"
   ]
  },
  {
   "cell_type": "code",
   "execution_count": 221,
   "id": "e96e1a71",
   "metadata": {},
   "outputs": [],
   "source": [
    "#일자 표시 변환\n",
    "user_recency['event_timestamp'] = pd.to_datetime(user_recency['event_timestamp'], yearfirst = True).dt.strftime('%y/%m/%d')\n",
    "\n",
    "\n",
    "#datetime 변환\n",
    "user_recency['event_timestamp'] = pd.to_datetime(user_recency['event_timestamp'], yearfirst = True)\n",
    "\n"
   ]
  },
  {
   "cell_type": "code",
   "execution_count": 138,
   "id": "46f893e4",
   "metadata": {},
   "outputs": [],
   "source": [
    "# #일자 표시 변환\n",
    "# user_recency['event_timestamp'] = pd.to_datetime(user_recency['event_timestamp'], yearfirst = True).dt.strftime('%y/%m/%d')\n",
    "# user_recency['event_max'] = pd.to_datetime(user_recency['event_max'], yearfirst = True).dt.strftime('%y/%m/%d')\n",
    "\n",
    "# #datetime 변환\n",
    "# user_recency['event_timestamp'] = pd.to_datetime(user_recency['event_timestamp'], yearfirst = True)\n",
    "# user_recency['event_max'] = pd.to_datetime(user_recency['event_max'], yearfirst = True)\n"
   ]
  },
  {
   "cell_type": "code",
   "execution_count": null,
   "id": "fad0d4be",
   "metadata": {},
   "outputs": [],
   "source": [
    "# user_recency['event_timestamp'] = pd.to_datetime(user_recency['event_timestamp'])\n",
    "# user_recency['event_max'] = pd.to_datetime(user_recency['event_max'])"
   ]
  },
  {
   "cell_type": "code",
   "execution_count": 222,
   "id": "fd8263f2",
   "metadata": {},
   "outputs": [
    {
     "name": "stdout",
     "output_type": "stream",
     "text": [
      "<class 'pandas.core.frame.DataFrame'>\n",
      "RangeIndex: 146904 entries, 0 to 146903\n",
      "Data columns (total 4 columns):\n",
      " #   Column           Non-Null Count   Dtype         \n",
      "---  ------           --------------   -----         \n",
      " 0   user_no          146904 non-null  object        \n",
      " 1   event_timestamp  146904 non-null  datetime64[ns]\n",
      " 2   recency          146904 non-null  object        \n",
      " 3   recency_score    146904 non-null  int64         \n",
      "dtypes: datetime64[ns](1), int64(1), object(2)\n",
      "memory usage: 4.5+ MB\n"
     ]
    }
   ],
   "source": [
    "user_recency.info()"
   ]
  },
  {
   "cell_type": "code",
   "execution_count": 223,
   "id": "ba386b11",
   "metadata": {},
   "outputs": [],
   "source": [
    "# 비교 날짜\n",
    "date_compare = pd.datetime.strptime(\"20210804\", \"%Y%m%d\")\n",
    "user_recency['date_compare'] = date_compare\n",
    "user_recency['recency'] = (date_compare - user_recency['event_timestamp'])"
   ]
  },
  {
   "cell_type": "code",
   "execution_count": 224,
   "id": "03b0b61b",
   "metadata": {},
   "outputs": [],
   "source": [
    "#timedelta 를 int로\n",
    "user_recency['recency'] = user_recency['recency'].dt.days"
   ]
  },
  {
   "cell_type": "code",
   "execution_count": 208,
   "id": "d81f8fa7",
   "metadata": {},
   "outputs": [
    {
     "ename": "KeyError",
     "evalue": "\"['date_compare'] not found in axis\"",
     "output_type": "error",
     "traceback": [
      "\u001b[0;31m---------------------------------------------------------------------------\u001b[0m",
      "\u001b[0;31mKeyError\u001b[0m                                  Traceback (most recent call last)",
      "\u001b[0;32m/var/folders/3c/6rc19g3n3p9ctq6gjs0d2c_40000gn/T/ipykernel_22651/1814252676.py\u001b[0m in \u001b[0;36m<module>\u001b[0;34m\u001b[0m\n\u001b[1;32m      1\u001b[0m \u001b[0;31m#필요없는 컬럼 날리기\u001b[0m\u001b[0;34m\u001b[0m\u001b[0;34m\u001b[0m\u001b[0m\n\u001b[0;32m----> 2\u001b[0;31m \u001b[0muser_recency\u001b[0m\u001b[0;34m.\u001b[0m\u001b[0mdrop\u001b[0m\u001b[0;34m(\u001b[0m\u001b[0mcolumns\u001b[0m \u001b[0;34m=\u001b[0m \u001b[0;34m[\u001b[0m\u001b[0;34m'date_compare'\u001b[0m\u001b[0;34m]\u001b[0m\u001b[0;34m,\u001b[0m \u001b[0minplace\u001b[0m \u001b[0;34m=\u001b[0m \u001b[0;32mTrue\u001b[0m\u001b[0;34m)\u001b[0m\u001b[0;34m\u001b[0m\u001b[0;34m\u001b[0m\u001b[0m\n\u001b[0m\u001b[1;32m      3\u001b[0m \u001b[0muser_recency\u001b[0m\u001b[0;34m.\u001b[0m\u001b[0mhead\u001b[0m\u001b[0;34m(\u001b[0m\u001b[0;34m)\u001b[0m\u001b[0;34m\u001b[0m\u001b[0;34m\u001b[0m\u001b[0m\n",
      "\u001b[0;32m~/opt/anaconda3/lib/python3.9/site-packages/pandas/util/_decorators.py\u001b[0m in \u001b[0;36mwrapper\u001b[0;34m(*args, **kwargs)\u001b[0m\n\u001b[1;32m    309\u001b[0m                     \u001b[0mstacklevel\u001b[0m\u001b[0;34m=\u001b[0m\u001b[0mstacklevel\u001b[0m\u001b[0;34m,\u001b[0m\u001b[0;34m\u001b[0m\u001b[0;34m\u001b[0m\u001b[0m\n\u001b[1;32m    310\u001b[0m                 )\n\u001b[0;32m--> 311\u001b[0;31m             \u001b[0;32mreturn\u001b[0m \u001b[0mfunc\u001b[0m\u001b[0;34m(\u001b[0m\u001b[0;34m*\u001b[0m\u001b[0margs\u001b[0m\u001b[0;34m,\u001b[0m \u001b[0;34m**\u001b[0m\u001b[0mkwargs\u001b[0m\u001b[0;34m)\u001b[0m\u001b[0;34m\u001b[0m\u001b[0;34m\u001b[0m\u001b[0m\n\u001b[0m\u001b[1;32m    312\u001b[0m \u001b[0;34m\u001b[0m\u001b[0m\n\u001b[1;32m    313\u001b[0m         \u001b[0;32mreturn\u001b[0m \u001b[0mwrapper\u001b[0m\u001b[0;34m\u001b[0m\u001b[0;34m\u001b[0m\u001b[0m\n",
      "\u001b[0;32m~/opt/anaconda3/lib/python3.9/site-packages/pandas/core/frame.py\u001b[0m in \u001b[0;36mdrop\u001b[0;34m(self, labels, axis, index, columns, level, inplace, errors)\u001b[0m\n\u001b[1;32m   4904\u001b[0m                 \u001b[0mweight\u001b[0m  \u001b[0;36m1.0\u001b[0m     \u001b[0;36m0.8\u001b[0m\u001b[0;34m\u001b[0m\u001b[0;34m\u001b[0m\u001b[0m\n\u001b[1;32m   4905\u001b[0m         \"\"\"\n\u001b[0;32m-> 4906\u001b[0;31m         return super().drop(\n\u001b[0m\u001b[1;32m   4907\u001b[0m             \u001b[0mlabels\u001b[0m\u001b[0;34m=\u001b[0m\u001b[0mlabels\u001b[0m\u001b[0;34m,\u001b[0m\u001b[0;34m\u001b[0m\u001b[0;34m\u001b[0m\u001b[0m\n\u001b[1;32m   4908\u001b[0m             \u001b[0maxis\u001b[0m\u001b[0;34m=\u001b[0m\u001b[0maxis\u001b[0m\u001b[0;34m,\u001b[0m\u001b[0;34m\u001b[0m\u001b[0;34m\u001b[0m\u001b[0m\n",
      "\u001b[0;32m~/opt/anaconda3/lib/python3.9/site-packages/pandas/core/generic.py\u001b[0m in \u001b[0;36mdrop\u001b[0;34m(self, labels, axis, index, columns, level, inplace, errors)\u001b[0m\n\u001b[1;32m   4148\u001b[0m         \u001b[0;32mfor\u001b[0m \u001b[0maxis\u001b[0m\u001b[0;34m,\u001b[0m \u001b[0mlabels\u001b[0m \u001b[0;32min\u001b[0m \u001b[0maxes\u001b[0m\u001b[0;34m.\u001b[0m\u001b[0mitems\u001b[0m\u001b[0;34m(\u001b[0m\u001b[0;34m)\u001b[0m\u001b[0;34m:\u001b[0m\u001b[0;34m\u001b[0m\u001b[0;34m\u001b[0m\u001b[0m\n\u001b[1;32m   4149\u001b[0m             \u001b[0;32mif\u001b[0m \u001b[0mlabels\u001b[0m \u001b[0;32mis\u001b[0m \u001b[0;32mnot\u001b[0m \u001b[0;32mNone\u001b[0m\u001b[0;34m:\u001b[0m\u001b[0;34m\u001b[0m\u001b[0;34m\u001b[0m\u001b[0m\n\u001b[0;32m-> 4150\u001b[0;31m                 \u001b[0mobj\u001b[0m \u001b[0;34m=\u001b[0m \u001b[0mobj\u001b[0m\u001b[0;34m.\u001b[0m\u001b[0m_drop_axis\u001b[0m\u001b[0;34m(\u001b[0m\u001b[0mlabels\u001b[0m\u001b[0;34m,\u001b[0m \u001b[0maxis\u001b[0m\u001b[0;34m,\u001b[0m \u001b[0mlevel\u001b[0m\u001b[0;34m=\u001b[0m\u001b[0mlevel\u001b[0m\u001b[0;34m,\u001b[0m \u001b[0merrors\u001b[0m\u001b[0;34m=\u001b[0m\u001b[0merrors\u001b[0m\u001b[0;34m)\u001b[0m\u001b[0;34m\u001b[0m\u001b[0;34m\u001b[0m\u001b[0m\n\u001b[0m\u001b[1;32m   4151\u001b[0m \u001b[0;34m\u001b[0m\u001b[0m\n\u001b[1;32m   4152\u001b[0m         \u001b[0;32mif\u001b[0m \u001b[0minplace\u001b[0m\u001b[0;34m:\u001b[0m\u001b[0;34m\u001b[0m\u001b[0;34m\u001b[0m\u001b[0m\n",
      "\u001b[0;32m~/opt/anaconda3/lib/python3.9/site-packages/pandas/core/generic.py\u001b[0m in \u001b[0;36m_drop_axis\u001b[0;34m(self, labels, axis, level, errors)\u001b[0m\n\u001b[1;32m   4183\u001b[0m                 \u001b[0mnew_axis\u001b[0m \u001b[0;34m=\u001b[0m \u001b[0maxis\u001b[0m\u001b[0;34m.\u001b[0m\u001b[0mdrop\u001b[0m\u001b[0;34m(\u001b[0m\u001b[0mlabels\u001b[0m\u001b[0;34m,\u001b[0m \u001b[0mlevel\u001b[0m\u001b[0;34m=\u001b[0m\u001b[0mlevel\u001b[0m\u001b[0;34m,\u001b[0m \u001b[0merrors\u001b[0m\u001b[0;34m=\u001b[0m\u001b[0merrors\u001b[0m\u001b[0;34m)\u001b[0m\u001b[0;34m\u001b[0m\u001b[0;34m\u001b[0m\u001b[0m\n\u001b[1;32m   4184\u001b[0m             \u001b[0;32melse\u001b[0m\u001b[0;34m:\u001b[0m\u001b[0;34m\u001b[0m\u001b[0;34m\u001b[0m\u001b[0m\n\u001b[0;32m-> 4185\u001b[0;31m                 \u001b[0mnew_axis\u001b[0m \u001b[0;34m=\u001b[0m \u001b[0maxis\u001b[0m\u001b[0;34m.\u001b[0m\u001b[0mdrop\u001b[0m\u001b[0;34m(\u001b[0m\u001b[0mlabels\u001b[0m\u001b[0;34m,\u001b[0m \u001b[0merrors\u001b[0m\u001b[0;34m=\u001b[0m\u001b[0merrors\u001b[0m\u001b[0;34m)\u001b[0m\u001b[0;34m\u001b[0m\u001b[0;34m\u001b[0m\u001b[0m\n\u001b[0m\u001b[1;32m   4186\u001b[0m             \u001b[0mresult\u001b[0m \u001b[0;34m=\u001b[0m \u001b[0mself\u001b[0m\u001b[0;34m.\u001b[0m\u001b[0mreindex\u001b[0m\u001b[0;34m(\u001b[0m\u001b[0;34m**\u001b[0m\u001b[0;34m{\u001b[0m\u001b[0maxis_name\u001b[0m\u001b[0;34m:\u001b[0m \u001b[0mnew_axis\u001b[0m\u001b[0;34m}\u001b[0m\u001b[0;34m)\u001b[0m\u001b[0;34m\u001b[0m\u001b[0;34m\u001b[0m\u001b[0m\n\u001b[1;32m   4187\u001b[0m \u001b[0;34m\u001b[0m\u001b[0m\n",
      "\u001b[0;32m~/opt/anaconda3/lib/python3.9/site-packages/pandas/core/indexes/base.py\u001b[0m in \u001b[0;36mdrop\u001b[0;34m(self, labels, errors)\u001b[0m\n\u001b[1;32m   6015\u001b[0m         \u001b[0;32mif\u001b[0m \u001b[0mmask\u001b[0m\u001b[0;34m.\u001b[0m\u001b[0many\u001b[0m\u001b[0;34m(\u001b[0m\u001b[0;34m)\u001b[0m\u001b[0;34m:\u001b[0m\u001b[0;34m\u001b[0m\u001b[0;34m\u001b[0m\u001b[0m\n\u001b[1;32m   6016\u001b[0m             \u001b[0;32mif\u001b[0m \u001b[0merrors\u001b[0m \u001b[0;34m!=\u001b[0m \u001b[0;34m\"ignore\"\u001b[0m\u001b[0;34m:\u001b[0m\u001b[0;34m\u001b[0m\u001b[0;34m\u001b[0m\u001b[0m\n\u001b[0;32m-> 6017\u001b[0;31m                 \u001b[0;32mraise\u001b[0m \u001b[0mKeyError\u001b[0m\u001b[0;34m(\u001b[0m\u001b[0;34mf\"{labels[mask]} not found in axis\"\u001b[0m\u001b[0;34m)\u001b[0m\u001b[0;34m\u001b[0m\u001b[0;34m\u001b[0m\u001b[0m\n\u001b[0m\u001b[1;32m   6018\u001b[0m             \u001b[0mindexer\u001b[0m \u001b[0;34m=\u001b[0m \u001b[0mindexer\u001b[0m\u001b[0;34m[\u001b[0m\u001b[0;34m~\u001b[0m\u001b[0mmask\u001b[0m\u001b[0;34m]\u001b[0m\u001b[0;34m\u001b[0m\u001b[0;34m\u001b[0m\u001b[0m\n\u001b[1;32m   6019\u001b[0m         \u001b[0;32mreturn\u001b[0m \u001b[0mself\u001b[0m\u001b[0;34m.\u001b[0m\u001b[0mdelete\u001b[0m\u001b[0;34m(\u001b[0m\u001b[0mindexer\u001b[0m\u001b[0;34m)\u001b[0m\u001b[0;34m\u001b[0m\u001b[0;34m\u001b[0m\u001b[0m\n",
      "\u001b[0;31mKeyError\u001b[0m: \"['date_compare'] not found in axis\""
     ]
    }
   ],
   "source": [
    "#필요없는 컬럼 날리기\n",
    "user_recency.drop(columns = ['date_compare'], inplace = True)\n",
    "user_recency.head()"
   ]
  },
  {
   "cell_type": "code",
   "execution_count": 225,
   "id": "d8987b01",
   "metadata": {},
   "outputs": [
    {
     "data": {
      "text/html": [
       "<div>\n",
       "<style scoped>\n",
       "    .dataframe tbody tr th:only-of-type {\n",
       "        vertical-align: middle;\n",
       "    }\n",
       "\n",
       "    .dataframe tbody tr th {\n",
       "        vertical-align: top;\n",
       "    }\n",
       "\n",
       "    .dataframe thead th {\n",
       "        text-align: right;\n",
       "    }\n",
       "</style>\n",
       "<table border=\"1\" class=\"dataframe\">\n",
       "  <thead>\n",
       "    <tr style=\"text-align: right;\">\n",
       "      <th></th>\n",
       "      <th>user_no</th>\n",
       "      <th>event_timestamp</th>\n",
       "      <th>recency</th>\n",
       "      <th>recency_score</th>\n",
       "      <th>date_compare</th>\n",
       "    </tr>\n",
       "  </thead>\n",
       "  <tbody>\n",
       "    <tr>\n",
       "      <th>0</th>\n",
       "      <td>+++T9c17sr6wEYOy9UFv3w==</td>\n",
       "      <td>2021-07-03</td>\n",
       "      <td>32</td>\n",
       "      <td>1</td>\n",
       "      <td>2021-08-04</td>\n",
       "    </tr>\n",
       "    <tr>\n",
       "      <th>1</th>\n",
       "      <td>+++aQH5NnhiU/9qECKk3uQ==</td>\n",
       "      <td>2021-06-21</td>\n",
       "      <td>44</td>\n",
       "      <td>1</td>\n",
       "      <td>2021-08-04</td>\n",
       "    </tr>\n",
       "    <tr>\n",
       "      <th>2</th>\n",
       "      <td>++0bwiYVJ/TAsCpxI4UCuw==</td>\n",
       "      <td>2021-07-27</td>\n",
       "      <td>8</td>\n",
       "      <td>1</td>\n",
       "      <td>2021-08-04</td>\n",
       "    </tr>\n",
       "    <tr>\n",
       "      <th>3</th>\n",
       "      <td>++1HN9s1imztN8ftPCt3LA==</td>\n",
       "      <td>2021-06-10</td>\n",
       "      <td>55</td>\n",
       "      <td>1</td>\n",
       "      <td>2021-08-04</td>\n",
       "    </tr>\n",
       "    <tr>\n",
       "      <th>4</th>\n",
       "      <td>++2StXdzG0Bj/Kkb5EFcog==</td>\n",
       "      <td>2021-06-29</td>\n",
       "      <td>36</td>\n",
       "      <td>1</td>\n",
       "      <td>2021-08-04</td>\n",
       "    </tr>\n",
       "    <tr>\n",
       "      <th>...</th>\n",
       "      <td>...</td>\n",
       "      <td>...</td>\n",
       "      <td>...</td>\n",
       "      <td>...</td>\n",
       "      <td>...</td>\n",
       "    </tr>\n",
       "    <tr>\n",
       "      <th>146899</th>\n",
       "      <td>zzrBh62TO71nt1GQm+jMjA==</td>\n",
       "      <td>2021-07-27</td>\n",
       "      <td>8</td>\n",
       "      <td>1</td>\n",
       "      <td>2021-08-04</td>\n",
       "    </tr>\n",
       "    <tr>\n",
       "      <th>146900</th>\n",
       "      <td>zzuJMnncH5Wrn/GUA7nqTg==</td>\n",
       "      <td>2021-07-23</td>\n",
       "      <td>12</td>\n",
       "      <td>1</td>\n",
       "      <td>2021-08-04</td>\n",
       "    </tr>\n",
       "    <tr>\n",
       "      <th>146901</th>\n",
       "      <td>zzwYai1YDr0JZQwaTqc0mQ==</td>\n",
       "      <td>2021-07-04</td>\n",
       "      <td>31</td>\n",
       "      <td>1</td>\n",
       "      <td>2021-08-04</td>\n",
       "    </tr>\n",
       "    <tr>\n",
       "      <th>146902</th>\n",
       "      <td>zzwxh/ZL9TPJOWZHLMvnDQ==</td>\n",
       "      <td>2021-06-30</td>\n",
       "      <td>35</td>\n",
       "      <td>1</td>\n",
       "      <td>2021-08-04</td>\n",
       "    </tr>\n",
       "    <tr>\n",
       "      <th>146903</th>\n",
       "      <td>zzzWx+6Z3L2IRJBTgvBs5g==</td>\n",
       "      <td>2021-07-04</td>\n",
       "      <td>31</td>\n",
       "      <td>1</td>\n",
       "      <td>2021-08-04</td>\n",
       "    </tr>\n",
       "  </tbody>\n",
       "</table>\n",
       "<p>146904 rows × 5 columns</p>\n",
       "</div>"
      ],
      "text/plain": [
       "                         user_no event_timestamp  recency  recency_score  \\\n",
       "0       +++T9c17sr6wEYOy9UFv3w==      2021-07-03       32              1   \n",
       "1       +++aQH5NnhiU/9qECKk3uQ==      2021-06-21       44              1   \n",
       "2       ++0bwiYVJ/TAsCpxI4UCuw==      2021-07-27        8              1   \n",
       "3       ++1HN9s1imztN8ftPCt3LA==      2021-06-10       55              1   \n",
       "4       ++2StXdzG0Bj/Kkb5EFcog==      2021-06-29       36              1   \n",
       "...                          ...             ...      ...            ...   \n",
       "146899  zzrBh62TO71nt1GQm+jMjA==      2021-07-27        8              1   \n",
       "146900  zzuJMnncH5Wrn/GUA7nqTg==      2021-07-23       12              1   \n",
       "146901  zzwYai1YDr0JZQwaTqc0mQ==      2021-07-04       31              1   \n",
       "146902  zzwxh/ZL9TPJOWZHLMvnDQ==      2021-06-30       35              1   \n",
       "146903  zzzWx+6Z3L2IRJBTgvBs5g==      2021-07-04       31              1   \n",
       "\n",
       "       date_compare  \n",
       "0        2021-08-04  \n",
       "1        2021-08-04  \n",
       "2        2021-08-04  \n",
       "3        2021-08-04  \n",
       "4        2021-08-04  \n",
       "...             ...  \n",
       "146899   2021-08-04  \n",
       "146900   2021-08-04  \n",
       "146901   2021-08-04  \n",
       "146902   2021-08-04  \n",
       "146903   2021-08-04  \n",
       "\n",
       "[146904 rows x 5 columns]"
      ]
     },
     "execution_count": 225,
     "metadata": {},
     "output_type": "execute_result"
    }
   ],
   "source": [
    "user_recency"
   ]
  },
  {
   "cell_type": "code",
   "execution_count": null,
   "id": "22e7ea41",
   "metadata": {},
   "outputs": [],
   "source": [
    "# #4 Quantile\n",
    "# num = user_recency['recency']\n",
    "# Q1 = num.quantile(.25)\n",
    "# Q3 = num.quantile(.75)\n",
    "# IQR = Q3 - Q1\n",
    "# Q2 = num.quantile(.5)\n",
    "# Q4 = num.quantile(1)\n",
    "\n",
    "# print('Q1: ', Q1)\n",
    "# print('Q2: ', Q2)\n",
    "# print('Q3: ', Q3)\n",
    "# print('Q4: ', Q4)"
   ]
  },
  {
   "cell_type": "code",
   "execution_count": 226,
   "id": "9293c868",
   "metadata": {},
   "outputs": [],
   "source": [
    "# percentile\n",
    "num_r = user_recency['recency']\n",
    "\n",
    "P1 = np.percentile(num_r, 10, interpolation = 'nearest')\n",
    "P2 = np.percentile(num_r, 20, interpolation = 'nearest')\n",
    "P3 = np.percentile(num_r, 30, interpolation = 'nearest')\n",
    "P4 = np.percentile(num_r, 40, interpolation = 'nearest')\n",
    "P5 = np.percentile(num_r, 50, interpolation = 'nearest')\n",
    "P6 = np.percentile(num_r, 60, interpolation = 'nearest')\n",
    "P7 = np.percentile(num_r, 70, interpolation = 'nearest')\n",
    "P8 = np.percentile(num_r, 80, interpolation = 'nearest')\n",
    "P9 = np.percentile(num_r, 90, interpolation = 'nearest')"
   ]
  },
  {
   "cell_type": "code",
   "execution_count": 227,
   "id": "a56444cd",
   "metadata": {},
   "outputs": [],
   "source": [
    "user_recency['recency_score'] = \"\""
   ]
  },
  {
   "cell_type": "code",
   "execution_count": 218,
   "id": "6c259138",
   "metadata": {},
   "outputs": [],
   "source": [
    "def recency2(x):\n",
    "    if x < P1 :\n",
    "        return 10\n",
    "    \n",
    "    elif x < P2 :\n",
    "        return 9\n",
    "    \n",
    "    elif x < P3 :\n",
    "        return 8\n",
    "    \n",
    "    elif x < P4 :\n",
    "        return 7\n",
    "    \n",
    "    elif x < P5 :\n",
    "        return 6\n",
    "    \n",
    "    elif x < P6 :\n",
    "        return 5\n",
    "    \n",
    "    elif x < P7 :\n",
    "        return 4\n",
    "    \n",
    "    elif x < P8 :\n",
    "        return 3\n",
    "    \n",
    "    elif x < P9 :\n",
    "        return 2\n",
    "    else:\n",
    "        return 1"
   ]
  },
  {
   "cell_type": "code",
   "execution_count": 215,
   "id": "509be469",
   "metadata": {},
   "outputs": [],
   "source": [
    "def recency(x):\n",
    "    if x > P9 :\n",
    "        return 1\n",
    "    \n",
    "    elif x > P8 :\n",
    "        return 2\n",
    "    \n",
    "    elif x > P7 :\n",
    "        return 3\n",
    "    \n",
    "    elif x > P6 :\n",
    "        return 4\n",
    "    \n",
    "    elif x > P5 :\n",
    "        return 5\n",
    "    \n",
    "    elif x > P4 :\n",
    "        return 6\n",
    "    \n",
    "    elif x > P3 :\n",
    "        return 7\n",
    "    \n",
    "    elif x > P2 :\n",
    "        return 8\n",
    "    \n",
    "    elif x > P1 :\n",
    "        return 9\n",
    "    else:\n",
    "        return 10"
   ]
  },
  {
   "cell_type": "code",
   "execution_count": 228,
   "id": "852cb3b9",
   "metadata": {},
   "outputs": [],
   "source": [
    "user_recency['recency_score'] = user_recency['recency'].apply(recency2)"
   ]
  },
  {
   "cell_type": "code",
   "execution_count": 149,
   "id": "2a4cd198",
   "metadata": {},
   "outputs": [],
   "source": [
    "# #recency 를 10분위로 점수 부여\n",
    "# for i in range(0, len(user_recency['recency'])):\n",
    "#     if user_recency['recency'][i] > P9 :\n",
    "#         user_recency['recency_score'][i] = 1\n",
    "#     elif user_recency['recency'][i] > P8 :\n",
    "#         user_recency['recency_score'][i] = 2\n",
    "#     elif user_recency['recency'][i] > P7 :\n",
    "#         user_recency['recency_score'][i] = 3\n",
    "#     elif user_recency['recency'][i] > P6 :\n",
    "#         user_recency['recency_score'][i] = 4\n",
    "#     elif user_recency['recency'][i] > P5 :\n",
    "#         user_recency['recency_score'][i] = 5\n",
    "#     elif user_recency['recency'][i] > P4 :\n",
    "#         user_recency['recency_score'][i] = 6\n",
    "#     elif user_recency['recency'][i] > P3 :\n",
    "#         user_recency['recency_score'][i] = 7\n",
    "#     elif user_recency['recency'][i] > P2 :\n",
    "#         user_recency['recency_score'][i] = 8\n",
    "#     elif user_recency['recency'][i] > P1 :\n",
    "#         user_recency['recency_score'][i] = 9\n",
    "#     else:\n",
    "#         user_recency['recency_score'][i] = 10"
   ]
  },
  {
   "cell_type": "code",
   "execution_count": null,
   "id": "03618092",
   "metadata": {},
   "outputs": [],
   "source": [
    "# #recency 를 4분위로 점수 부여\n",
    "# user_recency['recency_score'] = \"\"\n",
    "\n",
    "# for i in range(1, len(user_recency['recency'])):\n",
    "#     if user_recency['recency'][i] > Q3 :\n",
    "#         user_recency['recency_score'][i] = 1\n",
    "#     elif user_recency['recency'][i] > Q2 :\n",
    "#         user_recency['recency_score'][i] = 2\n",
    "#     elif user_recency['recency'][i] > Q1 :\n",
    "#         user_recency['recency_score'][i] = 3\n",
    "#     else :\n",
    "#         user_recency['recency_score'][i] = 4"
   ]
  },
  {
   "cell_type": "code",
   "execution_count": 229,
   "id": "f331172d",
   "metadata": {},
   "outputs": [
    {
     "data": {
      "text/plain": [
       "7     16641\n",
       "5     15949\n",
       "2     15212\n",
       "1     15177\n",
       "3     14379\n",
       "4     14249\n",
       "6     14193\n",
       "9     13881\n",
       "10    13774\n",
       "8     13449\n",
       "Name: recency_score, dtype: int64"
      ]
     },
     "execution_count": 229,
     "metadata": {},
     "output_type": "execute_result"
    }
   ],
   "source": [
    "user_recency['recency_score'].value_counts()"
   ]
  },
  {
   "cell_type": "markdown",
   "id": "a08d5a15",
   "metadata": {},
   "source": [
    "## RFM 합산\n"
   ]
  },
  {
   "cell_type": "code",
   "execution_count": null,
   "id": "fbb1e529",
   "metadata": {},
   "outputs": [],
   "source": [
    "# user_monetary, user_frequency, user_recency"
   ]
  },
  {
   "cell_type": "code",
   "execution_count": 151,
   "id": "da8f15f0",
   "metadata": {
    "scrolled": true
   },
   "outputs": [
    {
     "data": {
      "text/plain": [
       "0         9\n",
       "1         7\n",
       "2         5\n",
       "3         1\n",
       "4         1\n",
       "         ..\n",
       "146899    8\n",
       "146900    4\n",
       "146901    3\n",
       "146902    8\n",
       "146903    8\n",
       "Name: monetary, Length: 146904, dtype: int64"
      ]
     },
     "execution_count": 151,
     "metadata": {},
     "output_type": "execute_result"
    }
   ],
   "source": [
    "user_monetary['monetary']"
   ]
  },
  {
   "cell_type": "code",
   "execution_count": null,
   "id": "464a4eb1",
   "metadata": {},
   "outputs": [],
   "source": [
    "user_frequency['frequency']"
   ]
  },
  {
   "cell_type": "code",
   "execution_count": null,
   "id": "c8c0cc51",
   "metadata": {},
   "outputs": [],
   "source": [
    "user_recency['recency_score']"
   ]
  },
  {
   "cell_type": "code",
   "execution_count": 230,
   "id": "c49407ab",
   "metadata": {},
   "outputs": [],
   "source": [
    "#RFM 을 위한 데이터 통합\n",
    "from functools import reduce\n",
    "\n",
    "dfs = [user_monetary, user_frequency, user_recency]\n",
    "RFM = reduce(lambda left, right: pd.merge(left, right, on='user_no'), dfs)\n"
   ]
  },
  {
   "cell_type": "code",
   "execution_count": 231,
   "id": "120ef103",
   "metadata": {},
   "outputs": [],
   "source": [
    "RFM = RFM[['user_no', 'monetary','frequency', 'recency_score']].drop_duplicates()"
   ]
  },
  {
   "cell_type": "code",
   "execution_count": 232,
   "id": "65bb8865",
   "metadata": {},
   "outputs": [
    {
     "data": {
      "text/html": [
       "<div>\n",
       "<style scoped>\n",
       "    .dataframe tbody tr th:only-of-type {\n",
       "        vertical-align: middle;\n",
       "    }\n",
       "\n",
       "    .dataframe tbody tr th {\n",
       "        vertical-align: top;\n",
       "    }\n",
       "\n",
       "    .dataframe thead th {\n",
       "        text-align: right;\n",
       "    }\n",
       "</style>\n",
       "<table border=\"1\" class=\"dataframe\">\n",
       "  <thead>\n",
       "    <tr style=\"text-align: right;\">\n",
       "      <th></th>\n",
       "      <th>user_no</th>\n",
       "      <th>monetary</th>\n",
       "      <th>frequency</th>\n",
       "      <th>recency_score</th>\n",
       "    </tr>\n",
       "  </thead>\n",
       "  <tbody>\n",
       "    <tr>\n",
       "      <th>0</th>\n",
       "      <td>+++T9c17sr6wEYOy9UFv3w==</td>\n",
       "      <td>9</td>\n",
       "      <td>7.50</td>\n",
       "      <td>4</td>\n",
       "    </tr>\n",
       "    <tr>\n",
       "      <th>1</th>\n",
       "      <td>+++aQH5NnhiU/9qECKk3uQ==</td>\n",
       "      <td>7</td>\n",
       "      <td>5.00</td>\n",
       "      <td>3</td>\n",
       "    </tr>\n",
       "    <tr>\n",
       "      <th>2</th>\n",
       "      <td>++0bwiYVJ/TAsCpxI4UCuw==</td>\n",
       "      <td>5</td>\n",
       "      <td>2.50</td>\n",
       "      <td>9</td>\n",
       "    </tr>\n",
       "    <tr>\n",
       "      <th>3</th>\n",
       "      <td>++1HN9s1imztN8ftPCt3LA==</td>\n",
       "      <td>1</td>\n",
       "      <td>2.50</td>\n",
       "      <td>1</td>\n",
       "    </tr>\n",
       "    <tr>\n",
       "      <th>4</th>\n",
       "      <td>++2StXdzG0Bj/Kkb5EFcog==</td>\n",
       "      <td>1</td>\n",
       "      <td>2.50</td>\n",
       "      <td>4</td>\n",
       "    </tr>\n",
       "    <tr>\n",
       "      <th>...</th>\n",
       "      <td>...</td>\n",
       "      <td>...</td>\n",
       "      <td>...</td>\n",
       "      <td>...</td>\n",
       "    </tr>\n",
       "    <tr>\n",
       "      <th>146899</th>\n",
       "      <td>zzrBh62TO71nt1GQm+jMjA==</td>\n",
       "      <td>8</td>\n",
       "      <td>2.50</td>\n",
       "      <td>9</td>\n",
       "    </tr>\n",
       "    <tr>\n",
       "      <th>146900</th>\n",
       "      <td>zzuJMnncH5Wrn/GUA7nqTg==</td>\n",
       "      <td>4</td>\n",
       "      <td>2.50</td>\n",
       "      <td>8</td>\n",
       "    </tr>\n",
       "    <tr>\n",
       "      <th>146901</th>\n",
       "      <td>zzwYai1YDr0JZQwaTqc0mQ==</td>\n",
       "      <td>3</td>\n",
       "      <td>2.50</td>\n",
       "      <td>5</td>\n",
       "    </tr>\n",
       "    <tr>\n",
       "      <th>146902</th>\n",
       "      <td>zzwxh/ZL9TPJOWZHLMvnDQ==</td>\n",
       "      <td>8</td>\n",
       "      <td>2.50</td>\n",
       "      <td>4</td>\n",
       "    </tr>\n",
       "    <tr>\n",
       "      <th>146903</th>\n",
       "      <td>zzzWx+6Z3L2IRJBTgvBs5g==</td>\n",
       "      <td>8</td>\n",
       "      <td>5.00</td>\n",
       "      <td>5</td>\n",
       "    </tr>\n",
       "  </tbody>\n",
       "</table>\n",
       "<p>146904 rows × 4 columns</p>\n",
       "</div>"
      ],
      "text/plain": [
       "                         user_no  monetary  frequency  recency_score\n",
       "0       +++T9c17sr6wEYOy9UFv3w==         9       7.50              4\n",
       "1       +++aQH5NnhiU/9qECKk3uQ==         7       5.00              3\n",
       "2       ++0bwiYVJ/TAsCpxI4UCuw==         5       2.50              9\n",
       "3       ++1HN9s1imztN8ftPCt3LA==         1       2.50              1\n",
       "4       ++2StXdzG0Bj/Kkb5EFcog==         1       2.50              4\n",
       "...                          ...       ...        ...            ...\n",
       "146899  zzrBh62TO71nt1GQm+jMjA==         8       2.50              9\n",
       "146900  zzuJMnncH5Wrn/GUA7nqTg==         4       2.50              8\n",
       "146901  zzwYai1YDr0JZQwaTqc0mQ==         3       2.50              5\n",
       "146902  zzwxh/ZL9TPJOWZHLMvnDQ==         8       2.50              4\n",
       "146903  zzzWx+6Z3L2IRJBTgvBs5g==         8       5.00              5\n",
       "\n",
       "[146904 rows x 4 columns]"
      ]
     },
     "execution_count": 232,
     "metadata": {},
     "output_type": "execute_result"
    }
   ],
   "source": [
    "RFM"
   ]
  },
  {
   "cell_type": "markdown",
   "id": "abe83901",
   "metadata": {},
   "source": [
    "### RFM 기준 고객 세그먼트"
   ]
  },
  {
   "cell_type": "markdown",
   "id": "38e81b0f",
   "metadata": {},
   "source": [
    "if [RFM | Recency Score] >= 9 and ([RFM | Frequency Score]*2.5) >= 9 and [RFM | Monetary Score] >= 9 then 'VVIP 고객'\n",
    "\n",
    "elseif [RFM | Recency Score] >= 6 and ([RFM | Frequency Score]*2.5) >= 6 and [RFM | Monetary Score] >= 7 then 'VIP 고객'\n",
    "\n",
    "elseif [RFM | Recency Score] <= 3 and ([RFM | Frequency Score]*2.5) >= 7 and [RFM | Monetary Score] >= 7 then '놓치면 안 될 고객'\n",
    "\n",
    "elseif [RFM | Recency Score] <= 3 and ([RFM | Frequency Score]*2.5) >= 6 and [RFM | Monetary Score] >= 5 then '이탈 우려 고객'\n",
    "\n",
    "elseif [RFM | Recency Score] >= 7 and ([RFM | Frequency Score]*2.5) <= 4 and [RFM | Monetary Score] >= 5 then '우량 가망 신규 고객'\n",
    "\n",
    "elseif [RFM | Recency Score] <= 3 and ([RFM | Frequency Score]*2.5) <= 3 and [RFM | Monetary Score] <= 3 then '저수익성 고객'\n",
    "\n",
    "elseif [RFM | Recency Score] >= 5 and ([RFM | Frequency Score]*2.5) >= 5 and [RFM | Monetary Score] >= 5 then '우수 일반 고객'\n",
    "\n",
    "else '일반 고객'\n",
    "END"
   ]
  },
  {
   "cell_type": "code",
   "execution_count": 233,
   "id": "01675b6e",
   "metadata": {},
   "outputs": [],
   "source": [
    "RFM.to_csv('RFM.csv')"
   ]
  },
  {
   "cell_type": "code",
   "execution_count": 156,
   "id": "6ce20dae",
   "metadata": {},
   "outputs": [],
   "source": [
    "RFM[['monetary', 'recency_score', 'frequency']] = RFM[['monetary', 'recency_score', 'frequency']].apply(pd.to_numeric, errors = 'coerce')"
   ]
  },
  {
   "cell_type": "code",
   "execution_count": 157,
   "id": "107b7aa4",
   "metadata": {},
   "outputs": [],
   "source": [
    "RFM['segment'] = \"\""
   ]
  },
  {
   "cell_type": "code",
   "execution_count": 158,
   "id": "f77a80d6",
   "metadata": {},
   "outputs": [],
   "source": [
    "def RFM_func(x):\n",
    "    if (RFM['recency_score'] >= 9) & (RFM['frequency'] >= 9) & (RFM['monetary'] >= 9):\n",
    "        return 'VVIP 고객'\n",
    "    elif (RFM['recency_score'] >= 6) & (RFM['frequency'] >= 6) & (RFM['monetary'] >= 7):\n",
    "        return 'VIP 고객'\n",
    "    elif (RFM['recency_score'] <= 3) & (RFM['frequency'] >= 7) & (RFM['monetary'] >= 7):\n",
    "        return '놓치면 안 될 고객'\n",
    "    elif (RFM['recency_score'] <= 3) & (RFM['frequency'] >= 6) & (RFM['monetary'] >= 5):\n",
    "        return '이탈 우려 고객'\n",
    "    elif (RFM['recency_score'] >= 7) & (RFM['frequency'] <= 4) & (RFM['monetary'] >= 5):\n",
    "        return '우량 가망 신규 고객'\n",
    "    elif (RFM['recency_score'] <= 3) & (RFM['frequency'] <= 3) & (RFM['monetary'] <= 3):\n",
    "        return '저수익성 고객'\n",
    "    elif (RFM['recency_score'] >= 5) & (RFM['frequency'] >= 5) & (RFM['monetary'] >= 5):\n",
    "        return '우수 일반 고객'\n",
    "    else :\n",
    "        return '일반 고객'"
   ]
  },
  {
   "cell_type": "code",
   "execution_count": 159,
   "id": "0d606003",
   "metadata": {},
   "outputs": [
    {
     "ename": "SyntaxError",
     "evalue": "'return' outside function (862907210.py, line 2)",
     "output_type": "error",
     "traceback": [
      "\u001b[0;36m  File \u001b[0;32m\"/var/folders/3c/6rc19g3n3p9ctq6gjs0d2c_40000gn/T/ipykernel_22651/862907210.py\"\u001b[0;36m, line \u001b[0;32m2\u001b[0m\n\u001b[0;31m    return 'vvip'\u001b[0m\n\u001b[0m    ^\u001b[0m\n\u001b[0;31mSyntaxError\u001b[0m\u001b[0;31m:\u001b[0m 'return' outside function\n"
     ]
    }
   ],
   "source": [
    "if (RFM['recency_score'] >= 9) & (RFM['frequency'] >= 9) & (RFM['monetary'] >= 9):\n",
    "    return 'vvip'"
   ]
  },
  {
   "cell_type": "code",
   "execution_count": 67,
   "id": "da372c2e",
   "metadata": {},
   "outputs": [],
   "source": [
    "# RFM['segment'] = \"\"\n",
    "\n",
    "# for i in range(0,len(RFM)):         \n",
    "#     if (RFM['recency_score'][i] >= 9) & (RFM['frequency'][i] >= 9) & (RFM['monetary'][i] >= 9):\n",
    "#         RFM['segment'][i] = 'VVIP 고객'\n",
    "#     elif (RFM['recency_score'][i] >= 6) & (RFM['frequency'][i] >= 6) & (RFM['monetary'][i] >= 7):\n",
    "#         RFM['segment'][i] = 'VIP 고객'\n",
    "#     elif (RFM['recency_score'][i] <= 3) & (RFM['frequency'][i] >= 7) & (RFM['monetary'][i] >= 7):\n",
    "#         RFM['segment'][i] = '놓치면 안 될 고객'\n",
    "#     elif (RFM['recency_score'][i] <= 3) & (RFM['frequency'][i] >= 6) & (RFM['monetary'][i] >= 5):\n",
    "#         RFM['segment'][i] = '이탈 우려 고객'\n",
    "#     elif (RFM['recency_score'][i] >= 7) & (RFM['frequency'][i] <= 4) & (RFM['monetary'][i] >= 5):\n",
    "#         RFM['segment'][i] = '우량 가망 신규 고객'\n",
    "#     elif (RFM['recency_score'][i] <= 3) & (RFM['frequency'][i] <= 3) & (RFM['monetary'][i] <= 3):\n",
    "#         RFM['segment'][i] = '저수익성 고객'\n",
    "#     elif (RFM['recency_score'][i] >= 5) & (RFM['frequency'][i] >= 5) & (RFM['monetary'][i] >= 5):\n",
    "#         RFM['segment'][i] = '우수 일반 고객'\n",
    "#     else :\n",
    "#         RFM['segment'][i] = '일반 고객'"
   ]
  },
  {
   "cell_type": "code",
   "execution_count": 160,
   "id": "855f28c7",
   "metadata": {},
   "outputs": [
    {
     "ename": "ValueError",
     "evalue": "The truth value of a Series is ambiguous. Use a.empty, a.bool(), a.item(), a.any() or a.all().",
     "output_type": "error",
     "traceback": [
      "\u001b[0;31m---------------------------------------------------------------------------\u001b[0m",
      "\u001b[0;31mValueError\u001b[0m                                Traceback (most recent call last)",
      "\u001b[0;32m/var/folders/3c/6rc19g3n3p9ctq6gjs0d2c_40000gn/T/ipykernel_22651/1250793305.py\u001b[0m in \u001b[0;36m<module>\u001b[0;34m\u001b[0m\n\u001b[0;32m----> 1\u001b[0;31m \u001b[0mRFM\u001b[0m\u001b[0;34m[\u001b[0m\u001b[0;34m'segment'\u001b[0m\u001b[0;34m]\u001b[0m \u001b[0;34m=\u001b[0m \u001b[0mRFM\u001b[0m\u001b[0;34m.\u001b[0m\u001b[0mapply\u001b[0m\u001b[0;34m(\u001b[0m\u001b[0mRFM_func\u001b[0m\u001b[0;34m)\u001b[0m\u001b[0;34m\u001b[0m\u001b[0;34m\u001b[0m\u001b[0m\n\u001b[0m",
      "\u001b[0;32m~/opt/anaconda3/lib/python3.9/site-packages/pandas/core/frame.py\u001b[0m in \u001b[0;36mapply\u001b[0;34m(self, func, axis, raw, result_type, args, **kwargs)\u001b[0m\n\u001b[1;32m   8738\u001b[0m             \u001b[0mkwargs\u001b[0m\u001b[0;34m=\u001b[0m\u001b[0mkwargs\u001b[0m\u001b[0;34m,\u001b[0m\u001b[0;34m\u001b[0m\u001b[0;34m\u001b[0m\u001b[0m\n\u001b[1;32m   8739\u001b[0m         )\n\u001b[0;32m-> 8740\u001b[0;31m         \u001b[0;32mreturn\u001b[0m \u001b[0mop\u001b[0m\u001b[0;34m.\u001b[0m\u001b[0mapply\u001b[0m\u001b[0;34m(\u001b[0m\u001b[0;34m)\u001b[0m\u001b[0;34m\u001b[0m\u001b[0;34m\u001b[0m\u001b[0m\n\u001b[0m\u001b[1;32m   8741\u001b[0m \u001b[0;34m\u001b[0m\u001b[0m\n\u001b[1;32m   8742\u001b[0m     def applymap(\n",
      "\u001b[0;32m~/opt/anaconda3/lib/python3.9/site-packages/pandas/core/apply.py\u001b[0m in \u001b[0;36mapply\u001b[0;34m(self)\u001b[0m\n\u001b[1;32m    686\u001b[0m             \u001b[0;32mreturn\u001b[0m \u001b[0mself\u001b[0m\u001b[0;34m.\u001b[0m\u001b[0mapply_raw\u001b[0m\u001b[0;34m(\u001b[0m\u001b[0;34m)\u001b[0m\u001b[0;34m\u001b[0m\u001b[0;34m\u001b[0m\u001b[0m\n\u001b[1;32m    687\u001b[0m \u001b[0;34m\u001b[0m\u001b[0m\n\u001b[0;32m--> 688\u001b[0;31m         \u001b[0;32mreturn\u001b[0m \u001b[0mself\u001b[0m\u001b[0;34m.\u001b[0m\u001b[0mapply_standard\u001b[0m\u001b[0;34m(\u001b[0m\u001b[0;34m)\u001b[0m\u001b[0;34m\u001b[0m\u001b[0;34m\u001b[0m\u001b[0m\n\u001b[0m\u001b[1;32m    689\u001b[0m \u001b[0;34m\u001b[0m\u001b[0m\n\u001b[1;32m    690\u001b[0m     \u001b[0;32mdef\u001b[0m \u001b[0magg\u001b[0m\u001b[0;34m(\u001b[0m\u001b[0mself\u001b[0m\u001b[0;34m)\u001b[0m\u001b[0;34m:\u001b[0m\u001b[0;34m\u001b[0m\u001b[0;34m\u001b[0m\u001b[0m\n",
      "\u001b[0;32m~/opt/anaconda3/lib/python3.9/site-packages/pandas/core/apply.py\u001b[0m in \u001b[0;36mapply_standard\u001b[0;34m(self)\u001b[0m\n\u001b[1;32m    810\u001b[0m \u001b[0;34m\u001b[0m\u001b[0m\n\u001b[1;32m    811\u001b[0m     \u001b[0;32mdef\u001b[0m \u001b[0mapply_standard\u001b[0m\u001b[0;34m(\u001b[0m\u001b[0mself\u001b[0m\u001b[0;34m)\u001b[0m\u001b[0;34m:\u001b[0m\u001b[0;34m\u001b[0m\u001b[0;34m\u001b[0m\u001b[0m\n\u001b[0;32m--> 812\u001b[0;31m         \u001b[0mresults\u001b[0m\u001b[0;34m,\u001b[0m \u001b[0mres_index\u001b[0m \u001b[0;34m=\u001b[0m \u001b[0mself\u001b[0m\u001b[0;34m.\u001b[0m\u001b[0mapply_series_generator\u001b[0m\u001b[0;34m(\u001b[0m\u001b[0;34m)\u001b[0m\u001b[0;34m\u001b[0m\u001b[0;34m\u001b[0m\u001b[0m\n\u001b[0m\u001b[1;32m    813\u001b[0m \u001b[0;34m\u001b[0m\u001b[0m\n\u001b[1;32m    814\u001b[0m         \u001b[0;31m# wrap results\u001b[0m\u001b[0;34m\u001b[0m\u001b[0;34m\u001b[0m\u001b[0m\n",
      "\u001b[0;32m~/opt/anaconda3/lib/python3.9/site-packages/pandas/core/apply.py\u001b[0m in \u001b[0;36mapply_series_generator\u001b[0;34m(self)\u001b[0m\n\u001b[1;32m    826\u001b[0m             \u001b[0;32mfor\u001b[0m \u001b[0mi\u001b[0m\u001b[0;34m,\u001b[0m \u001b[0mv\u001b[0m \u001b[0;32min\u001b[0m \u001b[0menumerate\u001b[0m\u001b[0;34m(\u001b[0m\u001b[0mseries_gen\u001b[0m\u001b[0;34m)\u001b[0m\u001b[0;34m:\u001b[0m\u001b[0;34m\u001b[0m\u001b[0;34m\u001b[0m\u001b[0m\n\u001b[1;32m    827\u001b[0m                 \u001b[0;31m# ignore SettingWithCopy here in case the user mutates\u001b[0m\u001b[0;34m\u001b[0m\u001b[0;34m\u001b[0m\u001b[0m\n\u001b[0;32m--> 828\u001b[0;31m                 \u001b[0mresults\u001b[0m\u001b[0;34m[\u001b[0m\u001b[0mi\u001b[0m\u001b[0;34m]\u001b[0m \u001b[0;34m=\u001b[0m \u001b[0mself\u001b[0m\u001b[0;34m.\u001b[0m\u001b[0mf\u001b[0m\u001b[0;34m(\u001b[0m\u001b[0mv\u001b[0m\u001b[0;34m)\u001b[0m\u001b[0;34m\u001b[0m\u001b[0;34m\u001b[0m\u001b[0m\n\u001b[0m\u001b[1;32m    829\u001b[0m                 \u001b[0;32mif\u001b[0m \u001b[0misinstance\u001b[0m\u001b[0;34m(\u001b[0m\u001b[0mresults\u001b[0m\u001b[0;34m[\u001b[0m\u001b[0mi\u001b[0m\u001b[0;34m]\u001b[0m\u001b[0;34m,\u001b[0m \u001b[0mABCSeries\u001b[0m\u001b[0;34m)\u001b[0m\u001b[0;34m:\u001b[0m\u001b[0;34m\u001b[0m\u001b[0;34m\u001b[0m\u001b[0m\n\u001b[1;32m    830\u001b[0m                     \u001b[0;31m# If we have a view on v, we need to make a copy because\u001b[0m\u001b[0;34m\u001b[0m\u001b[0;34m\u001b[0m\u001b[0m\n",
      "\u001b[0;32m/var/folders/3c/6rc19g3n3p9ctq6gjs0d2c_40000gn/T/ipykernel_22651/2884866548.py\u001b[0m in \u001b[0;36mRFM_func\u001b[0;34m(x)\u001b[0m\n\u001b[1;32m      1\u001b[0m \u001b[0;32mdef\u001b[0m \u001b[0mRFM_func\u001b[0m\u001b[0;34m(\u001b[0m\u001b[0mx\u001b[0m\u001b[0;34m)\u001b[0m\u001b[0;34m:\u001b[0m\u001b[0;34m\u001b[0m\u001b[0;34m\u001b[0m\u001b[0m\n\u001b[0;32m----> 2\u001b[0;31m     \u001b[0;32mif\u001b[0m \u001b[0;34m(\u001b[0m\u001b[0mRFM\u001b[0m\u001b[0;34m[\u001b[0m\u001b[0;34m'recency_score'\u001b[0m\u001b[0;34m]\u001b[0m \u001b[0;34m>=\u001b[0m \u001b[0;36m9\u001b[0m\u001b[0;34m)\u001b[0m \u001b[0;34m&\u001b[0m \u001b[0;34m(\u001b[0m\u001b[0mRFM\u001b[0m\u001b[0;34m[\u001b[0m\u001b[0;34m'frequency'\u001b[0m\u001b[0;34m]\u001b[0m \u001b[0;34m>=\u001b[0m \u001b[0;36m9\u001b[0m\u001b[0;34m)\u001b[0m \u001b[0;34m&\u001b[0m \u001b[0;34m(\u001b[0m\u001b[0mRFM\u001b[0m\u001b[0;34m[\u001b[0m\u001b[0;34m'monetary'\u001b[0m\u001b[0;34m]\u001b[0m \u001b[0;34m>=\u001b[0m \u001b[0;36m9\u001b[0m\u001b[0;34m)\u001b[0m\u001b[0;34m:\u001b[0m\u001b[0;34m\u001b[0m\u001b[0;34m\u001b[0m\u001b[0m\n\u001b[0m\u001b[1;32m      3\u001b[0m         \u001b[0;32mreturn\u001b[0m \u001b[0;34m'VVIP 고객'\u001b[0m\u001b[0;34m\u001b[0m\u001b[0;34m\u001b[0m\u001b[0m\n\u001b[1;32m      4\u001b[0m     \u001b[0;32melif\u001b[0m \u001b[0;34m(\u001b[0m\u001b[0mRFM\u001b[0m\u001b[0;34m[\u001b[0m\u001b[0;34m'recency_score'\u001b[0m\u001b[0;34m]\u001b[0m \u001b[0;34m>=\u001b[0m \u001b[0;36m6\u001b[0m\u001b[0;34m)\u001b[0m \u001b[0;34m&\u001b[0m \u001b[0;34m(\u001b[0m\u001b[0mRFM\u001b[0m\u001b[0;34m[\u001b[0m\u001b[0;34m'frequency'\u001b[0m\u001b[0;34m]\u001b[0m \u001b[0;34m>=\u001b[0m \u001b[0;36m6\u001b[0m\u001b[0;34m)\u001b[0m \u001b[0;34m&\u001b[0m \u001b[0;34m(\u001b[0m\u001b[0mRFM\u001b[0m\u001b[0;34m[\u001b[0m\u001b[0;34m'monetary'\u001b[0m\u001b[0;34m]\u001b[0m \u001b[0;34m>=\u001b[0m \u001b[0;36m7\u001b[0m\u001b[0;34m)\u001b[0m\u001b[0;34m:\u001b[0m\u001b[0;34m\u001b[0m\u001b[0;34m\u001b[0m\u001b[0m\n\u001b[1;32m      5\u001b[0m         \u001b[0;32mreturn\u001b[0m \u001b[0;34m'VIP 고객'\u001b[0m\u001b[0;34m\u001b[0m\u001b[0;34m\u001b[0m\u001b[0m\n",
      "\u001b[0;32m~/opt/anaconda3/lib/python3.9/site-packages/pandas/core/generic.py\u001b[0m in \u001b[0;36m__nonzero__\u001b[0;34m(self)\u001b[0m\n\u001b[1;32m   1535\u001b[0m     \u001b[0;34m@\u001b[0m\u001b[0mfinal\u001b[0m\u001b[0;34m\u001b[0m\u001b[0;34m\u001b[0m\u001b[0m\n\u001b[1;32m   1536\u001b[0m     \u001b[0;32mdef\u001b[0m \u001b[0m__nonzero__\u001b[0m\u001b[0;34m(\u001b[0m\u001b[0mself\u001b[0m\u001b[0;34m)\u001b[0m\u001b[0;34m:\u001b[0m\u001b[0;34m\u001b[0m\u001b[0;34m\u001b[0m\u001b[0m\n\u001b[0;32m-> 1537\u001b[0;31m         raise ValueError(\n\u001b[0m\u001b[1;32m   1538\u001b[0m             \u001b[0;34mf\"The truth value of a {type(self).__name__} is ambiguous. \"\u001b[0m\u001b[0;34m\u001b[0m\u001b[0;34m\u001b[0m\u001b[0m\n\u001b[1;32m   1539\u001b[0m             \u001b[0;34m\"Use a.empty, a.bool(), a.item(), a.any() or a.all().\"\u001b[0m\u001b[0;34m\u001b[0m\u001b[0;34m\u001b[0m\u001b[0m\n",
      "\u001b[0;31mValueError\u001b[0m: The truth value of a Series is ambiguous. Use a.empty, a.bool(), a.item(), a.any() or a.all()."
     ]
    }
   ],
   "source": [
    "RFM['segment'] = RFM.apply(RFM_func)"
   ]
  },
  {
   "cell_type": "code",
   "execution_count": null,
   "id": "a8ad1e30",
   "metadata": {},
   "outputs": [],
   "source": []
  },
  {
   "cell_type": "code",
   "execution_count": null,
   "id": "13d346c3",
   "metadata": {},
   "outputs": [],
   "source": []
  },
  {
   "cell_type": "code",
   "execution_count": null,
   "id": "ba5d5fb1",
   "metadata": {},
   "outputs": [],
   "source": []
  },
  {
   "cell_type": "code",
   "execution_count": null,
   "id": "e62c711d",
   "metadata": {},
   "outputs": [],
   "source": []
  },
  {
   "cell_type": "code",
   "execution_count": null,
   "id": "88c36139",
   "metadata": {},
   "outputs": [],
   "source": []
  },
  {
   "cell_type": "code",
   "execution_count": null,
   "id": "b5c95768",
   "metadata": {},
   "outputs": [],
   "source": []
  },
  {
   "cell_type": "code",
   "execution_count": null,
   "id": "ef1c9993",
   "metadata": {},
   "outputs": [],
   "source": []
  },
  {
   "cell_type": "code",
   "execution_count": null,
   "id": "2a7e2a1a",
   "metadata": {},
   "outputs": [],
   "source": []
  },
  {
   "cell_type": "code",
   "execution_count": null,
   "id": "e6dbc166",
   "metadata": {},
   "outputs": [],
   "source": []
  },
  {
   "cell_type": "code",
   "execution_count": null,
   "id": "824a12c6",
   "metadata": {},
   "outputs": [],
   "source": []
  },
  {
   "cell_type": "code",
   "execution_count": null,
   "id": "5bb8f33b",
   "metadata": {},
   "outputs": [],
   "source": []
  },
  {
   "cell_type": "code",
   "execution_count": null,
   "id": "5c9cea22",
   "metadata": {},
   "outputs": [],
   "source": []
  },
  {
   "cell_type": "code",
   "execution_count": null,
   "id": "a5faab01",
   "metadata": {},
   "outputs": [],
   "source": []
  },
  {
   "cell_type": "code",
   "execution_count": null,
   "id": "d0e44aae",
   "metadata": {},
   "outputs": [],
   "source": []
  },
  {
   "cell_type": "code",
   "execution_count": null,
   "id": "46c80a43",
   "metadata": {},
   "outputs": [],
   "source": []
  },
  {
   "cell_type": "code",
   "execution_count": null,
   "id": "c08f26da",
   "metadata": {},
   "outputs": [],
   "source": []
  },
  {
   "cell_type": "code",
   "execution_count": null,
   "id": "228fcae9",
   "metadata": {},
   "outputs": [],
   "source": []
  },
  {
   "cell_type": "code",
   "execution_count": null,
   "id": "241456ad",
   "metadata": {},
   "outputs": [],
   "source": []
  },
  {
   "cell_type": "code",
   "execution_count": null,
   "id": "e0cc2c5e",
   "metadata": {},
   "outputs": [],
   "source": []
  },
  {
   "cell_type": "code",
   "execution_count": null,
   "id": "3b16bb7b",
   "metadata": {},
   "outputs": [],
   "source": []
  },
  {
   "cell_type": "code",
   "execution_count": null,
   "id": "4a62f241",
   "metadata": {},
   "outputs": [],
   "source": []
  },
  {
   "cell_type": "code",
   "execution_count": null,
   "id": "666d6f4a",
   "metadata": {},
   "outputs": [],
   "source": []
  },
  {
   "cell_type": "code",
   "execution_count": null,
   "id": "7be63fd3",
   "metadata": {},
   "outputs": [],
   "source": []
  },
  {
   "cell_type": "code",
   "execution_count": null,
   "id": "bc3635a4",
   "metadata": {},
   "outputs": [],
   "source": []
  },
  {
   "cell_type": "code",
   "execution_count": null,
   "id": "ba1fd75f",
   "metadata": {},
   "outputs": [],
   "source": []
  },
  {
   "cell_type": "code",
   "execution_count": null,
   "id": "8c63d076",
   "metadata": {},
   "outputs": [],
   "source": []
  },
  {
   "cell_type": "code",
   "execution_count": null,
   "id": "9098c887",
   "metadata": {},
   "outputs": [],
   "source": []
  },
  {
   "cell_type": "code",
   "execution_count": null,
   "id": "0f47c36d",
   "metadata": {},
   "outputs": [],
   "source": []
  },
  {
   "cell_type": "code",
   "execution_count": null,
   "id": "ff1c091a",
   "metadata": {},
   "outputs": [],
   "source": []
  },
  {
   "cell_type": "code",
   "execution_count": null,
   "id": "eb4c502b",
   "metadata": {},
   "outputs": [],
   "source": []
  },
  {
   "cell_type": "code",
   "execution_count": null,
   "id": "342af6b6",
   "metadata": {},
   "outputs": [],
   "source": []
  },
  {
   "cell_type": "code",
   "execution_count": null,
   "id": "20781480",
   "metadata": {},
   "outputs": [],
   "source": []
  },
  {
   "cell_type": "code",
   "execution_count": null,
   "id": "272e662c",
   "metadata": {},
   "outputs": [],
   "source": []
  },
  {
   "cell_type": "code",
   "execution_count": null,
   "id": "b23cab4e",
   "metadata": {},
   "outputs": [],
   "source": []
  },
  {
   "cell_type": "code",
   "execution_count": null,
   "id": "16620d70",
   "metadata": {},
   "outputs": [],
   "source": []
  },
  {
   "cell_type": "code",
   "execution_count": null,
   "id": "70eb839e",
   "metadata": {},
   "outputs": [],
   "source": []
  },
  {
   "cell_type": "code",
   "execution_count": null,
   "id": "41c4e4ef",
   "metadata": {},
   "outputs": [],
   "source": []
  },
  {
   "cell_type": "code",
   "execution_count": null,
   "id": "25d245cb",
   "metadata": {},
   "outputs": [],
   "source": []
  },
  {
   "cell_type": "code",
   "execution_count": null,
   "id": "2fe86213",
   "metadata": {},
   "outputs": [],
   "source": []
  },
  {
   "cell_type": "code",
   "execution_count": null,
   "id": "90d9b76f",
   "metadata": {},
   "outputs": [],
   "source": []
  },
  {
   "cell_type": "code",
   "execution_count": null,
   "id": "37e0b9af",
   "metadata": {},
   "outputs": [],
   "source": []
  },
  {
   "cell_type": "code",
   "execution_count": null,
   "id": "6545bdce",
   "metadata": {},
   "outputs": [],
   "source": []
  },
  {
   "cell_type": "code",
   "execution_count": null,
   "id": "0401acae",
   "metadata": {},
   "outputs": [],
   "source": []
  },
  {
   "cell_type": "code",
   "execution_count": null,
   "id": "712478a9",
   "metadata": {},
   "outputs": [],
   "source": []
  },
  {
   "cell_type": "code",
   "execution_count": null,
   "id": "5c0ba47c",
   "metadata": {},
   "outputs": [],
   "source": []
  },
  {
   "cell_type": "code",
   "execution_count": null,
   "id": "d3536c53",
   "metadata": {},
   "outputs": [],
   "source": []
  },
  {
   "cell_type": "code",
   "execution_count": null,
   "id": "5e3445c1",
   "metadata": {},
   "outputs": [],
   "source": []
  },
  {
   "cell_type": "code",
   "execution_count": null,
   "id": "39fe77c7",
   "metadata": {},
   "outputs": [],
   "source": []
  },
  {
   "cell_type": "code",
   "execution_count": null,
   "id": "b05ecb33",
   "metadata": {},
   "outputs": [],
   "source": []
  },
  {
   "cell_type": "code",
   "execution_count": null,
   "id": "b94bbb04",
   "metadata": {},
   "outputs": [],
   "source": []
  },
  {
   "cell_type": "code",
   "execution_count": null,
   "id": "ae4a09c6",
   "metadata": {},
   "outputs": [],
   "source": []
  },
  {
   "cell_type": "code",
   "execution_count": null,
   "id": "7b7dc3e5",
   "metadata": {},
   "outputs": [],
   "source": []
  },
  {
   "cell_type": "code",
   "execution_count": null,
   "id": "dc5754d8",
   "metadata": {},
   "outputs": [],
   "source": []
  },
  {
   "cell_type": "code",
   "execution_count": null,
   "id": "dc080c9f",
   "metadata": {},
   "outputs": [],
   "source": []
  },
  {
   "cell_type": "code",
   "execution_count": null,
   "id": "1f90f333",
   "metadata": {},
   "outputs": [],
   "source": []
  },
  {
   "cell_type": "code",
   "execution_count": null,
   "id": "dc3f91b1",
   "metadata": {},
   "outputs": [],
   "source": []
  },
  {
   "cell_type": "code",
   "execution_count": null,
   "id": "91a37975",
   "metadata": {},
   "outputs": [],
   "source": []
  },
  {
   "cell_type": "code",
   "execution_count": null,
   "id": "b8523b25",
   "metadata": {},
   "outputs": [],
   "source": []
  },
  {
   "cell_type": "code",
   "execution_count": null,
   "id": "2e9ed2e3",
   "metadata": {},
   "outputs": [],
   "source": []
  },
  {
   "cell_type": "code",
   "execution_count": null,
   "id": "989523a3",
   "metadata": {},
   "outputs": [],
   "source": []
  },
  {
   "cell_type": "code",
   "execution_count": null,
   "id": "d1cab5d4",
   "metadata": {},
   "outputs": [],
   "source": []
  },
  {
   "cell_type": "code",
   "execution_count": null,
   "id": "82031a48",
   "metadata": {},
   "outputs": [],
   "source": []
  },
  {
   "cell_type": "code",
   "execution_count": null,
   "id": "231f3b4e",
   "metadata": {},
   "outputs": [],
   "source": []
  }
 ],
 "metadata": {
  "kernelspec": {
   "display_name": "Python 3 (ipykernel)",
   "language": "python",
   "name": "python3"
  },
  "language_info": {
   "codemirror_mode": {
    "name": "ipython",
    "version": 3
   },
   "file_extension": ".py",
   "mimetype": "text/x-python",
   "name": "python",
   "nbconvert_exporter": "python",
   "pygments_lexer": "ipython3",
   "version": "3.9.7"
  },
  "toc": {
   "base_numbering": 1,
   "nav_menu": {},
   "number_sections": true,
   "sideBar": false,
   "skip_h1_title": false,
   "title_cell": "Table of Contents",
   "title_sidebar": "Contents",
   "toc_cell": false,
   "toc_position": {
    "height": "1234px",
    "left": "26px",
    "top": "135px",
    "width": "497.1875px"
   },
   "toc_section_display": true,
   "toc_window_display": true
  },
  "varInspector": {
   "cols": {
    "lenName": 16,
    "lenType": 16,
    "lenVar": 40
   },
   "kernels_config": {
    "python": {
     "delete_cmd_postfix": "",
     "delete_cmd_prefix": "del ",
     "library": "var_list.py",
     "varRefreshCmd": "print(var_dic_list())"
    },
    "r": {
     "delete_cmd_postfix": ") ",
     "delete_cmd_prefix": "rm(",
     "library": "var_list.r",
     "varRefreshCmd": "cat(var_dic_list()) "
    }
   },
   "types_to_exclude": [
    "module",
    "function",
    "builtin_function_or_method",
    "instance",
    "_Feature"
   ],
   "window_display": false
  }
 },
 "nbformat": 4,
 "nbformat_minor": 5
}
