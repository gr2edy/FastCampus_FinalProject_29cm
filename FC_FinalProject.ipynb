{
 "cells": [
  {
   "cell_type": "markdown",
   "id": "70e3f07e",
   "metadata": {},
   "source": [
    "**Final Project (29cm)** \n",
    "# 데이터 전처리 및 탐색"
   ]
  },
  {
   "cell_type": "code",
   "execution_count": 2,
   "id": "40166b99",
   "metadata": {},
   "outputs": [],
   "source": [
    "import pandas as pd\n",
    "import numpy as np\n",
    "import seaborn as sns\n",
    "import matplotlib.pyplot as plt\n",
    "%matplotlib inline \n",
    "\n",
    "import warnings\n",
    "warnings.filterwarnings('ignore')\n",
    "\n",
    "pd.set_option('display.max_rows', 1000)\n",
    "pd.set_option('display.max_column', 1000)\n",
    "pd.options.display.float_format = '{:.2f}'.format\n",
    "\n",
    "import random\n",
    "from tqdm.autonotebook import tqdm\n",
    "import string\n",
    "import re\n",
    "plt.rcParams['font.family'] = 'AppleGothic' # 폰트 변경\n",
    "plt.rcParams['axes.unicode_minus'] = False # 축 값 마이너스 깨짐 해결"
   ]
  },
  {
   "cell_type": "markdown",
   "id": "aa1433d6",
   "metadata": {},
   "source": [
    "## 파일 불러오기"
   ]
  },
  {
   "cell_type": "code",
   "execution_count": 3,
   "id": "57fb7538",
   "metadata": {},
   "outputs": [],
   "source": [
    "events = pd.read_csv(\"/Users/greedy/Downloads/패스트캠퍼스/파이널/data/commerce/sampled_events.csv\")\n",
    "products = pd.read_csv(\"/Users/greedy/Downloads/패스트캠퍼스/파이널/data/commerce/sampled_products.csv\")\n",
    "users = pd.read_csv(\"/Users/greedy/Downloads/패스트캠퍼스/파이널/data/commerce/sampled_users.csv\")"
   ]
  },
  {
   "cell_type": "code",
   "execution_count": null,
   "id": "164a84bf",
   "metadata": {},
   "outputs": [],
   "source": [
    "ad = pd.read_csv(\"/Users/greedy/Downloads/패스트캠퍼스/파이널/data/data/ad.csv\")\n",
    "advertiser = pd.read_csv(\"/Users/greedy/Downloads/패스트캠퍼스/파이널/data/data/advertiser.csv\")\n",
    "dataset = pd.read_csv(\"/Users/greedy/Downloads/패스트캠퍼스/파이널/data/data/dataset.csv\")\n",
    "impression_log = pd.read_csv(\"/Users/greedy/Downloads/패스트캠퍼스/파이널/data/data/impression_log.csv\")\n",
    "view_log = pd.read_csv(\"/Users/greedy/Downloads/패스트캠퍼스/파이널/data/data/view_log.csv\")\n",
    "viewer = pd.read_csv(\"/Users/greedy/Downloads/패스트캠퍼스/파이널/data/data/viewer.csv\")"
   ]
  },
  {
   "cell_type": "markdown",
   "id": "58103a9c",
   "metadata": {},
   "source": [
    "## 데이터 살펴보기"
   ]
  },
  {
   "cell_type": "code",
   "execution_count": null,
   "id": "ceaf6c31",
   "metadata": {},
   "outputs": [],
   "source": [
    "events.head()"
   ]
  },
  {
   "cell_type": "code",
   "execution_count": null,
   "id": "ff41d6b9",
   "metadata": {},
   "outputs": [],
   "source": [
    "events.describe()"
   ]
  },
  {
   "cell_type": "code",
   "execution_count": null,
   "id": "2b67d0d8",
   "metadata": {},
   "outputs": [],
   "source": [
    "events.info()"
   ]
  },
  {
   "cell_type": "code",
   "execution_count": null,
   "id": "bd276a77",
   "metadata": {},
   "outputs": [],
   "source": [
    "events.isnull().sum()"
   ]
  },
  {
   "cell_type": "code",
   "execution_count": null,
   "id": "9768dbb9",
   "metadata": {},
   "outputs": [],
   "source": [
    "products.head()"
   ]
  },
  {
   "cell_type": "code",
   "execution_count": null,
   "id": "ea635d74",
   "metadata": {},
   "outputs": [],
   "source": [
    "products.describe()"
   ]
  },
  {
   "cell_type": "code",
   "execution_count": null,
   "id": "684bf339",
   "metadata": {},
   "outputs": [],
   "source": [
    "products.info()"
   ]
  },
  {
   "cell_type": "code",
   "execution_count": null,
   "id": "4a81d09f",
   "metadata": {},
   "outputs": [],
   "source": [
    "users.head()"
   ]
  },
  {
   "cell_type": "code",
   "execution_count": null,
   "id": "07081d0c",
   "metadata": {},
   "outputs": [],
   "source": [
    "users.describe()"
   ]
  },
  {
   "cell_type": "code",
   "execution_count": null,
   "id": "45614a1a",
   "metadata": {},
   "outputs": [],
   "source": [
    "users.info()"
   ]
  },
  {
   "cell_type": "markdown",
   "id": "d1645af4",
   "metadata": {},
   "source": [
    "## 데이터 users, products를 events에 병합"
   ]
  },
  {
   "cell_type": "code",
   "execution_count": 4,
   "id": "1c077ccf",
   "metadata": {},
   "outputs": [],
   "source": [
    "df = pd.merge(events, products, how = 'outer', on = 'item_no')"
   ]
  },
  {
   "cell_type": "code",
   "execution_count": 5,
   "id": "97b700da",
   "metadata": {},
   "outputs": [],
   "source": [
    "df = pd.merge(df, users, how = 'outer', on = 'user_no')"
   ]
  },
  {
   "cell_type": "code",
   "execution_count": null,
   "id": "74ea55a2",
   "metadata": {},
   "outputs": [],
   "source": [
    "df['item_no'].drop_duplicates()"
   ]
  },
  {
   "cell_type": "code",
   "execution_count": null,
   "id": "6472b174",
   "metadata": {},
   "outputs": [],
   "source": [
    "df['user_no'].drop_duplicates()"
   ]
  },
  {
   "cell_type": "code",
   "execution_count": null,
   "id": "3a14c6d4",
   "metadata": {},
   "outputs": [],
   "source": [
    "df.head()"
   ]
  },
  {
   "cell_type": "code",
   "execution_count": null,
   "id": "bc043037",
   "metadata": {},
   "outputs": [],
   "source": [
    "df.describe()"
   ]
  },
  {
   "cell_type": "code",
   "execution_count": null,
   "id": "af409296",
   "metadata": {},
   "outputs": [],
   "source": [
    "df.info()"
   ]
  },
  {
   "cell_type": "code",
   "execution_count": null,
   "id": "36af56b0",
   "metadata": {
    "scrolled": false
   },
   "outputs": [],
   "source": [
    "df.isnull().sum()"
   ]
  },
  {
   "cell_type": "code",
   "execution_count": null,
   "id": "dcdb0fc9",
   "metadata": {
    "scrolled": true
   },
   "outputs": [],
   "source": [
    "df.columns"
   ]
  },
  {
   "cell_type": "markdown",
   "id": "32ad7286",
   "metadata": {},
   "source": [
    "## 전처리"
   ]
  },
  {
   "cell_type": "code",
   "execution_count": null,
   "id": "52643c1f",
   "metadata": {},
   "outputs": [],
   "source": [
    "import missingno\n",
    "plt.figure(figsize=(20, 8))\n",
    "missingno.matrix(df)"
   ]
  },
  {
   "cell_type": "code",
   "execution_count": null,
   "id": "386bc96e",
   "metadata": {},
   "outputs": [],
   "source": [
    "df[df['brand_no'].isnull()]['category3_name']"
   ]
  },
  {
   "cell_type": "code",
   "execution_count": null,
   "id": "5dc27012",
   "metadata": {},
   "outputs": [],
   "source": [
    "df[df['brand_name'].isnull()]"
   ]
  },
  {
   "cell_type": "markdown",
   "id": "386fe851",
   "metadata": {},
   "source": [
    "**브랜드 네임 없는 경우 대부분 홑이불**"
   ]
  },
  {
   "cell_type": "code",
   "execution_count": null,
   "id": "a834d2da",
   "metadata": {},
   "outputs": [],
   "source": [
    "#2017년생 구매 데이터"
   ]
  },
  {
   "cell_type": "markdown",
   "id": "fa9ae17d",
   "metadata": {},
   "source": [
    "### Users 생년월일 --> 날짜데이터, Null값 처리\n"
   ]
  },
  {
   "cell_type": "code",
   "execution_count": 6,
   "id": "64367800",
   "metadata": {
    "scrolled": true
   },
   "outputs": [],
   "source": [
    "df['birth_date'] = pd.to_datetime(df['birth_date'], errors = 'coerce')"
   ]
  },
  {
   "cell_type": "code",
   "execution_count": null,
   "id": "f400bc96",
   "metadata": {},
   "outputs": [],
   "source": [
    "type(df['birth_date'][0])"
   ]
  },
  {
   "cell_type": "code",
   "execution_count": null,
   "id": "7e0f2e62",
   "metadata": {},
   "outputs": [],
   "source": [
    "df['birth_date'].isnull().sum()"
   ]
  },
  {
   "cell_type": "code",
   "execution_count": 7,
   "id": "3339270f",
   "metadata": {},
   "outputs": [],
   "source": [
    "def convert_datetime(row):\n",
    "    if pd.isnull(row):\n",
    "        return np.nan\n",
    "    else:\n",
    "        return pd.to_datetime(row)"
   ]
  },
  {
   "cell_type": "code",
   "execution_count": 8,
   "id": "d481eaab",
   "metadata": {},
   "outputs": [],
   "source": [
    "df['birth_date'] = df['birth_date'].apply(convert_datetime)"
   ]
  },
  {
   "cell_type": "code",
   "execution_count": null,
   "id": "95e9fef1",
   "metadata": {},
   "outputs": [],
   "source": [
    "df['birth_date'].describe()"
   ]
  },
  {
   "cell_type": "code",
   "execution_count": null,
   "id": "5d7fe2e5",
   "metadata": {},
   "outputs": [],
   "source": [
    "df_year = df['birth_date'].dt.year"
   ]
  },
  {
   "cell_type": "code",
   "execution_count": null,
   "id": "580d77d8",
   "metadata": {},
   "outputs": [],
   "source": [
    "df_year.max()"
   ]
  },
  {
   "cell_type": "code",
   "execution_count": null,
   "id": "64d6dae6",
   "metadata": {},
   "outputs": [],
   "source": [
    "x = df_year.unique()\n",
    "x"
   ]
  },
  {
   "cell_type": "code",
   "execution_count": null,
   "id": "32ece223",
   "metadata": {},
   "outputs": [],
   "source": [
    "plt.figure(figsize=(20, 7))\n",
    "a = df_year.plot(kind='hist')\n",
    "a.get_xaxis().get_major_formatter().set_scientific(False)\n",
    "plt.grid(color='lightgrey', alpha=0.5)\n",
    "plt.xticks(np.arange(1923,2017))\n",
    "plt.show()"
   ]
  },
  {
   "cell_type": "markdown",
   "id": "22c5dccc",
   "metadata": {},
   "source": [
    "### Users 성별"
   ]
  },
  {
   "cell_type": "code",
   "execution_count": null,
   "id": "b48015e2",
   "metadata": {
    "scrolled": true
   },
   "outputs": [],
   "source": [
    "df['gender'].value_counts()"
   ]
  },
  {
   "cell_type": "markdown",
   "id": "8ccf86d3",
   "metadata": {},
   "source": [
    "여성 회원 다수"
   ]
  },
  {
   "cell_type": "markdown",
   "id": "f3652100",
   "metadata": {},
   "source": [
    "## 데이터 EDA"
   ]
  },
  {
   "cell_type": "markdown",
   "id": "aed88d68",
   "metadata": {},
   "source": [
    "### Products 카테고리"
   ]
  },
  {
   "cell_type": "code",
   "execution_count": null,
   "id": "276eef53",
   "metadata": {
    "scrolled": true
   },
   "outputs": [],
   "source": [
    "df_category = df.groupby(['category1_name'])['session_id'].count().sort_values(ascending=False).\\\n",
    "reset_index()\n",
    "\n",
    "#비중\n",
    "for i in range(len(df_category)):\n",
    "    df_category['비중'] = df_category['session_id']/df_category['session_id'].sum() * 100\n",
    "\n",
    "df_category"
   ]
  },
  {
   "cell_type": "code",
   "execution_count": null,
   "id": "0f0249c1",
   "metadata": {},
   "outputs": [],
   "source": [
    "colors = sns.color_palette('hls', len(df_category['category1_name'])) \n",
    "\n",
    "fig = plt.figure(figsize=(10, 10)) \n",
    "fig.set_facecolor('white') \n",
    "ax = fig.add_subplot() \n",
    " \n",
    "pie = ax.pie(df_category['비중'], ## 파이차트 출력\n",
    "       startangle=90, ## 시작점을 90도(degree)로 지정\n",
    "       counterclock=False, ## 시계 방향으로 그린다.\n",
    "       autopct=lambda p : '{:.2f}%'.format(p), \n",
    "       colors = colors\n",
    "       )\n",
    "plt.title('카테고리 비중', fontsize=14)\n",
    "plt.legend(pie[0], df_category['category1_name']) "
   ]
  },
  {
   "cell_type": "code",
   "execution_count": null,
   "id": "8fe8b11c",
   "metadata": {},
   "outputs": [],
   "source": [
    "df1 = df.groupby('category1_name')['session_id'].count()\n",
    "df1"
   ]
  },
  {
   "cell_type": "code",
   "execution_count": null,
   "id": "6ebac99f",
   "metadata": {
    "scrolled": true
   },
   "outputs": [],
   "source": [
    "df3['session_id']"
   ]
  },
  {
   "cell_type": "code",
   "execution_count": null,
   "id": "733a0fe7",
   "metadata": {
    "scrolled": true
   },
   "outputs": [],
   "source": [
    "df3 = df2[df['event_name']=='purchase_success'].set_index('category1_name')\n",
    "for i in range(len(df3)):\n",
    "    df3['세션 당 구매율'] = df3['session_id']/df1\n",
    "df3"
   ]
  },
  {
   "cell_type": "code",
   "execution_count": null,
   "id": "92aee8a4",
   "metadata": {},
   "outputs": [],
   "source": [
    "#유저 당 구매율\n",
    "#유저 한 명이 본 상품 수\n",
    "#유저 당 구매이벤트 / 총 이벤트 수\n",
    "df.groupby('user_no')['events_name'].\n",
    "df.groupby('user_no').sum()"
   ]
  },
  {
   "cell_type": "markdown",
   "id": "a7d59c28",
   "metadata": {},
   "source": [
    "### 코호트 분석"
   ]
  },
  {
   "cell_type": "code",
   "execution_count": null,
   "id": "eb8decc3",
   "metadata": {},
   "outputs": [],
   "source": [
    "#https://workingwithpython.com/pythoncohortanalysis/"
   ]
  },
  {
   "cell_type": "code",
   "execution_count": 9,
   "id": "0b1beaac",
   "metadata": {},
   "outputs": [
    {
     "data": {
      "text/html": [
       "<div>\n",
       "<style scoped>\n",
       "    .dataframe tbody tr th:only-of-type {\n",
       "        vertical-align: middle;\n",
       "    }\n",
       "\n",
       "    .dataframe tbody tr th {\n",
       "        vertical-align: top;\n",
       "    }\n",
       "\n",
       "    .dataframe thead th {\n",
       "        text-align: right;\n",
       "    }\n",
       "</style>\n",
       "<table border=\"1\" class=\"dataframe\">\n",
       "  <thead>\n",
       "    <tr style=\"text-align: right;\">\n",
       "      <th></th>\n",
       "      <th>session_id</th>\n",
       "      <th>event_timestamp</th>\n",
       "      <th>event_name</th>\n",
       "      <th>user_no</th>\n",
       "      <th>item_no</th>\n",
       "      <th>device_type</th>\n",
       "      <th>mobile_brand_name</th>\n",
       "      <th>mobile_model_name</th>\n",
       "      <th>mobile_marketing_name</th>\n",
       "      <th>operating_system_version</th>\n",
       "      <th>country</th>\n",
       "      <th>region</th>\n",
       "      <th>platform</th>\n",
       "      <th>item_name</th>\n",
       "      <th>image_name</th>\n",
       "      <th>price</th>\n",
       "      <th>category1_code</th>\n",
       "      <th>category1_name</th>\n",
       "      <th>category2_code</th>\n",
       "      <th>category2_name</th>\n",
       "      <th>category3_code</th>\n",
       "      <th>category3_name</th>\n",
       "      <th>brand_no</th>\n",
       "      <th>brand_name</th>\n",
       "      <th>birth_date</th>\n",
       "      <th>gender</th>\n",
       "    </tr>\n",
       "  </thead>\n",
       "  <tbody>\n",
       "    <tr>\n",
       "      <th>0</th>\n",
       "      <td>c47e93742387750baba2e238558fa12d</td>\n",
       "      <td>2021-06-03 13:00:01.845000</td>\n",
       "      <td>click_item</td>\n",
       "      <td>+9eODQMZ8YgXQZJJAo56nw==</td>\n",
       "      <td>4KwsZkXDulM0oQ2sTVSlYQ==</td>\n",
       "      <td>mobile</td>\n",
       "      <td>Samsung</td>\n",
       "      <td>SM-N960N</td>\n",
       "      <td>Galaxy Note9</td>\n",
       "      <td>Android 10</td>\n",
       "      <td>South Korea</td>\n",
       "      <td>Gyeonggi-do</td>\n",
       "      <td>ANDROID</td>\n",
       "      <td>남성) 코튼 리넨 이지 쇼츠</td>\n",
       "      <td>ecb06f34b6d8c4c521221aebbcc0e934</td>\n",
       "      <td>29900.00</td>\n",
       "      <td>243100100</td>\n",
       "      <td>의류</td>\n",
       "      <td>243104100</td>\n",
       "      <td>하의</td>\n",
       "      <td>243104101</td>\n",
       "      <td>바지</td>\n",
       "      <td>13901.00</td>\n",
       "      <td>TOPTEN</td>\n",
       "      <td>1969-04-05</td>\n",
       "      <td>F</td>\n",
       "    </tr>\n",
       "    <tr>\n",
       "      <th>1</th>\n",
       "      <td>c47e93742387750baba2e238558fa12d</td>\n",
       "      <td>2021-06-03 13:00:47.511013</td>\n",
       "      <td>click_item</td>\n",
       "      <td>+9eODQMZ8YgXQZJJAo56nw==</td>\n",
       "      <td>seELIO8ssL85o/yMQpkKNw==</td>\n",
       "      <td>mobile</td>\n",
       "      <td>Samsung</td>\n",
       "      <td>SM-N960N</td>\n",
       "      <td>Galaxy Note9</td>\n",
       "      <td>Android 10</td>\n",
       "      <td>South Korea</td>\n",
       "      <td>Gyeonggi-do</td>\n",
       "      <td>ANDROID</td>\n",
       "      <td>남성) 코튼 이지 쇼츠</td>\n",
       "      <td>13551f740ecacbcce3baf5e232f0fb9b</td>\n",
       "      <td>19900.00</td>\n",
       "      <td>243100100</td>\n",
       "      <td>의류</td>\n",
       "      <td>243104100</td>\n",
       "      <td>하의</td>\n",
       "      <td>243104101</td>\n",
       "      <td>바지</td>\n",
       "      <td>13901.00</td>\n",
       "      <td>TOPTEN</td>\n",
       "      <td>1969-04-05</td>\n",
       "      <td>F</td>\n",
       "    </tr>\n",
       "    <tr>\n",
       "      <th>2</th>\n",
       "      <td>c47e93742387750baba2e238558fa12d</td>\n",
       "      <td>2021-06-03 13:02:21.636026</td>\n",
       "      <td>click_item</td>\n",
       "      <td>+9eODQMZ8YgXQZJJAo56nw==</td>\n",
       "      <td>AQNsEUBqxMy99Mk6odfWTA==</td>\n",
       "      <td>mobile</td>\n",
       "      <td>Samsung</td>\n",
       "      <td>SM-N960N</td>\n",
       "      <td>Galaxy Note9</td>\n",
       "      <td>Android 10</td>\n",
       "      <td>South Korea</td>\n",
       "      <td>Gyeonggi-do</td>\n",
       "      <td>ANDROID</td>\n",
       "      <td>남성) 치노 밴딩 팬츠</td>\n",
       "      <td>569712813f195e07974c740aeb70f7b2</td>\n",
       "      <td>39900.00</td>\n",
       "      <td>243100100</td>\n",
       "      <td>의류</td>\n",
       "      <td>243104100</td>\n",
       "      <td>하의</td>\n",
       "      <td>243104101</td>\n",
       "      <td>바지</td>\n",
       "      <td>13901.00</td>\n",
       "      <td>TOPTEN</td>\n",
       "      <td>1969-04-05</td>\n",
       "      <td>F</td>\n",
       "    </tr>\n",
       "    <tr>\n",
       "      <th>3</th>\n",
       "      <td>c47e93742387750baba2e238558fa12d</td>\n",
       "      <td>2021-06-03 13:02:58.306042</td>\n",
       "      <td>click_item</td>\n",
       "      <td>+9eODQMZ8YgXQZJJAo56nw==</td>\n",
       "      <td>DfYgpxfLCWwF+gyEmAjGkA==</td>\n",
       "      <td>mobile</td>\n",
       "      <td>Samsung</td>\n",
       "      <td>SM-N960N</td>\n",
       "      <td>Galaxy Note9</td>\n",
       "      <td>Android 10</td>\n",
       "      <td>South Korea</td>\n",
       "      <td>Gyeonggi-do</td>\n",
       "      <td>ANDROID</td>\n",
       "      <td>남성) 쿨터치 사이드밴드 슬랙스</td>\n",
       "      <td>54df4e65f4b1dfe66273203fbd3c8d23</td>\n",
       "      <td>49900.00</td>\n",
       "      <td>243100100</td>\n",
       "      <td>의류</td>\n",
       "      <td>243102100</td>\n",
       "      <td>상의</td>\n",
       "      <td>243102103</td>\n",
       "      <td>티셔츠</td>\n",
       "      <td>13901.00</td>\n",
       "      <td>TOPTEN</td>\n",
       "      <td>1969-04-05</td>\n",
       "      <td>F</td>\n",
       "    </tr>\n",
       "    <tr>\n",
       "      <th>4</th>\n",
       "      <td>f1b035b71ef5f8e1e7c1d6c0c5032faa</td>\n",
       "      <td>2021-06-10 12:15:42.476001</td>\n",
       "      <td>add_to_cart</td>\n",
       "      <td>+9eODQMZ8YgXQZJJAo56nw==</td>\n",
       "      <td>1/60mbjEzf3sI/52/d9lQA==</td>\n",
       "      <td>mobile</td>\n",
       "      <td>Samsung</td>\n",
       "      <td>SM-N960N</td>\n",
       "      <td>Galaxy Note9</td>\n",
       "      <td>Android 10</td>\n",
       "      <td>South Korea</td>\n",
       "      <td>Gyeonggi-do</td>\n",
       "      <td>ANDROID</td>\n",
       "      <td>[Laslow] SeasonUnit Sigma F (남여공용)</td>\n",
       "      <td>3cd917571a5f2a26eb01587d0276227a</td>\n",
       "      <td>65000.00</td>\n",
       "      <td>244100100</td>\n",
       "      <td>잡화</td>\n",
       "      <td>244101100</td>\n",
       "      <td>신발</td>\n",
       "      <td>244101112</td>\n",
       "      <td>슬리퍼</td>\n",
       "      <td>11481.00</td>\n",
       "      <td>LASLOW</td>\n",
       "      <td>1969-04-05</td>\n",
       "      <td>F</td>\n",
       "    </tr>\n",
       "  </tbody>\n",
       "</table>\n",
       "</div>"
      ],
      "text/plain": [
       "                         session_id            event_timestamp   event_name  \\\n",
       "0  c47e93742387750baba2e238558fa12d 2021-06-03 13:00:01.845000   click_item   \n",
       "1  c47e93742387750baba2e238558fa12d 2021-06-03 13:00:47.511013   click_item   \n",
       "2  c47e93742387750baba2e238558fa12d 2021-06-03 13:02:21.636026   click_item   \n",
       "3  c47e93742387750baba2e238558fa12d 2021-06-03 13:02:58.306042   click_item   \n",
       "4  f1b035b71ef5f8e1e7c1d6c0c5032faa 2021-06-10 12:15:42.476001  add_to_cart   \n",
       "\n",
       "                    user_no                   item_no device_type  \\\n",
       "0  +9eODQMZ8YgXQZJJAo56nw==  4KwsZkXDulM0oQ2sTVSlYQ==      mobile   \n",
       "1  +9eODQMZ8YgXQZJJAo56nw==  seELIO8ssL85o/yMQpkKNw==      mobile   \n",
       "2  +9eODQMZ8YgXQZJJAo56nw==  AQNsEUBqxMy99Mk6odfWTA==      mobile   \n",
       "3  +9eODQMZ8YgXQZJJAo56nw==  DfYgpxfLCWwF+gyEmAjGkA==      mobile   \n",
       "4  +9eODQMZ8YgXQZJJAo56nw==  1/60mbjEzf3sI/52/d9lQA==      mobile   \n",
       "\n",
       "  mobile_brand_name mobile_model_name mobile_marketing_name  \\\n",
       "0           Samsung          SM-N960N          Galaxy Note9   \n",
       "1           Samsung          SM-N960N          Galaxy Note9   \n",
       "2           Samsung          SM-N960N          Galaxy Note9   \n",
       "3           Samsung          SM-N960N          Galaxy Note9   \n",
       "4           Samsung          SM-N960N          Galaxy Note9   \n",
       "\n",
       "  operating_system_version      country       region platform  \\\n",
       "0               Android 10  South Korea  Gyeonggi-do  ANDROID   \n",
       "1               Android 10  South Korea  Gyeonggi-do  ANDROID   \n",
       "2               Android 10  South Korea  Gyeonggi-do  ANDROID   \n",
       "3               Android 10  South Korea  Gyeonggi-do  ANDROID   \n",
       "4               Android 10  South Korea  Gyeonggi-do  ANDROID   \n",
       "\n",
       "                            item_name                        image_name  \\\n",
       "0                     남성) 코튼 리넨 이지 쇼츠  ecb06f34b6d8c4c521221aebbcc0e934   \n",
       "1                        남성) 코튼 이지 쇼츠  13551f740ecacbcce3baf5e232f0fb9b   \n",
       "2                        남성) 치노 밴딩 팬츠  569712813f195e07974c740aeb70f7b2   \n",
       "3                   남성) 쿨터치 사이드밴드 슬랙스  54df4e65f4b1dfe66273203fbd3c8d23   \n",
       "4  [Laslow] SeasonUnit Sigma F (남여공용)  3cd917571a5f2a26eb01587d0276227a   \n",
       "\n",
       "     price  category1_code category1_name  category2_code category2_name  \\\n",
       "0 29900.00       243100100             의류       243104100             하의   \n",
       "1 19900.00       243100100             의류       243104100             하의   \n",
       "2 39900.00       243100100             의류       243104100             하의   \n",
       "3 49900.00       243100100             의류       243102100             상의   \n",
       "4 65000.00       244100100             잡화       244101100             신발   \n",
       "\n",
       "   category3_code category3_name  brand_no brand_name birth_date gender  \n",
       "0       243104101             바지  13901.00     TOPTEN 1969-04-05      F  \n",
       "1       243104101             바지  13901.00     TOPTEN 1969-04-05      F  \n",
       "2       243104101             바지  13901.00     TOPTEN 1969-04-05      F  \n",
       "3       243102103            티셔츠  13901.00     TOPTEN 1969-04-05      F  \n",
       "4       244101112            슬리퍼  11481.00     LASLOW 1969-04-05      F  "
      ]
     },
     "execution_count": 9,
     "metadata": {},
     "output_type": "execute_result"
    }
   ],
   "source": [
    "df['event_timestamp'] = pd.to_datetime(df['event_timestamp'])\n",
    "df.head()"
   ]
  },
  {
   "cell_type": "code",
   "execution_count": null,
   "id": "e0905a41",
   "metadata": {},
   "outputs": [],
   "source": [
    "df['event_timestamp'] = df['event_timestamp'].dt.strftime('%y/%m/%d')"
   ]
  },
  {
   "cell_type": "code",
   "execution_count": null,
   "id": "bab65b09",
   "metadata": {},
   "outputs": [],
   "source": [
    "df.head()"
   ]
  },
  {
   "cell_type": "code",
   "execution_count": null,
   "id": "03ac807d",
   "metadata": {},
   "outputs": [],
   "source": [
    "#유저 - 세션 - 타임스탬프 - 이벤트 네임 \n",
    "CH = df[['user_no', 'session_id', 'event_timestamp', 'event_name']]\n",
    "CH.head()"
   ]
  },
  {
   "cell_type": "code",
   "execution_count": null,
   "id": "ed2cda26",
   "metadata": {},
   "outputs": [],
   "source": [
    "FirstSession = CH.groupby('user_no')['event_timestamp'].min()\n",
    "FirstSession.head()"
   ]
  },
  {
   "cell_type": "code",
   "execution_count": null,
   "id": "9b403c09",
   "metadata": {},
   "outputs": [],
   "source": [
    "FirstSession"
   ]
  },
  {
   "cell_type": "code",
   "execution_count": null,
   "id": "3c9accc4",
   "metadata": {},
   "outputs": [],
   "source": [
    "CH.set_index('user_no', inplace = True)"
   ]
  },
  {
   "cell_type": "code",
   "execution_count": null,
   "id": "ffb594e8",
   "metadata": {},
   "outputs": [],
   "source": [
    "CH['FirstSession']=FirstSession"
   ]
  },
  {
   "cell_type": "code",
   "execution_count": null,
   "id": "710da0a6",
   "metadata": {},
   "outputs": [],
   "source": [
    "CH.reset_index(inplace = True)"
   ]
  },
  {
   "cell_type": "code",
   "execution_count": null,
   "id": "e91de251",
   "metadata": {},
   "outputs": [],
   "source": [
    "grouped = CH.groupby(['FirstSession', 'event_timestamp'])"
   ]
  },
  {
   "cell_type": "code",
   "execution_count": null,
   "id": "ebd9e913",
   "metadata": {},
   "outputs": [],
   "source": [
    "CH1 = grouped['user_no'].nunique()\n",
    "CH1.head(10)"
   ]
  },
  {
   "cell_type": "code",
   "execution_count": null,
   "id": "d476acd5",
   "metadata": {},
   "outputs": [],
   "source": [
    "CH1.reset_index()"
   ]
  },
  {
   "cell_type": "code",
   "execution_count": null,
   "id": "949a9273",
   "metadata": {
    "scrolled": true
   },
   "outputs": [],
   "source": [
    "CH1.rename({'user_no':'TotalUsers'},axis=1,inplace=True)\n",
    "CH1 = CH1.reset_index()"
   ]
  },
  {
   "cell_type": "code",
   "execution_count": null,
   "id": "92cba9a4",
   "metadata": {},
   "outputs": [],
   "source": [
    "CH1"
   ]
  },
  {
   "cell_type": "code",
   "execution_count": null,
   "id": "599b65a3",
   "metadata": {},
   "outputs": [],
   "source": [
    "each_period=CH1['FirstSession'].value_counts().sort_index()\n",
    "each_period"
   ]
  },
  {
   "cell_type": "code",
   "execution_count": null,
   "id": "d9a352de",
   "metadata": {},
   "outputs": [],
   "source": [
    "cohortperiod=[]\n",
    "\n",
    "for x in each_period: \n",
    "    for y in range(x):\n",
    "        cohortperiod.append(y)"
   ]
  },
  {
   "cell_type": "code",
   "execution_count": null,
   "id": "bbe77d46",
   "metadata": {},
   "outputs": [],
   "source": [
    "CH1['CohortPeriod']=cohortperiod\n",
    "CH1.head(20)"
   ]
  },
  {
   "cell_type": "code",
   "execution_count": null,
   "id": "27921f39",
   "metadata": {},
   "outputs": [],
   "source": [
    "CH1.set_index(['FirstSession','CohortPeriod'],inplace=True)\n",
    "CH1.head()"
   ]
  },
  {
   "cell_type": "code",
   "execution_count": null,
   "id": "dfa6e68b",
   "metadata": {},
   "outputs": [],
   "source": [
    "CH1=CH1['user_no'].unstack(1)\n",
    "CH1"
   ]
  },
  {
   "cell_type": "code",
   "execution_count": null,
   "id": "5d9f1f52",
   "metadata": {},
   "outputs": [],
   "source": [
    "CH1[0]"
   ]
  },
  {
   "cell_type": "code",
   "execution_count": null,
   "id": "888b7b0e",
   "metadata": {},
   "outputs": [],
   "source": [
    "user_retention=CH1.divide(CH1[0],axis=0)\n",
    "user_retention"
   ]
  },
  {
   "cell_type": "code",
   "execution_count": null,
   "id": "d33b1b45",
   "metadata": {},
   "outputs": [],
   "source": [
    "plt.figure(figsize=(200, 100))\n",
    "plt.title('Cohort Analysis', fontsize=20)\n",
    "sns.heatmap(user_retention, annot=True, annot_kws ={'size' : 20}, fmt='.0%', vmin=0, vmax=0.3)\n",
    "plt.savefig('Cohort pic')\n",
    "plt.show()\n"
   ]
  },
  {
   "cell_type": "markdown",
   "id": "b996fbbf",
   "metadata": {},
   "source": [
    "### 세션 분석"
   ]
  },
  {
   "cell_type": "code",
   "execution_count": null,
   "id": "97782f94",
   "metadata": {
    "scrolled": true
   },
   "outputs": [],
   "source": [
    "df['event_timestamp']"
   ]
  },
  {
   "cell_type": "code",
   "execution_count": null,
   "id": "d05d75a7",
   "metadata": {
    "scrolled": true
   },
   "outputs": [],
   "source": [
    "session = df['event_timestamp'].dt.strftime('%H:%M:%S')"
   ]
  },
  {
   "cell_type": "code",
   "execution_count": null,
   "id": "04ab3245",
   "metadata": {},
   "outputs": [],
   "source": [
    "session = session.sort_values()\n",
    "session"
   ]
  },
  {
   "cell_type": "code",
   "execution_count": null,
   "id": "5d891627",
   "metadata": {},
   "outputs": [],
   "source": [
    "session_0 = session[session=='00:00:00']"
   ]
  },
  {
   "cell_type": "code",
   "execution_count": null,
   "id": "9067d574",
   "metadata": {},
   "outputs": [],
   "source": [
    "session_0.value_counts()"
   ]
  },
  {
   "cell_type": "markdown",
   "id": "53d4578c",
   "metadata": {},
   "source": [
    "### 세션 대비 구매율"
   ]
  },
  {
   "cell_type": "code",
   "execution_count": null,
   "id": "12140bc4",
   "metadata": {},
   "outputs": [],
   "source": [
    "#session 중복 제거 - "
   ]
  },
  {
   "cell_type": "code",
   "execution_count": null,
   "id": "3fd322eb",
   "metadata": {
    "scrolled": true
   },
   "outputs": [],
   "source": [
    "df.groupby(['user_no','session_id'])['event_name'].count()"
   ]
  },
  {
   "cell_type": "code",
   "execution_count": null,
   "id": "9e98a3e8",
   "metadata": {},
   "outputs": [],
   "source": [
    "#일단 세션 중복 날려서 유저 당 세션 수 구하기\n",
    "df_drop_duplicate = df['session_id'].drop_duplicates()\n",
    "df_drop_duplicate"
   ]
  },
  {
   "cell_type": "code",
   "execution_count": null,
   "id": "3c7ac672",
   "metadata": {},
   "outputs": [],
   "source": [
    "#session 중복 제거된 값\n",
    "df_drop_duplicate = df[['user_no','session_id']]\n",
    "df_drop_duplicate = df_drop_duplicate.drop_duplicates()"
   ]
  },
  {
   "cell_type": "code",
   "execution_count": null,
   "id": "c64fb021",
   "metadata": {},
   "outputs": [],
   "source": [
    "#사용자별 세션 수\n",
    "drop_session = df_drop_duplicate.groupby('user_no')['session_id'].count()"
   ]
  },
  {
   "cell_type": "code",
   "execution_count": null,
   "id": "fd81ccfe",
   "metadata": {},
   "outputs": [],
   "source": [
    "#purchase 수\n",
    "purchase = df[df['event_name']=='purchase_success']\n",
    "#df 5880407 / purchase = 465253"
   ]
  },
  {
   "cell_type": "code",
   "execution_count": null,
   "id": "9496ceb2",
   "metadata": {},
   "outputs": [],
   "source": [
    "purchase_session = purchase.groupby('user_no')['session_id'].count()"
   ]
  },
  {
   "cell_type": "code",
   "execution_count": null,
   "id": "9a9e54d9",
   "metadata": {},
   "outputs": [],
   "source": [
    "purchase_session = purchase_session.reset_index()"
   ]
  },
  {
   "cell_type": "code",
   "execution_count": null,
   "id": "cc475dd3",
   "metadata": {},
   "outputs": [],
   "source": [
    "purchase_session.columns = ['user_no', 'purchase_success']"
   ]
  },
  {
   "cell_type": "code",
   "execution_count": null,
   "id": "ebd26096",
   "metadata": {},
   "outputs": [],
   "source": [
    "User_drop_duplicate = pd.merge(purchase_session, drop_session, how='outer', on = 'user_no')"
   ]
  },
  {
   "cell_type": "code",
   "execution_count": null,
   "id": "b3cd5bf9",
   "metadata": {},
   "outputs": [],
   "source": [
    "User_drop_duplicate['세션 당 구매'] = User_drop_duplicate['purchase_success']/User_drop_duplicate['session_id']*100"
   ]
  },
  {
   "cell_type": "code",
   "execution_count": null,
   "id": "f062ea25",
   "metadata": {},
   "outputs": [],
   "source": [
    "#유저 당 구매 횟수, 세션 수, 세션 당 구매(%)\n",
    "User_drop_duplicate.head()"
   ]
  },
  {
   "cell_type": "code",
   "execution_count": null,
   "id": "58e931d1",
   "metadata": {},
   "outputs": [],
   "source": [
    "User_drop_duplicate.sort_values(by = '세션 당 구매', ascending=False).head()"
   ]
  },
  {
   "cell_type": "code",
   "execution_count": null,
   "id": "f892f654",
   "metadata": {},
   "outputs": [],
   "source": [
    "User_drop_duplicate.sort_values(by = 'session_id', ascending=False).head()"
   ]
  },
  {
   "cell_type": "code",
   "execution_count": null,
   "id": "ac11c211",
   "metadata": {},
   "outputs": [],
   "source": [
    "User_drop_duplicate.sort_values(by = 'purchase_success', ascending=False).head()"
   ]
  },
  {
   "cell_type": "code",
   "execution_count": null,
   "id": "7c5dc2dc",
   "metadata": {},
   "outputs": [],
   "source": [
    "User_drop_duplicate.describe()"
   ]
  },
  {
   "cell_type": "markdown",
   "id": "d83cae55",
   "metadata": {},
   "source": [
    "### 세션 당 구매 금액, 유저 당 구매 금액"
   ]
  },
  {
   "cell_type": "code",
   "execution_count": 10,
   "id": "4551ef43",
   "metadata": {},
   "outputs": [
    {
     "data": {
      "text/plain": [
       "user_no                   session_id                        event_name      \n",
       "+++T9c17sr6wEYOy9UFv3w==  1679091c5a880faf6fb5e6087eb1b2dc  like_item           1\n",
       "                          8f14e45fceea167a5a36dedd4bea2543  like_item           1\n",
       "                          a87ff679a2f3e71d9181a67b7542122c  add_to_cart         1\n",
       "                                                            click_item          1\n",
       "                          c4ca4238a0b923820dcc509a6f75849b  purchase_success    1\n",
       "                                                                               ..\n",
       "zzxlG1wzPCGvsW0SlOleDg==  2afffa6a9f1e44c3fa8d7a6f320cd59c  click_item          1\n",
       "zzzTNW8escss3zrnpuGMhQ==  1a5794d7d2b6ab6321ee060c679a6ab6  add_to_cart         1\n",
       "zzzWx+6Z3L2IRJBTgvBs5g==  23b97dc3b2fc80c1924d28c53164351a  purchase_success    1\n",
       "                          384b39b543032d5211fc47821c26a837  click_item          1\n",
       "                          ba26b3c58cb9a591d68ad8fb78b468f7  purchase_success    2\n",
       "Name: item_name, Length: 1656678, dtype: int64"
      ]
     },
     "execution_count": 10,
     "metadata": {},
     "output_type": "execute_result"
    }
   ],
   "source": [
    "#유저 별 셋션 당 아이템\n",
    "df.groupby(['user_no','session_id','event_name'])['item_name'].count()"
   ]
  },
  {
   "cell_type": "code",
   "execution_count": 11,
   "id": "4067d92e",
   "metadata": {},
   "outputs": [],
   "source": [
    "user_price = df.groupby(['user_no','session_id','event_name'])['price'].sum()"
   ]
  },
  {
   "cell_type": "code",
   "execution_count": 12,
   "id": "8566ef73",
   "metadata": {},
   "outputs": [],
   "source": [
    "user_price = user_price.reset_index()"
   ]
  },
  {
   "cell_type": "code",
   "execution_count": 13,
   "id": "ffaa2e5a",
   "metadata": {
    "scrolled": true
   },
   "outputs": [],
   "source": [
    "user_price_purchase = user_price[user_price['event_name']=='purchase_success']"
   ]
  },
  {
   "cell_type": "code",
   "execution_count": 14,
   "id": "35f11362",
   "metadata": {},
   "outputs": [],
   "source": [
    "user_sales = user_price_purchase.groupby('user_no')['price'].sum()"
   ]
  },
  {
   "cell_type": "code",
   "execution_count": 15,
   "id": "04d77ef0",
   "metadata": {},
   "outputs": [
    {
     "data": {
      "text/plain": [
       "user_no\n",
       "b2xZVfUtjyGsZckO7j6zkg==   29726100.00\n",
       "anAN3a+fvEnnvFdQ61+Egw==   22966700.00\n",
       "pywOPeCTmJKudBVHC1/5iw==   11035900.00\n",
       "b/lqkmii6O9hL/CH0kWgLA==   10094000.00\n",
       "8j/l4DjsSqXcIR9r5GAmLQ==   10068900.00\n",
       "                               ...    \n",
       "zsIsMbNoIc4xEmZenh3B3w==        600.00\n",
       "N1KCZiTobZBss1eWO2iSaA==        500.00\n",
       "b92MPzK5El3jMdyexHEcwA==        500.00\n",
       "yHqaSnz/MQRtTX8TRSQ/yA==          0.00\n",
       "6ir2ttlfekzXxidzH6Gu3A==          0.00\n",
       "Name: price, Length: 146904, dtype: float64"
      ]
     },
     "execution_count": 15,
     "metadata": {},
     "output_type": "execute_result"
    }
   ],
   "source": [
    "#고객당 구매 금액\n",
    "user_sales.sort_values(ascending = False)"
   ]
  },
  {
   "cell_type": "code",
   "execution_count": 16,
   "id": "b1bc372b",
   "metadata": {},
   "outputs": [],
   "source": [
    "user_sales = user_sales.reset_index()"
   ]
  },
  {
   "cell_type": "code",
   "execution_count": 17,
   "id": "8e19cf1f",
   "metadata": {},
   "outputs": [
    {
     "data": {
      "image/png": "[encoded data removed]",
      "text/plain": [
       "<Figure size 288x504 with 1 Axes>"
      ]
     },
     "metadata": {
      "needs_background": "light"
     },
     "output_type": "display_data"
    }
   ],
   "source": [
    "# boxplot 세로 그래프\n",
    "plt.figure(figsize = (4, 7))\n",
    "sns.boxplot(y = 'price', data = user_sales)\n",
    "plt.title('vertical graph', size = 15)\n",
    "plt.show()"
   ]
  },
  {
   "cell_type": "markdown",
   "id": "98c49492",
   "metadata": {},
   "source": [
    "**소수 유저의 구매 금액이 이상치 급으로 큰 것을 확인**"
   ]
  },
  {
   "cell_type": "markdown",
   "id": "7049b645",
   "metadata": {},
   "source": [
    "## RFM 분석 - Monetary"
   ]
  },
  {
   "cell_type": "code",
   "execution_count": 65,
   "id": "1bc236bd",
   "metadata": {},
   "outputs": [
    {
     "name": "stdout",
     "output_type": "stream",
     "text": [
      "Q1:  49000.0\n",
      "Q2:  100499.5\n",
      "Q3:  216500.0\n",
      "Q4:  29726100.0\n"
     ]
    }
   ],
   "source": [
    "#4 Quantile\n",
    "num = user_sales['price']\n",
    "Q1 = num.quantile(.25)\n",
    "Q3 = num.quantile(.75)\n",
    "IQR = Q3 - Q1\n",
    "Q2 = num.quantile(.5)\n",
    "Q4 = num.quantile(1)\n",
    "\n",
    "print('Q1: ', Q1)\n",
    "print('Q2: ', Q2)\n",
    "print('Q3: ', Q3)\n",
    "print('Q4: ', Q4)"
   ]
  },
  {
   "cell_type": "code",
   "execution_count": 73,
   "id": "c2e8d6c2",
   "metadata": {},
   "outputs": [],
   "source": [
    "user_sales['monetary'] = \"\""
   ]
  },
  {
   "cell_type": "code",
   "execution_count": 74,
   "id": "64347065",
   "metadata": {},
   "outputs": [],
   "source": [
    "#monetary 를 4분위로 점수 부여\n",
    "for i in range(1, len(user_sales['monetary'])):\n",
    "    if user_sales['price'][i] > Q3 :\n",
    "        user_sales['monetary'][i] = 4\n",
    "    elif user_sales['price'][i] > Q2:\n",
    "        user_sales['monetary'][i] = 3\n",
    "    elif user_sales['price'][i] > Q1:\n",
    "        user_sales['monetary'][i] = 2\n",
    "    else:\n",
    "        user_sales['monetary'][i] = 1"
   ]
  },
  {
   "cell_type": "code",
   "execution_count": 75,
   "id": "098a97c2",
   "metadata": {},
   "outputs": [
    {
     "data": {
      "text/html": [
       "<div>\n",
       "<style scoped>\n",
       "    .dataframe tbody tr th:only-of-type {\n",
       "        vertical-align: middle;\n",
       "    }\n",
       "\n",
       "    .dataframe tbody tr th {\n",
       "        vertical-align: top;\n",
       "    }\n",
       "\n",
       "    .dataframe thead th {\n",
       "        text-align: right;\n",
       "    }\n",
       "</style>\n",
       "<table border=\"1\" class=\"dataframe\">\n",
       "  <thead>\n",
       "    <tr style=\"text-align: right;\">\n",
       "      <th></th>\n",
       "      <th>user_no</th>\n",
       "      <th>price</th>\n",
       "      <th>monetary</th>\n",
       "    </tr>\n",
       "  </thead>\n",
       "  <tbody>\n",
       "    <tr>\n",
       "      <th>0</th>\n",
       "      <td>+++T9c17sr6wEYOy9UFv3w==</td>\n",
       "      <td>274500.00</td>\n",
       "      <td></td>\n",
       "    </tr>\n",
       "    <tr>\n",
       "      <th>1</th>\n",
       "      <td>+++aQH5NnhiU/9qECKk3uQ==</td>\n",
       "      <td>163000.00</td>\n",
       "      <td>3</td>\n",
       "    </tr>\n",
       "    <tr>\n",
       "      <th>2</th>\n",
       "      <td>++0bwiYVJ/TAsCpxI4UCuw==</td>\n",
       "      <td>88000.00</td>\n",
       "      <td>2</td>\n",
       "    </tr>\n",
       "    <tr>\n",
       "      <th>3</th>\n",
       "      <td>++1HN9s1imztN8ftPCt3LA==</td>\n",
       "      <td>16800.00</td>\n",
       "      <td>1</td>\n",
       "    </tr>\n",
       "    <tr>\n",
       "      <th>4</th>\n",
       "      <td>++2StXdzG0Bj/Kkb5EFcog==</td>\n",
       "      <td>25900.00</td>\n",
       "      <td>1</td>\n",
       "    </tr>\n",
       "  </tbody>\n",
       "</table>\n",
       "</div>"
      ],
      "text/plain": [
       "                    user_no     price monetary\n",
       "0  +++T9c17sr6wEYOy9UFv3w== 274500.00         \n",
       "1  +++aQH5NnhiU/9qECKk3uQ== 163000.00        3\n",
       "2  ++0bwiYVJ/TAsCpxI4UCuw==  88000.00        2\n",
       "3  ++1HN9s1imztN8ftPCt3LA==  16800.00        1\n",
       "4  ++2StXdzG0Bj/Kkb5EFcog==  25900.00        1"
      ]
     },
     "execution_count": 75,
     "metadata": {},
     "output_type": "execute_result"
    }
   ],
   "source": [
    "user_sales.head()"
   ]
  },
  {
   "cell_type": "code",
   "execution_count": 46,
   "id": "79d47aa4",
   "metadata": {
    "collapsed": true
   },
   "outputs": [
    {
     "ename": "KeyboardInterrupt",
     "evalue": "",
     "output_type": "error",
     "traceback": [
      "\u001b[0;31m---------------------------------------------------------------------------\u001b[0m",
      "\u001b[0;31mKeyboardInterrupt\u001b[0m                         Traceback (most recent call last)",
      "\u001b[0;32m/var/folders/3c/6rc19g3n3p9ctq6gjs0d2c_40000gn/T/ipykernel_57794/2218208479.py\u001b[0m in \u001b[0;36m<module>\u001b[0;34m\u001b[0m\n\u001b[1;32m      7\u001b[0m         \u001b[0mdf\u001b[0m\u001b[0;34m.\u001b[0m\u001b[0mloc\u001b[0m\u001b[0;34m[\u001b[0m\u001b[0mindex\u001b[0m\u001b[0;34m,\u001b[0m \u001b[0;34m'monetary'\u001b[0m\u001b[0;34m]\u001b[0m \u001b[0;34m=\u001b[0m \u001b[0;36m2\u001b[0m\u001b[0;34m\u001b[0m\u001b[0;34m\u001b[0m\u001b[0m\n\u001b[1;32m      8\u001b[0m     \u001b[0;32melse\u001b[0m\u001b[0;34m:\u001b[0m\u001b[0;34m\u001b[0m\u001b[0;34m\u001b[0m\u001b[0m\n\u001b[0;32m----> 9\u001b[0;31m         \u001b[0mdf\u001b[0m\u001b[0;34m.\u001b[0m\u001b[0mloc\u001b[0m\u001b[0;34m[\u001b[0m\u001b[0mindex\u001b[0m\u001b[0;34m,\u001b[0m \u001b[0;34m'monetary'\u001b[0m\u001b[0;34m]\u001b[0m \u001b[0;34m=\u001b[0m \u001b[0;36m1\u001b[0m\u001b[0;34m\u001b[0m\u001b[0;34m\u001b[0m\u001b[0m\n\u001b[0m",
      "\u001b[0;32m~/opt/anaconda3/lib/python3.9/site-packages/pandas/core/indexing.py\u001b[0m in \u001b[0;36m__setitem__\u001b[0;34m(self, key, value)\u001b[0m\n\u001b[1;32m    721\u001b[0m \u001b[0;34m\u001b[0m\u001b[0m\n\u001b[1;32m    722\u001b[0m         \u001b[0miloc\u001b[0m \u001b[0;34m=\u001b[0m \u001b[0mself\u001b[0m \u001b[0;32mif\u001b[0m \u001b[0mself\u001b[0m\u001b[0;34m.\u001b[0m\u001b[0mname\u001b[0m \u001b[0;34m==\u001b[0m \u001b[0;34m\"iloc\"\u001b[0m \u001b[0;32melse\u001b[0m \u001b[0mself\u001b[0m\u001b[0;34m.\u001b[0m\u001b[0mobj\u001b[0m\u001b[0;34m.\u001b[0m\u001b[0miloc\u001b[0m\u001b[0;34m\u001b[0m\u001b[0;34m\u001b[0m\u001b[0m\n\u001b[0;32m--> 723\u001b[0;31m         \u001b[0miloc\u001b[0m\u001b[0;34m.\u001b[0m\u001b[0m_setitem_with_indexer\u001b[0m\u001b[0;34m(\u001b[0m\u001b[0mindexer\u001b[0m\u001b[0;34m,\u001b[0m \u001b[0mvalue\u001b[0m\u001b[0;34m,\u001b[0m \u001b[0mself\u001b[0m\u001b[0;34m.\u001b[0m\u001b[0mname\u001b[0m\u001b[0;34m)\u001b[0m\u001b[0;34m\u001b[0m\u001b[0;34m\u001b[0m\u001b[0m\n\u001b[0m\u001b[1;32m    724\u001b[0m \u001b[0;34m\u001b[0m\u001b[0m\n\u001b[1;32m    725\u001b[0m     \u001b[0;32mdef\u001b[0m \u001b[0m_validate_key\u001b[0m\u001b[0;34m(\u001b[0m\u001b[0mself\u001b[0m\u001b[0;34m,\u001b[0m \u001b[0mkey\u001b[0m\u001b[0;34m,\u001b[0m \u001b[0maxis\u001b[0m\u001b[0;34m:\u001b[0m \u001b[0mint\u001b[0m\u001b[0;34m)\u001b[0m\u001b[0;34m:\u001b[0m\u001b[0;34m\u001b[0m\u001b[0;34m\u001b[0m\u001b[0m\n",
      "\u001b[0;32m~/opt/anaconda3/lib/python3.9/site-packages/pandas/core/indexing.py\u001b[0m in \u001b[0;36m_setitem_with_indexer\u001b[0;34m(self, indexer, value, name)\u001b[0m\n\u001b[1;32m   1728\u001b[0m         \u001b[0;32mif\u001b[0m \u001b[0mtake_split_path\u001b[0m\u001b[0;34m:\u001b[0m\u001b[0;34m\u001b[0m\u001b[0;34m\u001b[0m\u001b[0m\n\u001b[1;32m   1729\u001b[0m             \u001b[0;31m# We have to operate column-wise\u001b[0m\u001b[0;34m\u001b[0m\u001b[0;34m\u001b[0m\u001b[0m\n\u001b[0;32m-> 1730\u001b[0;31m             \u001b[0mself\u001b[0m\u001b[0;34m.\u001b[0m\u001b[0m_setitem_with_indexer_split_path\u001b[0m\u001b[0;34m(\u001b[0m\u001b[0mindexer\u001b[0m\u001b[0;34m,\u001b[0m \u001b[0mvalue\u001b[0m\u001b[0;34m,\u001b[0m \u001b[0mname\u001b[0m\u001b[0;34m)\u001b[0m\u001b[0;34m\u001b[0m\u001b[0;34m\u001b[0m\u001b[0m\n\u001b[0m\u001b[1;32m   1731\u001b[0m         \u001b[0;32melse\u001b[0m\u001b[0;34m:\u001b[0m\u001b[0;34m\u001b[0m\u001b[0;34m\u001b[0m\u001b[0m\n\u001b[1;32m   1732\u001b[0m             \u001b[0mself\u001b[0m\u001b[0;34m.\u001b[0m\u001b[0m_setitem_single_block\u001b[0m\u001b[0;34m(\u001b[0m\u001b[0mindexer\u001b[0m\u001b[0;34m,\u001b[0m \u001b[0mvalue\u001b[0m\u001b[0;34m,\u001b[0m \u001b[0mname\u001b[0m\u001b[0;34m)\u001b[0m\u001b[0;34m\u001b[0m\u001b[0;34m\u001b[0m\u001b[0m\n",
      "\u001b[0;32m~/opt/anaconda3/lib/python3.9/site-packages/pandas/core/indexing.py\u001b[0m in \u001b[0;36m_setitem_with_indexer_split_path\u001b[0;34m(self, indexer, value, name)\u001b[0m\n\u001b[1;32m   1815\u001b[0m             \u001b[0;31m# scalar value\u001b[0m\u001b[0;34m\u001b[0m\u001b[0;34m\u001b[0m\u001b[0m\n\u001b[1;32m   1816\u001b[0m             \u001b[0;32mfor\u001b[0m \u001b[0mloc\u001b[0m \u001b[0;32min\u001b[0m \u001b[0milocs\u001b[0m\u001b[0;34m:\u001b[0m\u001b[0;34m\u001b[0m\u001b[0;34m\u001b[0m\u001b[0m\n\u001b[0;32m-> 1817\u001b[0;31m                 \u001b[0mself\u001b[0m\u001b[0;34m.\u001b[0m\u001b[0m_setitem_single_column\u001b[0m\u001b[0;34m(\u001b[0m\u001b[0mloc\u001b[0m\u001b[0;34m,\u001b[0m \u001b[0mvalue\u001b[0m\u001b[0;34m,\u001b[0m \u001b[0mpi\u001b[0m\u001b[0;34m)\u001b[0m\u001b[0;34m\u001b[0m\u001b[0;34m\u001b[0m\u001b[0m\n\u001b[0m\u001b[1;32m   1818\u001b[0m \u001b[0;34m\u001b[0m\u001b[0m\n\u001b[1;32m   1819\u001b[0m     \u001b[0;32mdef\u001b[0m \u001b[0m_setitem_with_indexer_2d_value\u001b[0m\u001b[0;34m(\u001b[0m\u001b[0mself\u001b[0m\u001b[0;34m,\u001b[0m \u001b[0mindexer\u001b[0m\u001b[0;34m,\u001b[0m \u001b[0mvalue\u001b[0m\u001b[0;34m)\u001b[0m\u001b[0;34m:\u001b[0m\u001b[0;34m\u001b[0m\u001b[0;34m\u001b[0m\u001b[0m\n",
      "\u001b[0;31mKeyboardInterrupt\u001b[0m: "
     ]
    }
   ],
   "source": [
    "# for index, row in user_sales.iterrows():\n",
    "#     if row.price > Q3:\n",
    "#         df.loc[index, 'monetary'] = 4\n",
    "#     elif row.price > Q2:\n",
    "#         df.loc[index, 'monetary'] = 3\n",
    "#     elif row.price > Q1:\n",
    "#         df.loc[index, 'monetary'] = 2\n",
    "#     else:\n",
    "#         df.loc[index, 'monetary'] = 1"
   ]
  },
  {
   "cell_type": "code",
   "execution_count": 63,
   "id": "31fec407",
   "metadata": {},
   "outputs": [
    {
     "data": {
      "text/plain": [
       "1    37794\n",
       "3    36731\n",
       "4    36721\n",
       "2    35658\n",
       "Name: 등급, dtype: int64"
      ]
     },
     "execution_count": 63,
     "metadata": {},
     "output_type": "execute_result"
    }
   ],
   "source": [
    "#점수 별 수\n",
    "user_sales['monetary'].value_counts()"
   ]
  },
  {
   "cell_type": "markdown",
   "id": "e2f20847",
   "metadata": {},
   "source": [
    "## RFM 분석 - Frequency"
   ]
  },
  {
   "cell_type": "code",
   "execution_count": 79,
   "id": "162c94da",
   "metadata": {},
   "outputs": [],
   "source": [
    "#구매 빈도 구하기\n",
    "user_purchase = df[df['event_name']=='purchase_success'][['user_no', 'event_timestamp']]"
   ]
  },
  {
   "cell_type": "code",
   "execution_count": 81,
   "id": "d48b91ad",
   "metadata": {},
   "outputs": [
    {
     "data": {
      "text/html": [
       "<div>\n",
       "<style scoped>\n",
       "    .dataframe tbody tr th:only-of-type {\n",
       "        vertical-align: middle;\n",
       "    }\n",
       "\n",
       "    .dataframe tbody tr th {\n",
       "        vertical-align: top;\n",
       "    }\n",
       "\n",
       "    .dataframe thead th {\n",
       "        text-align: right;\n",
       "    }\n",
       "</style>\n",
       "<table border=\"1\" class=\"dataframe\">\n",
       "  <thead>\n",
       "    <tr style=\"text-align: right;\">\n",
       "      <th></th>\n",
       "      <th>user_no</th>\n",
       "      <th>event_timestamp</th>\n",
       "    </tr>\n",
       "  </thead>\n",
       "  <tbody>\n",
       "    <tr>\n",
       "      <th>40</th>\n",
       "      <td>l1wFRhb3av5rTWyYEofrIA==</td>\n",
       "      <td>2021-07-22 09:06:32.310004</td>\n",
       "    </tr>\n",
       "    <tr>\n",
       "      <th>49</th>\n",
       "      <td>l1wFRhb3av5rTWyYEofrIA==</td>\n",
       "      <td>2021-07-22 09:06:32.312005</td>\n",
       "    </tr>\n",
       "    <tr>\n",
       "      <th>52</th>\n",
       "      <td>Y5GM63HPuFwrRnvYhDu7sQ==</td>\n",
       "      <td>2021-06-05 16:34:41.511016</td>\n",
       "    </tr>\n",
       "    <tr>\n",
       "      <th>53</th>\n",
       "      <td>Y5GM63HPuFwrRnvYhDu7sQ==</td>\n",
       "      <td>2021-06-05 16:34:41.511017</td>\n",
       "    </tr>\n",
       "    <tr>\n",
       "      <th>55</th>\n",
       "      <td>Y5GM63HPuFwrRnvYhDu7sQ==</td>\n",
       "      <td>2021-06-10 20:26:17.230003</td>\n",
       "    </tr>\n",
       "  </tbody>\n",
       "</table>\n",
       "</div>"
      ],
      "text/plain": [
       "                     user_no            event_timestamp\n",
       "40  l1wFRhb3av5rTWyYEofrIA== 2021-07-22 09:06:32.310004\n",
       "49  l1wFRhb3av5rTWyYEofrIA== 2021-07-22 09:06:32.312005\n",
       "52  Y5GM63HPuFwrRnvYhDu7sQ== 2021-06-05 16:34:41.511016\n",
       "53  Y5GM63HPuFwrRnvYhDu7sQ== 2021-06-05 16:34:41.511017\n",
       "55  Y5GM63HPuFwrRnvYhDu7sQ== 2021-06-10 20:26:17.230003"
      ]
     },
     "execution_count": 81,
     "metadata": {},
     "output_type": "execute_result"
    }
   ],
   "source": [
    "user_purchase.head()"
   ]
  },
  {
   "cell_type": "code",
   "execution_count": 84,
   "id": "19aa37c4",
   "metadata": {},
   "outputs": [],
   "source": [
    "user_purchase = user_purchase.groupby('user_no')['event_timestamp'].count().reset_index()"
   ]
  },
  {
   "cell_type": "code",
   "execution_count": 87,
   "id": "9641a62c",
   "metadata": {
    "scrolled": true
   },
   "outputs": [
    {
     "data": {
      "text/plain": [
       "1      60644\n",
       "2      32572\n",
       "3      15983\n",
       "4      10955\n",
       "5       6391\n",
       "6       4858\n",
       "7       3186\n",
       "8       2555\n",
       "9       1867\n",
       "10      1529\n",
       "11      1083\n",
       "12       925\n",
       "13       683\n",
       "14       580\n",
       "15       458\n",
       "16       391\n",
       "17       292\n",
       "18       261\n",
       "19       192\n",
       "20       184\n",
       "21       132\n",
       "22       128\n",
       "23       117\n",
       "24       106\n",
       "25        95\n",
       "26        63\n",
       "27        74\n",
       "28        49\n",
       "29        48\n",
       "30        48\n",
       "31        43\n",
       "32        29\n",
       "33        42\n",
       "34        26\n",
       "35        31\n",
       "36        24\n",
       "37        18\n",
       "38        15\n",
       "39        21\n",
       "40        10\n",
       "41        12\n",
       "42        11\n",
       "43        16\n",
       "44        11\n",
       "45        11\n",
       "46         5\n",
       "47         7\n",
       "48         7\n",
       "49         5\n",
       "50         9\n",
       "51         9\n",
       "52         4\n",
       "53         5\n",
       "54         7\n",
       "55         4\n",
       "56         2\n",
       "57         5\n",
       "58         1\n",
       "59         4\n",
       "60         2\n",
       "61         5\n",
       "62         3\n",
       "63         2\n",
       "64         2\n",
       "65         2\n",
       "67         2\n",
       "68         4\n",
       "70         3\n",
       "71         4\n",
       "72         1\n",
       "73         1\n",
       "74         1\n",
       "75         3\n",
       "77         1\n",
       "78         2\n",
       "79         1\n",
       "82         1\n",
       "84         2\n",
       "87         1\n",
       "90         1\n",
       "91         1\n",
       "92         1\n",
       "95         1\n",
       "96         1\n",
       "99         1\n",
       "103        1\n",
       "106        1\n",
       "111        1\n",
       "115        2\n",
       "119        1\n",
       "123        1\n",
       "132        1\n",
       "134        1\n",
       "160        1\n",
       "203        1\n",
       "253        1\n",
       "Name: event_timestamp, dtype: int64"
      ]
     },
     "execution_count": 87,
     "metadata": {},
     "output_type": "execute_result"
    }
   ],
   "source": [
    "#구매 빈도\n",
    "user_purchase['event_timestamp'].value_counts().sort_index()"
   ]
  },
  {
   "cell_type": "code",
   "execution_count": 90,
   "id": "dbe8f57a",
   "metadata": {},
   "outputs": [],
   "source": [
    "user_purchase['frequency'] = \"\""
   ]
  },
  {
   "cell_type": "code",
   "execution_count": 98,
   "id": "3014dff4",
   "metadata": {},
   "outputs": [
    {
     "data": {
      "text/html": [
       "<div>\n",
       "<style scoped>\n",
       "    .dataframe tbody tr th:only-of-type {\n",
       "        vertical-align: middle;\n",
       "    }\n",
       "\n",
       "    .dataframe tbody tr th {\n",
       "        vertical-align: top;\n",
       "    }\n",
       "\n",
       "    .dataframe thead th {\n",
       "        text-align: right;\n",
       "    }\n",
       "</style>\n",
       "<table border=\"1\" class=\"dataframe\">\n",
       "  <thead>\n",
       "    <tr style=\"text-align: right;\">\n",
       "      <th></th>\n",
       "      <th>user_no</th>\n",
       "      <th>event_timestamp</th>\n",
       "      <th>frequency</th>\n",
       "    </tr>\n",
       "  </thead>\n",
       "  <tbody>\n",
       "    <tr>\n",
       "      <th>0</th>\n",
       "      <td>+++T9c17sr6wEYOy9UFv3w==</td>\n",
       "      <td>4</td>\n",
       "      <td></td>\n",
       "    </tr>\n",
       "    <tr>\n",
       "      <th>1</th>\n",
       "      <td>+++aQH5NnhiU/9qECKk3uQ==</td>\n",
       "      <td>2</td>\n",
       "      <td></td>\n",
       "    </tr>\n",
       "    <tr>\n",
       "      <th>2</th>\n",
       "      <td>++0bwiYVJ/TAsCpxI4UCuw==</td>\n",
       "      <td>1</td>\n",
       "      <td></td>\n",
       "    </tr>\n",
       "    <tr>\n",
       "      <th>3</th>\n",
       "      <td>++1HN9s1imztN8ftPCt3LA==</td>\n",
       "      <td>1</td>\n",
       "      <td></td>\n",
       "    </tr>\n",
       "    <tr>\n",
       "      <th>4</th>\n",
       "      <td>++2StXdzG0Bj/Kkb5EFcog==</td>\n",
       "      <td>1</td>\n",
       "      <td></td>\n",
       "    </tr>\n",
       "  </tbody>\n",
       "</table>\n",
       "</div>"
      ],
      "text/plain": [
       "                    user_no  event_timestamp frequency\n",
       "0  +++T9c17sr6wEYOy9UFv3w==                4          \n",
       "1  +++aQH5NnhiU/9qECKk3uQ==                2          \n",
       "2  ++0bwiYVJ/TAsCpxI4UCuw==                1          \n",
       "3  ++1HN9s1imztN8ftPCt3LA==                1          \n",
       "4  ++2StXdzG0Bj/Kkb5EFcog==                1          "
      ]
     },
     "execution_count": 98,
     "metadata": {},
     "output_type": "execute_result"
    }
   ],
   "source": [
    "user_purchase.head()"
   ]
  },
  {
   "cell_type": "code",
   "execution_count": 105,
   "id": "570b96d0",
   "metadata": {},
   "outputs": [],
   "source": [
    "# frequency 점수 부여\n",
    "for i in range(1, len(user_purchase['frequency'])):\n",
    "    if user_purchase['event_timestamp'][i] == 1:\n",
    "        user_purchase['frequency'][i] = 1\n",
    "    elif user_purchase['event_timestamp'][i] <= 3:\n",
    "        user_purchase['frequency'][i] = 2\n",
    "    elif user_purchase['event_timestamp'][i] <= 10:\n",
    "        user_purchase['frequency'][i] = 3\n",
    "    else:\n",
    "        user_purchase['frequency'][i] = 4"
   ]
  },
  {
   "cell_type": "code",
   "execution_count": null,
   "id": "1daa43d4",
   "metadata": {},
   "outputs": [],
   "source": [
    "# for i in range(1, 146905):\n",
    "#     if df_Frequency['Frequency_purchase'][i] == 1:\n",
    "#         df_Frequency['F_Score'][i] = 1\n",
    "#     elif df_Frequency['Frequency_purchase'][i] <= 3:\n",
    "#         df_Frequency['F_Score'][i] = 2\n",
    "#     elif df_Frequency['Frequency_purchase'][i] <= 10:\n",
    "#         df_Frequency['F_Score'][i] = 3\n",
    "#     else:\n",
    "#         df_Frequency['F_Score'][i] = 4"
   ]
  },
  {
   "cell_type": "code",
   "execution_count": 106,
   "id": "2e63d90e",
   "metadata": {
    "scrolled": false
   },
   "outputs": [
    {
     "data": {
      "text/plain": [
       "1    60644\n",
       "2    48555\n",
       "3    31340\n",
       "4     6364\n",
       "         1\n",
       "Name: frequency, dtype: int64"
      ]
     },
     "execution_count": 106,
     "metadata": {},
     "output_type": "execute_result"
    }
   ],
   "source": [
    "user_purchase['frequency'].value_counts()"
   ]
  },
  {
   "cell_type": "markdown",
   "id": "ee82a16e",
   "metadata": {},
   "source": [
    "## RFM 분석 - Frequency 세션 기준"
   ]
  },
  {
   "cell_type": "code",
   "execution_count": 280,
   "id": "298e2870",
   "metadata": {},
   "outputs": [],
   "source": [
    "user_recency = df[df['event_name']=='purchase_success'][['session_id', 'user_no', 'event_timestamp', 'event_name']]"
   ]
  },
  {
   "cell_type": "code",
   "execution_count": 281,
   "id": "07c134b5",
   "metadata": {},
   "outputs": [
    {
     "data": {
      "text/html": [
       "<div>\n",
       "<style scoped>\n",
       "    .dataframe tbody tr th:only-of-type {\n",
       "        vertical-align: middle;\n",
       "    }\n",
       "\n",
       "    .dataframe tbody tr th {\n",
       "        vertical-align: top;\n",
       "    }\n",
       "\n",
       "    .dataframe thead th {\n",
       "        text-align: right;\n",
       "    }\n",
       "</style>\n",
       "<table border=\"1\" class=\"dataframe\">\n",
       "  <thead>\n",
       "    <tr style=\"text-align: right;\">\n",
       "      <th></th>\n",
       "      <th>session_id</th>\n",
       "      <th>user_no</th>\n",
       "      <th>event_timestamp</th>\n",
       "      <th>event_name</th>\n",
       "    </tr>\n",
       "  </thead>\n",
       "  <tbody>\n",
       "    <tr>\n",
       "      <th>40</th>\n",
       "      <td>cddf65caad5fe0da36ceaeaf6ecc7d45</td>\n",
       "      <td>l1wFRhb3av5rTWyYEofrIA==</td>\n",
       "      <td>2021-07-22 09:06:32.310004</td>\n",
       "      <td>purchase_success</td>\n",
       "    </tr>\n",
       "    <tr>\n",
       "      <th>49</th>\n",
       "      <td>cddf65caad5fe0da36ceaeaf6ecc7d45</td>\n",
       "      <td>l1wFRhb3av5rTWyYEofrIA==</td>\n",
       "      <td>2021-07-22 09:06:32.312005</td>\n",
       "      <td>purchase_success</td>\n",
       "    </tr>\n",
       "    <tr>\n",
       "      <th>52</th>\n",
       "      <td>16e708ee91a1bd7beb297bf6bad1ddaa</td>\n",
       "      <td>Y5GM63HPuFwrRnvYhDu7sQ==</td>\n",
       "      <td>2021-06-05 16:34:41.511016</td>\n",
       "      <td>purchase_success</td>\n",
       "    </tr>\n",
       "    <tr>\n",
       "      <th>53</th>\n",
       "      <td>16e708ee91a1bd7beb297bf6bad1ddaa</td>\n",
       "      <td>Y5GM63HPuFwrRnvYhDu7sQ==</td>\n",
       "      <td>2021-06-05 16:34:41.511017</td>\n",
       "      <td>purchase_success</td>\n",
       "    </tr>\n",
       "    <tr>\n",
       "      <th>55</th>\n",
       "      <td>62f88dca0928240cc90b285198b43f73</td>\n",
       "      <td>Y5GM63HPuFwrRnvYhDu7sQ==</td>\n",
       "      <td>2021-06-10 20:26:17.230003</td>\n",
       "      <td>purchase_success</td>\n",
       "    </tr>\n",
       "    <tr>\n",
       "      <th>...</th>\n",
       "      <td>...</td>\n",
       "      <td>...</td>\n",
       "      <td>...</td>\n",
       "      <td>...</td>\n",
       "    </tr>\n",
       "    <tr>\n",
       "      <th>5880386</th>\n",
       "      <td>27f0fb7b0a61f8f92fdfd2c73f6b4c72</td>\n",
       "      <td>oh75lIfzKEJ2rFR/iJ/qdA==</td>\n",
       "      <td>2021-08-04 10:23:49.345004</td>\n",
       "      <td>purchase_success</td>\n",
       "    </tr>\n",
       "    <tr>\n",
       "      <th>5880391</th>\n",
       "      <td>27f0fb7b0a61f8f92fdfd2c73f6b4c72</td>\n",
       "      <td>oh75lIfzKEJ2rFR/iJ/qdA==</td>\n",
       "      <td>2021-08-04 10:23:49.346005</td>\n",
       "      <td>purchase_success</td>\n",
       "    </tr>\n",
       "    <tr>\n",
       "      <th>5880394</th>\n",
       "      <td>d5b03d3acb580879f82271ab4885ee5e</td>\n",
       "      <td>+LFNEeZb/856pFisEieEiQ==</td>\n",
       "      <td>2021-08-04 09:07:15.743004</td>\n",
       "      <td>purchase_success</td>\n",
       "    </tr>\n",
       "    <tr>\n",
       "      <th>5880402</th>\n",
       "      <td>9034aefc59c787ca83bd15648e93ad3a</td>\n",
       "      <td>8okJXtYVKYoBoBAG823v2Q==</td>\n",
       "      <td>2021-08-04 11:05:01.281062</td>\n",
       "      <td>purchase_success</td>\n",
       "    </tr>\n",
       "    <tr>\n",
       "      <th>5880404</th>\n",
       "      <td>628dd6aff94d030bfd147b0519677b9c</td>\n",
       "      <td>vrE4nCVISqKLZ59f+eGRfA==</td>\n",
       "      <td>2021-08-04 12:26:44.327071</td>\n",
       "      <td>purchase_success</td>\n",
       "    </tr>\n",
       "  </tbody>\n",
       "</table>\n",
       "<p>465253 rows × 4 columns</p>\n",
       "</div>"
      ],
      "text/plain": [
       "                               session_id                   user_no  \\\n",
       "40       cddf65caad5fe0da36ceaeaf6ecc7d45  l1wFRhb3av5rTWyYEofrIA==   \n",
       "49       cddf65caad5fe0da36ceaeaf6ecc7d45  l1wFRhb3av5rTWyYEofrIA==   \n",
       "52       16e708ee91a1bd7beb297bf6bad1ddaa  Y5GM63HPuFwrRnvYhDu7sQ==   \n",
       "53       16e708ee91a1bd7beb297bf6bad1ddaa  Y5GM63HPuFwrRnvYhDu7sQ==   \n",
       "55       62f88dca0928240cc90b285198b43f73  Y5GM63HPuFwrRnvYhDu7sQ==   \n",
       "...                                   ...                       ...   \n",
       "5880386  27f0fb7b0a61f8f92fdfd2c73f6b4c72  oh75lIfzKEJ2rFR/iJ/qdA==   \n",
       "5880391  27f0fb7b0a61f8f92fdfd2c73f6b4c72  oh75lIfzKEJ2rFR/iJ/qdA==   \n",
       "5880394  d5b03d3acb580879f82271ab4885ee5e  +LFNEeZb/856pFisEieEiQ==   \n",
       "5880402  9034aefc59c787ca83bd15648e93ad3a  8okJXtYVKYoBoBAG823v2Q==   \n",
       "5880404  628dd6aff94d030bfd147b0519677b9c  vrE4nCVISqKLZ59f+eGRfA==   \n",
       "\n",
       "                   event_timestamp        event_name  \n",
       "40      2021-07-22 09:06:32.310004  purchase_success  \n",
       "49      2021-07-22 09:06:32.312005  purchase_success  \n",
       "52      2021-06-05 16:34:41.511016  purchase_success  \n",
       "53      2021-06-05 16:34:41.511017  purchase_success  \n",
       "55      2021-06-10 20:26:17.230003  purchase_success  \n",
       "...                            ...               ...  \n",
       "5880386 2021-08-04 10:23:49.345004  purchase_success  \n",
       "5880391 2021-08-04 10:23:49.346005  purchase_success  \n",
       "5880394 2021-08-04 09:07:15.743004  purchase_success  \n",
       "5880402 2021-08-04 11:05:01.281062  purchase_success  \n",
       "5880404 2021-08-04 12:26:44.327071  purchase_success  \n",
       "\n",
       "[465253 rows x 4 columns]"
      ]
     },
     "execution_count": 281,
     "metadata": {},
     "output_type": "execute_result"
    }
   ],
   "source": [
    "user_recency"
   ]
  },
  {
   "cell_type": "code",
   "execution_count": 282,
   "id": "fba75056",
   "metadata": {},
   "outputs": [],
   "source": [
    "user_recency1 = user_recency.groupby('user_no')['session_id'].count().reset_index()"
   ]
  },
  {
   "cell_type": "code",
   "execution_count": 283,
   "id": "65e13255",
   "metadata": {},
   "outputs": [],
   "source": [
    "user_recency = pd.merge(user_recency, user_recency1, how = 'outer', on = 'user_no')"
   ]
  },
  {
   "cell_type": "code",
   "execution_count": 284,
   "id": "c86faa0f",
   "metadata": {},
   "outputs": [],
   "source": [
    "user_recency.columns=['session_id', 'user_no', 'event_timestamp', 'event_name', 'session_count']"
   ]
  },
  {
   "cell_type": "code",
   "execution_count": 285,
   "id": "31f17fa9",
   "metadata": {},
   "outputs": [],
   "source": [
    "user_recency.set_index('user_no', inplace = True)"
   ]
  },
  {
   "cell_type": "markdown",
   "id": "b2079e23",
   "metadata": {},
   "source": [
    "### Recency 위한 시간데이터화"
   ]
  },
  {
   "cell_type": "code",
   "execution_count": 286,
   "id": "00f1608a",
   "metadata": {},
   "outputs": [],
   "source": [
    "user_recency['event_timestamp'] = pd.to_datetime(user_recency['event_timestamp'])"
   ]
  },
  {
   "cell_type": "code",
   "execution_count": 287,
   "id": "e135bbfb",
   "metadata": {},
   "outputs": [],
   "source": [
    "user_recency['event_timestamp'] = user_recency['event_timestamp'].dt.strftime('%y/%m/%d')"
   ]
  },
  {
   "cell_type": "code",
   "execution_count": 288,
   "id": "5c24d5cd",
   "metadata": {},
   "outputs": [
    {
     "data": {
      "text/html": [
       "<div>\n",
       "<style scoped>\n",
       "    .dataframe tbody tr th:only-of-type {\n",
       "        vertical-align: middle;\n",
       "    }\n",
       "\n",
       "    .dataframe tbody tr th {\n",
       "        vertical-align: top;\n",
       "    }\n",
       "\n",
       "    .dataframe thead th {\n",
       "        text-align: right;\n",
       "    }\n",
       "</style>\n",
       "<table border=\"1\" class=\"dataframe\">\n",
       "  <thead>\n",
       "    <tr style=\"text-align: right;\">\n",
       "      <th></th>\n",
       "      <th>session_id</th>\n",
       "      <th>event_timestamp</th>\n",
       "      <th>event_name</th>\n",
       "      <th>session_count</th>\n",
       "    </tr>\n",
       "    <tr>\n",
       "      <th>user_no</th>\n",
       "      <th></th>\n",
       "      <th></th>\n",
       "      <th></th>\n",
       "      <th></th>\n",
       "    </tr>\n",
       "  </thead>\n",
       "  <tbody>\n",
       "    <tr>\n",
       "      <th>l1wFRhb3av5rTWyYEofrIA==</th>\n",
       "      <td>cddf65caad5fe0da36ceaeaf6ecc7d45</td>\n",
       "      <td>21/07/22</td>\n",
       "      <td>purchase_success</td>\n",
       "      <td>2</td>\n",
       "    </tr>\n",
       "    <tr>\n",
       "      <th>l1wFRhb3av5rTWyYEofrIA==</th>\n",
       "      <td>cddf65caad5fe0da36ceaeaf6ecc7d45</td>\n",
       "      <td>21/07/22</td>\n",
       "      <td>purchase_success</td>\n",
       "      <td>2</td>\n",
       "    </tr>\n",
       "    <tr>\n",
       "      <th>Y5GM63HPuFwrRnvYhDu7sQ==</th>\n",
       "      <td>16e708ee91a1bd7beb297bf6bad1ddaa</td>\n",
       "      <td>21/06/05</td>\n",
       "      <td>purchase_success</td>\n",
       "      <td>8</td>\n",
       "    </tr>\n",
       "    <tr>\n",
       "      <th>Y5GM63HPuFwrRnvYhDu7sQ==</th>\n",
       "      <td>16e708ee91a1bd7beb297bf6bad1ddaa</td>\n",
       "      <td>21/06/05</td>\n",
       "      <td>purchase_success</td>\n",
       "      <td>8</td>\n",
       "    </tr>\n",
       "    <tr>\n",
       "      <th>Y5GM63HPuFwrRnvYhDu7sQ==</th>\n",
       "      <td>62f88dca0928240cc90b285198b43f73</td>\n",
       "      <td>21/06/10</td>\n",
       "      <td>purchase_success</td>\n",
       "      <td>8</td>\n",
       "    </tr>\n",
       "  </tbody>\n",
       "</table>\n",
       "</div>"
      ],
      "text/plain": [
       "                                                session_id event_timestamp  \\\n",
       "user_no                                                                      \n",
       "l1wFRhb3av5rTWyYEofrIA==  cddf65caad5fe0da36ceaeaf6ecc7d45        21/07/22   \n",
       "l1wFRhb3av5rTWyYEofrIA==  cddf65caad5fe0da36ceaeaf6ecc7d45        21/07/22   \n",
       "Y5GM63HPuFwrRnvYhDu7sQ==  16e708ee91a1bd7beb297bf6bad1ddaa        21/06/05   \n",
       "Y5GM63HPuFwrRnvYhDu7sQ==  16e708ee91a1bd7beb297bf6bad1ddaa        21/06/05   \n",
       "Y5GM63HPuFwrRnvYhDu7sQ==  62f88dca0928240cc90b285198b43f73        21/06/10   \n",
       "\n",
       "                                event_name  session_count  \n",
       "user_no                                                    \n",
       "l1wFRhb3av5rTWyYEofrIA==  purchase_success              2  \n",
       "l1wFRhb3av5rTWyYEofrIA==  purchase_success              2  \n",
       "Y5GM63HPuFwrRnvYhDu7sQ==  purchase_success              8  \n",
       "Y5GM63HPuFwrRnvYhDu7sQ==  purchase_success              8  \n",
       "Y5GM63HPuFwrRnvYhDu7sQ==  purchase_success              8  "
      ]
     },
     "execution_count": 288,
     "metadata": {},
     "output_type": "execute_result"
    }
   ],
   "source": [
    "user_recency.head()"
   ]
  },
  {
   "cell_type": "code",
   "execution_count": 289,
   "id": "597a1881",
   "metadata": {
    "scrolled": true
   },
   "outputs": [],
   "source": [
    "user1 = user_recency.groupby('user_no')['event_timestamp'].max().reset_index()"
   ]
  },
  {
   "cell_type": "code",
   "execution_count": 290,
   "id": "0bddc99b",
   "metadata": {},
   "outputs": [
    {
     "data": {
      "text/html": [
       "<div>\n",
       "<style scoped>\n",
       "    .dataframe tbody tr th:only-of-type {\n",
       "        vertical-align: middle;\n",
       "    }\n",
       "\n",
       "    .dataframe tbody tr th {\n",
       "        vertical-align: top;\n",
       "    }\n",
       "\n",
       "    .dataframe thead th {\n",
       "        text-align: right;\n",
       "    }\n",
       "</style>\n",
       "<table border=\"1\" class=\"dataframe\">\n",
       "  <thead>\n",
       "    <tr style=\"text-align: right;\">\n",
       "      <th></th>\n",
       "      <th>user_no</th>\n",
       "      <th>event_timestamp</th>\n",
       "    </tr>\n",
       "  </thead>\n",
       "  <tbody>\n",
       "    <tr>\n",
       "      <th>0</th>\n",
       "      <td>+++T9c17sr6wEYOy9UFv3w==</td>\n",
       "      <td>21/07/03</td>\n",
       "    </tr>\n",
       "    <tr>\n",
       "      <th>1</th>\n",
       "      <td>+++aQH5NnhiU/9qECKk3uQ==</td>\n",
       "      <td>21/06/21</td>\n",
       "    </tr>\n",
       "    <tr>\n",
       "      <th>2</th>\n",
       "      <td>++0bwiYVJ/TAsCpxI4UCuw==</td>\n",
       "      <td>21/07/27</td>\n",
       "    </tr>\n",
       "    <tr>\n",
       "      <th>3</th>\n",
       "      <td>++1HN9s1imztN8ftPCt3LA==</td>\n",
       "      <td>21/06/10</td>\n",
       "    </tr>\n",
       "    <tr>\n",
       "      <th>4</th>\n",
       "      <td>++2StXdzG0Bj/Kkb5EFcog==</td>\n",
       "      <td>21/06/29</td>\n",
       "    </tr>\n",
       "  </tbody>\n",
       "</table>\n",
       "</div>"
      ],
      "text/plain": [
       "                    user_no event_timestamp\n",
       "0  +++T9c17sr6wEYOy9UFv3w==        21/07/03\n",
       "1  +++aQH5NnhiU/9qECKk3uQ==        21/06/21\n",
       "2  ++0bwiYVJ/TAsCpxI4UCuw==        21/07/27\n",
       "3  ++1HN9s1imztN8ftPCt3LA==        21/06/10\n",
       "4  ++2StXdzG0Bj/Kkb5EFcog==        21/06/29"
      ]
     },
     "execution_count": 290,
     "metadata": {},
     "output_type": "execute_result"
    }
   ],
   "source": [
    "user1.head()"
   ]
  },
  {
   "cell_type": "code",
   "execution_count": 291,
   "id": "33ce19f0",
   "metadata": {},
   "outputs": [],
   "source": [
    "user_recency = pd.merge(user_recency, user1, how = 'outer', on = 'user_no')"
   ]
  },
  {
   "cell_type": "code",
   "execution_count": 292,
   "id": "55a88951",
   "metadata": {},
   "outputs": [
    {
     "data": {
      "text/html": [
       "<div>\n",
       "<style scoped>\n",
       "    .dataframe tbody tr th:only-of-type {\n",
       "        vertical-align: middle;\n",
       "    }\n",
       "\n",
       "    .dataframe tbody tr th {\n",
       "        vertical-align: top;\n",
       "    }\n",
       "\n",
       "    .dataframe thead th {\n",
       "        text-align: right;\n",
       "    }\n",
       "</style>\n",
       "<table border=\"1\" class=\"dataframe\">\n",
       "  <thead>\n",
       "    <tr style=\"text-align: right;\">\n",
       "      <th></th>\n",
       "      <th>user_no</th>\n",
       "      <th>session_id</th>\n",
       "      <th>event_timestamp_x</th>\n",
       "      <th>event_name</th>\n",
       "      <th>session_count</th>\n",
       "      <th>event_timestamp_y</th>\n",
       "    </tr>\n",
       "  </thead>\n",
       "  <tbody>\n",
       "    <tr>\n",
       "      <th>0</th>\n",
       "      <td>l1wFRhb3av5rTWyYEofrIA==</td>\n",
       "      <td>cddf65caad5fe0da36ceaeaf6ecc7d45</td>\n",
       "      <td>21/07/22</td>\n",
       "      <td>purchase_success</td>\n",
       "      <td>2</td>\n",
       "      <td>21/07/22</td>\n",
       "    </tr>\n",
       "    <tr>\n",
       "      <th>1</th>\n",
       "      <td>l1wFRhb3av5rTWyYEofrIA==</td>\n",
       "      <td>cddf65caad5fe0da36ceaeaf6ecc7d45</td>\n",
       "      <td>21/07/22</td>\n",
       "      <td>purchase_success</td>\n",
       "      <td>2</td>\n",
       "      <td>21/07/22</td>\n",
       "    </tr>\n",
       "    <tr>\n",
       "      <th>2</th>\n",
       "      <td>Y5GM63HPuFwrRnvYhDu7sQ==</td>\n",
       "      <td>16e708ee91a1bd7beb297bf6bad1ddaa</td>\n",
       "      <td>21/06/05</td>\n",
       "      <td>purchase_success</td>\n",
       "      <td>8</td>\n",
       "      <td>21/07/07</td>\n",
       "    </tr>\n",
       "    <tr>\n",
       "      <th>3</th>\n",
       "      <td>Y5GM63HPuFwrRnvYhDu7sQ==</td>\n",
       "      <td>16e708ee91a1bd7beb297bf6bad1ddaa</td>\n",
       "      <td>21/06/05</td>\n",
       "      <td>purchase_success</td>\n",
       "      <td>8</td>\n",
       "      <td>21/07/07</td>\n",
       "    </tr>\n",
       "    <tr>\n",
       "      <th>4</th>\n",
       "      <td>Y5GM63HPuFwrRnvYhDu7sQ==</td>\n",
       "      <td>62f88dca0928240cc90b285198b43f73</td>\n",
       "      <td>21/06/10</td>\n",
       "      <td>purchase_success</td>\n",
       "      <td>8</td>\n",
       "      <td>21/07/07</td>\n",
       "    </tr>\n",
       "    <tr>\n",
       "      <th>...</th>\n",
       "      <td>...</td>\n",
       "      <td>...</td>\n",
       "      <td>...</td>\n",
       "      <td>...</td>\n",
       "      <td>...</td>\n",
       "      <td>...</td>\n",
       "    </tr>\n",
       "    <tr>\n",
       "      <th>465248</th>\n",
       "      <td>oh75lIfzKEJ2rFR/iJ/qdA==</td>\n",
       "      <td>27f0fb7b0a61f8f92fdfd2c73f6b4c72</td>\n",
       "      <td>21/08/04</td>\n",
       "      <td>purchase_success</td>\n",
       "      <td>2</td>\n",
       "      <td>21/08/04</td>\n",
       "    </tr>\n",
       "    <tr>\n",
       "      <th>465249</th>\n",
       "      <td>oh75lIfzKEJ2rFR/iJ/qdA==</td>\n",
       "      <td>27f0fb7b0a61f8f92fdfd2c73f6b4c72</td>\n",
       "      <td>21/08/04</td>\n",
       "      <td>purchase_success</td>\n",
       "      <td>2</td>\n",
       "      <td>21/08/04</td>\n",
       "    </tr>\n",
       "    <tr>\n",
       "      <th>465250</th>\n",
       "      <td>+LFNEeZb/856pFisEieEiQ==</td>\n",
       "      <td>d5b03d3acb580879f82271ab4885ee5e</td>\n",
       "      <td>21/08/04</td>\n",
       "      <td>purchase_success</td>\n",
       "      <td>1</td>\n",
       "      <td>21/08/04</td>\n",
       "    </tr>\n",
       "    <tr>\n",
       "      <th>465251</th>\n",
       "      <td>8okJXtYVKYoBoBAG823v2Q==</td>\n",
       "      <td>9034aefc59c787ca83bd15648e93ad3a</td>\n",
       "      <td>21/08/04</td>\n",
       "      <td>purchase_success</td>\n",
       "      <td>1</td>\n",
       "      <td>21/08/04</td>\n",
       "    </tr>\n",
       "    <tr>\n",
       "      <th>465252</th>\n",
       "      <td>vrE4nCVISqKLZ59f+eGRfA==</td>\n",
       "      <td>628dd6aff94d030bfd147b0519677b9c</td>\n",
       "      <td>21/08/04</td>\n",
       "      <td>purchase_success</td>\n",
       "      <td>1</td>\n",
       "      <td>21/08/04</td>\n",
       "    </tr>\n",
       "  </tbody>\n",
       "</table>\n",
       "<p>465253 rows × 6 columns</p>\n",
       "</div>"
      ],
      "text/plain": [
       "                         user_no                        session_id  \\\n",
       "0       l1wFRhb3av5rTWyYEofrIA==  cddf65caad5fe0da36ceaeaf6ecc7d45   \n",
       "1       l1wFRhb3av5rTWyYEofrIA==  cddf65caad5fe0da36ceaeaf6ecc7d45   \n",
       "2       Y5GM63HPuFwrRnvYhDu7sQ==  16e708ee91a1bd7beb297bf6bad1ddaa   \n",
       "3       Y5GM63HPuFwrRnvYhDu7sQ==  16e708ee91a1bd7beb297bf6bad1ddaa   \n",
       "4       Y5GM63HPuFwrRnvYhDu7sQ==  62f88dca0928240cc90b285198b43f73   \n",
       "...                          ...                               ...   \n",
       "465248  oh75lIfzKEJ2rFR/iJ/qdA==  27f0fb7b0a61f8f92fdfd2c73f6b4c72   \n",
       "465249  oh75lIfzKEJ2rFR/iJ/qdA==  27f0fb7b0a61f8f92fdfd2c73f6b4c72   \n",
       "465250  +LFNEeZb/856pFisEieEiQ==  d5b03d3acb580879f82271ab4885ee5e   \n",
       "465251  8okJXtYVKYoBoBAG823v2Q==  9034aefc59c787ca83bd15648e93ad3a   \n",
       "465252  vrE4nCVISqKLZ59f+eGRfA==  628dd6aff94d030bfd147b0519677b9c   \n",
       "\n",
       "       event_timestamp_x        event_name  session_count event_timestamp_y  \n",
       "0               21/07/22  purchase_success              2          21/07/22  \n",
       "1               21/07/22  purchase_success              2          21/07/22  \n",
       "2               21/06/05  purchase_success              8          21/07/07  \n",
       "3               21/06/05  purchase_success              8          21/07/07  \n",
       "4               21/06/10  purchase_success              8          21/07/07  \n",
       "...                  ...               ...            ...               ...  \n",
       "465248          21/08/04  purchase_success              2          21/08/04  \n",
       "465249          21/08/04  purchase_success              2          21/08/04  \n",
       "465250          21/08/04  purchase_success              1          21/08/04  \n",
       "465251          21/08/04  purchase_success              1          21/08/04  \n",
       "465252          21/08/04  purchase_success              1          21/08/04  \n",
       "\n",
       "[465253 rows x 6 columns]"
      ]
     },
     "execution_count": 292,
     "metadata": {},
     "output_type": "execute_result"
    }
   ],
   "source": [
    "user_recency"
   ]
  },
  {
   "cell_type": "code",
   "execution_count": 293,
   "id": "974f2172",
   "metadata": {},
   "outputs": [],
   "source": [
    "user_recency.columns = ['user_no', 'session_id', 'event_timestamp', 'event_name', 'session_count', 'event_max']"
   ]
  },
  {
   "cell_type": "code",
   "execution_count": 294,
   "id": "88dc38f5",
   "metadata": {},
   "outputs": [],
   "source": [
    "user_recency['recency'] = \"\""
   ]
  },
  {
   "cell_type": "code",
   "execution_count": 295,
   "id": "ab9cefe8",
   "metadata": {},
   "outputs": [
    {
     "name": "stdout",
     "output_type": "stream",
     "text": [
      "<class 'pandas.core.frame.DataFrame'>\n",
      "Int64Index: 465253 entries, 0 to 465252\n",
      "Data columns (total 7 columns):\n",
      " #   Column           Non-Null Count   Dtype \n",
      "---  ------           --------------   ----- \n",
      " 0   user_no          465253 non-null  object\n",
      " 1   session_id       465253 non-null  object\n",
      " 2   event_timestamp  465253 non-null  object\n",
      " 3   event_name       465253 non-null  object\n",
      " 4   session_count    465253 non-null  int64 \n",
      " 5   event_max        465253 non-null  object\n",
      " 6   recency          465253 non-null  object\n",
      "dtypes: int64(1), object(6)\n",
      "memory usage: 28.4+ MB\n"
     ]
    }
   ],
   "source": [
    "user_recency.info()"
   ]
  },
  {
   "cell_type": "code",
   "execution_count": 296,
   "id": "46f893e4",
   "metadata": {},
   "outputs": [],
   "source": [
    "user_recency['event_timestamp'] = pd.to_datetime(user_recency['event_timestamp'], yearfirst = True).dt.strftime('%y/%m/%d')\n",
    "user_recency['event_max'] = pd.to_datetime(user_recency['event_max'], yearfirst = True).dt.strftime('%y/%m/%d')"
   ]
  },
  {
   "cell_type": "code",
   "execution_count": 297,
   "id": "fad0d4be",
   "metadata": {},
   "outputs": [],
   "source": [
    "# user_recency['event_timestamp'] = pd.to_datetime(user_recency['event_timestamp'])\n",
    "# user_recency['event_max'] = pd.to_datetime(user_recency['event_max'])"
   ]
  },
  {
   "cell_type": "code",
   "execution_count": 298,
   "id": "94053913",
   "metadata": {},
   "outputs": [
    {
     "data": {
      "text/html": [
       "<div>\n",
       "<style scoped>\n",
       "    .dataframe tbody tr th:only-of-type {\n",
       "        vertical-align: middle;\n",
       "    }\n",
       "\n",
       "    .dataframe tbody tr th {\n",
       "        vertical-align: top;\n",
       "    }\n",
       "\n",
       "    .dataframe thead th {\n",
       "        text-align: right;\n",
       "    }\n",
       "</style>\n",
       "<table border=\"1\" class=\"dataframe\">\n",
       "  <thead>\n",
       "    <tr style=\"text-align: right;\">\n",
       "      <th></th>\n",
       "      <th>user_no</th>\n",
       "      <th>session_id</th>\n",
       "      <th>event_timestamp</th>\n",
       "      <th>event_name</th>\n",
       "      <th>session_count</th>\n",
       "      <th>event_max</th>\n",
       "      <th>recency</th>\n",
       "    </tr>\n",
       "  </thead>\n",
       "  <tbody>\n",
       "    <tr>\n",
       "      <th>0</th>\n",
       "      <td>l1wFRhb3av5rTWyYEofrIA==</td>\n",
       "      <td>cddf65caad5fe0da36ceaeaf6ecc7d45</td>\n",
       "      <td>21/07/22</td>\n",
       "      <td>purchase_success</td>\n",
       "      <td>2</td>\n",
       "      <td>21/07/22</td>\n",
       "      <td></td>\n",
       "    </tr>\n",
       "    <tr>\n",
       "      <th>1</th>\n",
       "      <td>l1wFRhb3av5rTWyYEofrIA==</td>\n",
       "      <td>cddf65caad5fe0da36ceaeaf6ecc7d45</td>\n",
       "      <td>21/07/22</td>\n",
       "      <td>purchase_success</td>\n",
       "      <td>2</td>\n",
       "      <td>21/07/22</td>\n",
       "      <td></td>\n",
       "    </tr>\n",
       "    <tr>\n",
       "      <th>2</th>\n",
       "      <td>Y5GM63HPuFwrRnvYhDu7sQ==</td>\n",
       "      <td>16e708ee91a1bd7beb297bf6bad1ddaa</td>\n",
       "      <td>21/06/05</td>\n",
       "      <td>purchase_success</td>\n",
       "      <td>8</td>\n",
       "      <td>21/07/07</td>\n",
       "      <td></td>\n",
       "    </tr>\n",
       "    <tr>\n",
       "      <th>3</th>\n",
       "      <td>Y5GM63HPuFwrRnvYhDu7sQ==</td>\n",
       "      <td>16e708ee91a1bd7beb297bf6bad1ddaa</td>\n",
       "      <td>21/06/05</td>\n",
       "      <td>purchase_success</td>\n",
       "      <td>8</td>\n",
       "      <td>21/07/07</td>\n",
       "      <td></td>\n",
       "    </tr>\n",
       "    <tr>\n",
       "      <th>4</th>\n",
       "      <td>Y5GM63HPuFwrRnvYhDu7sQ==</td>\n",
       "      <td>62f88dca0928240cc90b285198b43f73</td>\n",
       "      <td>21/06/10</td>\n",
       "      <td>purchase_success</td>\n",
       "      <td>8</td>\n",
       "      <td>21/07/07</td>\n",
       "      <td></td>\n",
       "    </tr>\n",
       "    <tr>\n",
       "      <th>...</th>\n",
       "      <td>...</td>\n",
       "      <td>...</td>\n",
       "      <td>...</td>\n",
       "      <td>...</td>\n",
       "      <td>...</td>\n",
       "      <td>...</td>\n",
       "      <td>...</td>\n",
       "    </tr>\n",
       "    <tr>\n",
       "      <th>465248</th>\n",
       "      <td>oh75lIfzKEJ2rFR/iJ/qdA==</td>\n",
       "      <td>27f0fb7b0a61f8f92fdfd2c73f6b4c72</td>\n",
       "      <td>21/08/04</td>\n",
       "      <td>purchase_success</td>\n",
       "      <td>2</td>\n",
       "      <td>21/08/04</td>\n",
       "      <td></td>\n",
       "    </tr>\n",
       "    <tr>\n",
       "      <th>465249</th>\n",
       "      <td>oh75lIfzKEJ2rFR/iJ/qdA==</td>\n",
       "      <td>27f0fb7b0a61f8f92fdfd2c73f6b4c72</td>\n",
       "      <td>21/08/04</td>\n",
       "      <td>purchase_success</td>\n",
       "      <td>2</td>\n",
       "      <td>21/08/04</td>\n",
       "      <td></td>\n",
       "    </tr>\n",
       "    <tr>\n",
       "      <th>465250</th>\n",
       "      <td>+LFNEeZb/856pFisEieEiQ==</td>\n",
       "      <td>d5b03d3acb580879f82271ab4885ee5e</td>\n",
       "      <td>21/08/04</td>\n",
       "      <td>purchase_success</td>\n",
       "      <td>1</td>\n",
       "      <td>21/08/04</td>\n",
       "      <td></td>\n",
       "    </tr>\n",
       "    <tr>\n",
       "      <th>465251</th>\n",
       "      <td>8okJXtYVKYoBoBAG823v2Q==</td>\n",
       "      <td>9034aefc59c787ca83bd15648e93ad3a</td>\n",
       "      <td>21/08/04</td>\n",
       "      <td>purchase_success</td>\n",
       "      <td>1</td>\n",
       "      <td>21/08/04</td>\n",
       "      <td></td>\n",
       "    </tr>\n",
       "    <tr>\n",
       "      <th>465252</th>\n",
       "      <td>vrE4nCVISqKLZ59f+eGRfA==</td>\n",
       "      <td>628dd6aff94d030bfd147b0519677b9c</td>\n",
       "      <td>21/08/04</td>\n",
       "      <td>purchase_success</td>\n",
       "      <td>1</td>\n",
       "      <td>21/08/04</td>\n",
       "      <td></td>\n",
       "    </tr>\n",
       "  </tbody>\n",
       "</table>\n",
       "<p>465253 rows × 7 columns</p>\n",
       "</div>"
      ],
      "text/plain": [
       "                         user_no                        session_id  \\\n",
       "0       l1wFRhb3av5rTWyYEofrIA==  cddf65caad5fe0da36ceaeaf6ecc7d45   \n",
       "1       l1wFRhb3av5rTWyYEofrIA==  cddf65caad5fe0da36ceaeaf6ecc7d45   \n",
       "2       Y5GM63HPuFwrRnvYhDu7sQ==  16e708ee91a1bd7beb297bf6bad1ddaa   \n",
       "3       Y5GM63HPuFwrRnvYhDu7sQ==  16e708ee91a1bd7beb297bf6bad1ddaa   \n",
       "4       Y5GM63HPuFwrRnvYhDu7sQ==  62f88dca0928240cc90b285198b43f73   \n",
       "...                          ...                               ...   \n",
       "465248  oh75lIfzKEJ2rFR/iJ/qdA==  27f0fb7b0a61f8f92fdfd2c73f6b4c72   \n",
       "465249  oh75lIfzKEJ2rFR/iJ/qdA==  27f0fb7b0a61f8f92fdfd2c73f6b4c72   \n",
       "465250  +LFNEeZb/856pFisEieEiQ==  d5b03d3acb580879f82271ab4885ee5e   \n",
       "465251  8okJXtYVKYoBoBAG823v2Q==  9034aefc59c787ca83bd15648e93ad3a   \n",
       "465252  vrE4nCVISqKLZ59f+eGRfA==  628dd6aff94d030bfd147b0519677b9c   \n",
       "\n",
       "       event_timestamp        event_name  session_count event_max recency  \n",
       "0             21/07/22  purchase_success              2  21/07/22          \n",
       "1             21/07/22  purchase_success              2  21/07/22          \n",
       "2             21/06/05  purchase_success              8  21/07/07          \n",
       "3             21/06/05  purchase_success              8  21/07/07          \n",
       "4             21/06/10  purchase_success              8  21/07/07          \n",
       "...                ...               ...            ...       ...     ...  \n",
       "465248        21/08/04  purchase_success              2  21/08/04          \n",
       "465249        21/08/04  purchase_success              2  21/08/04          \n",
       "465250        21/08/04  purchase_success              1  21/08/04          \n",
       "465251        21/08/04  purchase_success              1  21/08/04          \n",
       "465252        21/08/04  purchase_success              1  21/08/04          \n",
       "\n",
       "[465253 rows x 7 columns]"
      ]
     },
     "execution_count": 298,
     "metadata": {},
     "output_type": "execute_result"
    }
   ],
   "source": [
    "user_recency"
   ]
  },
  {
   "cell_type": "code",
   "execution_count": 208,
   "id": "ba386b11",
   "metadata": {},
   "outputs": [],
   "source": [
    "# 비교 날짜\n",
    "date_compare = pd.datetime.strptime(\"20210804\", \"%Y%m%d\")"
   ]
  },
  {
   "cell_type": "code",
   "execution_count": 210,
   "id": "f27c318e",
   "metadata": {},
   "outputs": [],
   "source": [
    "user_recency['recency'] = (user_recency['event_max'] - date_compare)\n"
   ]
  },
  {
   "cell_type": "code",
   "execution_count": 211,
   "id": "a85a6467",
   "metadata": {},
   "outputs": [
    {
     "data": {
      "text/html": [
       "<div>\n",
       "<style scoped>\n",
       "    .dataframe tbody tr th:only-of-type {\n",
       "        vertical-align: middle;\n",
       "    }\n",
       "\n",
       "    .dataframe tbody tr th {\n",
       "        vertical-align: top;\n",
       "    }\n",
       "\n",
       "    .dataframe thead th {\n",
       "        text-align: right;\n",
       "    }\n",
       "</style>\n",
       "<table border=\"1\" class=\"dataframe\">\n",
       "  <thead>\n",
       "    <tr style=\"text-align: right;\">\n",
       "      <th></th>\n",
       "      <th>user_no</th>\n",
       "      <th>session_id</th>\n",
       "      <th>event_timestamp</th>\n",
       "      <th>event_name</th>\n",
       "      <th>session_count</th>\n",
       "      <th>event_max</th>\n",
       "      <th>recency</th>\n",
       "    </tr>\n",
       "  </thead>\n",
       "  <tbody>\n",
       "    <tr>\n",
       "      <th>0</th>\n",
       "      <td>l1wFRhb3av5rTWyYEofrIA==</td>\n",
       "      <td>cddf65caad5fe0da36ceaeaf6ecc7d45</td>\n",
       "      <td>2022-07-21</td>\n",
       "      <td>purchase_success</td>\n",
       "      <td>2</td>\n",
       "      <td>2022-07-21</td>\n",
       "      <td>351 days</td>\n",
       "    </tr>\n",
       "    <tr>\n",
       "      <th>1</th>\n",
       "      <td>l1wFRhb3av5rTWyYEofrIA==</td>\n",
       "      <td>cddf65caad5fe0da36ceaeaf6ecc7d45</td>\n",
       "      <td>2022-07-21</td>\n",
       "      <td>purchase_success</td>\n",
       "      <td>2</td>\n",
       "      <td>2022-07-21</td>\n",
       "      <td>351 days</td>\n",
       "    </tr>\n",
       "    <tr>\n",
       "      <th>2</th>\n",
       "      <td>Y5GM63HPuFwrRnvYhDu7sQ==</td>\n",
       "      <td>16e708ee91a1bd7beb297bf6bad1ddaa</td>\n",
       "      <td>2005-06-21</td>\n",
       "      <td>purchase_success</td>\n",
       "      <td>8</td>\n",
       "      <td>2007-07-21</td>\n",
       "      <td>-5128 days</td>\n",
       "    </tr>\n",
       "    <tr>\n",
       "      <th>3</th>\n",
       "      <td>Y5GM63HPuFwrRnvYhDu7sQ==</td>\n",
       "      <td>16e708ee91a1bd7beb297bf6bad1ddaa</td>\n",
       "      <td>2005-06-21</td>\n",
       "      <td>purchase_success</td>\n",
       "      <td>8</td>\n",
       "      <td>2007-07-21</td>\n",
       "      <td>-5128 days</td>\n",
       "    </tr>\n",
       "    <tr>\n",
       "      <th>4</th>\n",
       "      <td>Y5GM63HPuFwrRnvYhDu7sQ==</td>\n",
       "      <td>62f88dca0928240cc90b285198b43f73</td>\n",
       "      <td>2010-06-21</td>\n",
       "      <td>purchase_success</td>\n",
       "      <td>8</td>\n",
       "      <td>2007-07-21</td>\n",
       "      <td>-5128 days</td>\n",
       "    </tr>\n",
       "    <tr>\n",
       "      <th>...</th>\n",
       "      <td>...</td>\n",
       "      <td>...</td>\n",
       "      <td>...</td>\n",
       "      <td>...</td>\n",
       "      <td>...</td>\n",
       "      <td>...</td>\n",
       "      <td>...</td>\n",
       "    </tr>\n",
       "    <tr>\n",
       "      <th>465248</th>\n",
       "      <td>oh75lIfzKEJ2rFR/iJ/qdA==</td>\n",
       "      <td>27f0fb7b0a61f8f92fdfd2c73f6b4c72</td>\n",
       "      <td>2004-08-21</td>\n",
       "      <td>purchase_success</td>\n",
       "      <td>2</td>\n",
       "      <td>2004-08-21</td>\n",
       "      <td>-6192 days</td>\n",
       "    </tr>\n",
       "    <tr>\n",
       "      <th>465249</th>\n",
       "      <td>oh75lIfzKEJ2rFR/iJ/qdA==</td>\n",
       "      <td>27f0fb7b0a61f8f92fdfd2c73f6b4c72</td>\n",
       "      <td>2004-08-21</td>\n",
       "      <td>purchase_success</td>\n",
       "      <td>2</td>\n",
       "      <td>2004-08-21</td>\n",
       "      <td>-6192 days</td>\n",
       "    </tr>\n",
       "    <tr>\n",
       "      <th>465250</th>\n",
       "      <td>+LFNEeZb/856pFisEieEiQ==</td>\n",
       "      <td>d5b03d3acb580879f82271ab4885ee5e</td>\n",
       "      <td>2004-08-21</td>\n",
       "      <td>purchase_success</td>\n",
       "      <td>1</td>\n",
       "      <td>2004-08-21</td>\n",
       "      <td>-6192 days</td>\n",
       "    </tr>\n",
       "    <tr>\n",
       "      <th>465251</th>\n",
       "      <td>8okJXtYVKYoBoBAG823v2Q==</td>\n",
       "      <td>9034aefc59c787ca83bd15648e93ad3a</td>\n",
       "      <td>2004-08-21</td>\n",
       "      <td>purchase_success</td>\n",
       "      <td>1</td>\n",
       "      <td>2004-08-21</td>\n",
       "      <td>-6192 days</td>\n",
       "    </tr>\n",
       "    <tr>\n",
       "      <th>465252</th>\n",
       "      <td>vrE4nCVISqKLZ59f+eGRfA==</td>\n",
       "      <td>628dd6aff94d030bfd147b0519677b9c</td>\n",
       "      <td>2004-08-21</td>\n",
       "      <td>purchase_success</td>\n",
       "      <td>1</td>\n",
       "      <td>2004-08-21</td>\n",
       "      <td>-6192 days</td>\n",
       "    </tr>\n",
       "  </tbody>\n",
       "</table>\n",
       "<p>465253 rows × 7 columns</p>\n",
       "</div>"
      ],
      "text/plain": [
       "                         user_no                        session_id  \\\n",
       "0       l1wFRhb3av5rTWyYEofrIA==  cddf65caad5fe0da36ceaeaf6ecc7d45   \n",
       "1       l1wFRhb3av5rTWyYEofrIA==  cddf65caad5fe0da36ceaeaf6ecc7d45   \n",
       "2       Y5GM63HPuFwrRnvYhDu7sQ==  16e708ee91a1bd7beb297bf6bad1ddaa   \n",
       "3       Y5GM63HPuFwrRnvYhDu7sQ==  16e708ee91a1bd7beb297bf6bad1ddaa   \n",
       "4       Y5GM63HPuFwrRnvYhDu7sQ==  62f88dca0928240cc90b285198b43f73   \n",
       "...                          ...                               ...   \n",
       "465248  oh75lIfzKEJ2rFR/iJ/qdA==  27f0fb7b0a61f8f92fdfd2c73f6b4c72   \n",
       "465249  oh75lIfzKEJ2rFR/iJ/qdA==  27f0fb7b0a61f8f92fdfd2c73f6b4c72   \n",
       "465250  +LFNEeZb/856pFisEieEiQ==  d5b03d3acb580879f82271ab4885ee5e   \n",
       "465251  8okJXtYVKYoBoBAG823v2Q==  9034aefc59c787ca83bd15648e93ad3a   \n",
       "465252  vrE4nCVISqKLZ59f+eGRfA==  628dd6aff94d030bfd147b0519677b9c   \n",
       "\n",
       "       event_timestamp        event_name  session_count  event_max    recency  \n",
       "0           2022-07-21  purchase_success              2 2022-07-21   351 days  \n",
       "1           2022-07-21  purchase_success              2 2022-07-21   351 days  \n",
       "2           2005-06-21  purchase_success              8 2007-07-21 -5128 days  \n",
       "3           2005-06-21  purchase_success              8 2007-07-21 -5128 days  \n",
       "4           2010-06-21  purchase_success              8 2007-07-21 -5128 days  \n",
       "...                ...               ...            ...        ...        ...  \n",
       "465248      2004-08-21  purchase_success              2 2004-08-21 -6192 days  \n",
       "465249      2004-08-21  purchase_success              2 2004-08-21 -6192 days  \n",
       "465250      2004-08-21  purchase_success              1 2004-08-21 -6192 days  \n",
       "465251      2004-08-21  purchase_success              1 2004-08-21 -6192 days  \n",
       "465252      2004-08-21  purchase_success              1 2004-08-21 -6192 days  \n",
       "\n",
       "[465253 rows x 7 columns]"
      ]
     },
     "execution_count": 211,
     "metadata": {},
     "output_type": "execute_result"
    }
   ],
   "source": [
    "user_recency"
   ]
  },
  {
   "cell_type": "code",
   "execution_count": 173,
   "id": "710ad6a4",
   "metadata": {
    "scrolled": true
   },
   "outputs": [
    {
     "ename": "TypeError",
     "evalue": "unsupported operand type(s) for -: 'numpy.ndarray' and 'Timestamp'",
     "output_type": "error",
     "traceback": [
      "\u001b[0;31m---------------------------------------------------------------------------\u001b[0m",
      "\u001b[0;31mTypeError\u001b[0m                                 Traceback (most recent call last)",
      "\u001b[0;32m/var/folders/3c/6rc19g3n3p9ctq6gjs0d2c_40000gn/T/ipykernel_57794/1318913749.py\u001b[0m in \u001b[0;36m<module>\u001b[0;34m\u001b[0m\n\u001b[1;32m      1\u001b[0m \u001b[0;31m#DATEDIFF('day',{ FIXED [Customer Name],YEAR([Order Date]): MAX([Order Date])},[Max Order Date of the Year])+1\u001b[0m\u001b[0;34m\u001b[0m\u001b[0;34m\u001b[0m\u001b[0m\n\u001b[1;32m      2\u001b[0m \u001b[0;31m#recency 오늘까지의 일자\u001b[0m\u001b[0;34m\u001b[0m\u001b[0;34m\u001b[0m\u001b[0m\n\u001b[0;32m----> 3\u001b[0;31m \u001b[0muser_recency\u001b[0m\u001b[0;34m[\u001b[0m\u001b[0;34m'recency'\u001b[0m\u001b[0;34m]\u001b[0m \u001b[0;34m=\u001b[0m \u001b[0;34m(\u001b[0m\u001b[0muser_recency\u001b[0m\u001b[0;34m.\u001b[0m\u001b[0mgroupby\u001b[0m\u001b[0;34m(\u001b[0m\u001b[0;34m'user_no'\u001b[0m\u001b[0;34m)\u001b[0m\u001b[0;34m[\u001b[0m\u001b[0;34m'event_timestamp'\u001b[0m\u001b[0;34m]\u001b[0m\u001b[0;34m.\u001b[0m\u001b[0mmax\u001b[0m\u001b[0;34m(\u001b[0m\u001b[0;34m)\u001b[0m\u001b[0;34m.\u001b[0m\u001b[0mreset_index\u001b[0m\u001b[0;34m(\u001b[0m\u001b[0;34m)\u001b[0m\u001b[0;34m[\u001b[0m\u001b[0;34m'event_timestamp'\u001b[0m\u001b[0;34m]\u001b[0m \u001b[0;34m-\u001b[0m \u001b[0mpd\u001b[0m\u001b[0;34m.\u001b[0m\u001b[0mto_datetime\u001b[0m\u001b[0;34m(\u001b[0m\u001b[0;34m\"21/08/04\"\u001b[0m\u001b[0;34m)\u001b[0m\u001b[0;34m)\u001b[0m\u001b[0;34m.\u001b[0m\u001b[0mdt\u001b[0m\u001b[0;34m.\u001b[0m\u001b[0mday\u001b[0m\u001b[0;34m\u001b[0m\u001b[0;34m\u001b[0m\u001b[0m\n\u001b[0m",
      "\u001b[0;32m~/opt/anaconda3/lib/python3.9/site-packages/pandas/core/ops/common.py\u001b[0m in \u001b[0;36mnew_method\u001b[0;34m(self, other)\u001b[0m\n\u001b[1;32m     67\u001b[0m         \u001b[0mother\u001b[0m \u001b[0;34m=\u001b[0m \u001b[0mitem_from_zerodim\u001b[0m\u001b[0;34m(\u001b[0m\u001b[0mother\u001b[0m\u001b[0;34m)\u001b[0m\u001b[0;34m\u001b[0m\u001b[0;34m\u001b[0m\u001b[0m\n\u001b[1;32m     68\u001b[0m \u001b[0;34m\u001b[0m\u001b[0m\n\u001b[0;32m---> 69\u001b[0;31m         \u001b[0;32mreturn\u001b[0m \u001b[0mmethod\u001b[0m\u001b[0;34m(\u001b[0m\u001b[0mself\u001b[0m\u001b[0;34m,\u001b[0m \u001b[0mother\u001b[0m\u001b[0;34m)\u001b[0m\u001b[0;34m\u001b[0m\u001b[0;34m\u001b[0m\u001b[0m\n\u001b[0m\u001b[1;32m     70\u001b[0m \u001b[0;34m\u001b[0m\u001b[0m\n\u001b[1;32m     71\u001b[0m     \u001b[0;32mreturn\u001b[0m \u001b[0mnew_method\u001b[0m\u001b[0;34m\u001b[0m\u001b[0;34m\u001b[0m\u001b[0m\n",
      "\u001b[0;32m~/opt/anaconda3/lib/python3.9/site-packages/pandas/core/arraylike.py\u001b[0m in \u001b[0;36m__sub__\u001b[0;34m(self, other)\u001b[0m\n\u001b[1;32m     98\u001b[0m     \u001b[0;34m@\u001b[0m\u001b[0munpack_zerodim_and_defer\u001b[0m\u001b[0;34m(\u001b[0m\u001b[0;34m\"__sub__\"\u001b[0m\u001b[0;34m)\u001b[0m\u001b[0;34m\u001b[0m\u001b[0;34m\u001b[0m\u001b[0m\n\u001b[1;32m     99\u001b[0m     \u001b[0;32mdef\u001b[0m \u001b[0m__sub__\u001b[0m\u001b[0;34m(\u001b[0m\u001b[0mself\u001b[0m\u001b[0;34m,\u001b[0m \u001b[0mother\u001b[0m\u001b[0;34m)\u001b[0m\u001b[0;34m:\u001b[0m\u001b[0;34m\u001b[0m\u001b[0;34m\u001b[0m\u001b[0m\n\u001b[0;32m--> 100\u001b[0;31m         \u001b[0;32mreturn\u001b[0m \u001b[0mself\u001b[0m\u001b[0;34m.\u001b[0m\u001b[0m_arith_method\u001b[0m\u001b[0;34m(\u001b[0m\u001b[0mother\u001b[0m\u001b[0;34m,\u001b[0m \u001b[0moperator\u001b[0m\u001b[0;34m.\u001b[0m\u001b[0msub\u001b[0m\u001b[0;34m)\u001b[0m\u001b[0;34m\u001b[0m\u001b[0;34m\u001b[0m\u001b[0m\n\u001b[0m\u001b[1;32m    101\u001b[0m \u001b[0;34m\u001b[0m\u001b[0m\n\u001b[1;32m    102\u001b[0m     \u001b[0;34m@\u001b[0m\u001b[0munpack_zerodim_and_defer\u001b[0m\u001b[0;34m(\u001b[0m\u001b[0;34m\"__rsub__\"\u001b[0m\u001b[0;34m)\u001b[0m\u001b[0;34m\u001b[0m\u001b[0;34m\u001b[0m\u001b[0m\n",
      "\u001b[0;32m~/opt/anaconda3/lib/python3.9/site-packages/pandas/core/series.py\u001b[0m in \u001b[0;36m_arith_method\u001b[0;34m(self, other, op)\u001b[0m\n\u001b[1;32m   5524\u001b[0m \u001b[0;34m\u001b[0m\u001b[0m\n\u001b[1;32m   5525\u001b[0m         \u001b[0;32mwith\u001b[0m \u001b[0mnp\u001b[0m\u001b[0;34m.\u001b[0m\u001b[0merrstate\u001b[0m\u001b[0;34m(\u001b[0m\u001b[0mall\u001b[0m\u001b[0;34m=\u001b[0m\u001b[0;34m\"ignore\"\u001b[0m\u001b[0;34m)\u001b[0m\u001b[0;34m:\u001b[0m\u001b[0;34m\u001b[0m\u001b[0;34m\u001b[0m\u001b[0m\n\u001b[0;32m-> 5526\u001b[0;31m             \u001b[0mresult\u001b[0m \u001b[0;34m=\u001b[0m \u001b[0mops\u001b[0m\u001b[0;34m.\u001b[0m\u001b[0marithmetic_op\u001b[0m\u001b[0;34m(\u001b[0m\u001b[0mlvalues\u001b[0m\u001b[0;34m,\u001b[0m \u001b[0mrvalues\u001b[0m\u001b[0;34m,\u001b[0m \u001b[0mop\u001b[0m\u001b[0;34m)\u001b[0m\u001b[0;34m\u001b[0m\u001b[0;34m\u001b[0m\u001b[0m\n\u001b[0m\u001b[1;32m   5527\u001b[0m \u001b[0;34m\u001b[0m\u001b[0m\n\u001b[1;32m   5528\u001b[0m         \u001b[0;32mreturn\u001b[0m \u001b[0mself\u001b[0m\u001b[0;34m.\u001b[0m\u001b[0m_construct_result\u001b[0m\u001b[0;34m(\u001b[0m\u001b[0mresult\u001b[0m\u001b[0;34m,\u001b[0m \u001b[0mname\u001b[0m\u001b[0;34m=\u001b[0m\u001b[0mres_name\u001b[0m\u001b[0;34m)\u001b[0m\u001b[0;34m\u001b[0m\u001b[0;34m\u001b[0m\u001b[0m\n",
      "\u001b[0;32m~/opt/anaconda3/lib/python3.9/site-packages/pandas/core/ops/array_ops.py\u001b[0m in \u001b[0;36marithmetic_op\u001b[0;34m(left, right, op)\u001b[0m\n\u001b[1;32m    216\u001b[0m         \u001b[0;31m# Timedelta/Timestamp and other custom scalars are included in the check\u001b[0m\u001b[0;34m\u001b[0m\u001b[0;34m\u001b[0m\u001b[0m\n\u001b[1;32m    217\u001b[0m         \u001b[0;31m# because numexpr will fail on it, see GH#31457\u001b[0m\u001b[0;34m\u001b[0m\u001b[0;34m\u001b[0m\u001b[0m\n\u001b[0;32m--> 218\u001b[0;31m         \u001b[0mres_values\u001b[0m \u001b[0;34m=\u001b[0m \u001b[0mop\u001b[0m\u001b[0;34m(\u001b[0m\u001b[0mleft\u001b[0m\u001b[0;34m,\u001b[0m \u001b[0mright\u001b[0m\u001b[0;34m)\u001b[0m\u001b[0;34m\u001b[0m\u001b[0;34m\u001b[0m\u001b[0m\n\u001b[0m\u001b[1;32m    219\u001b[0m     \u001b[0;32melse\u001b[0m\u001b[0;34m:\u001b[0m\u001b[0;34m\u001b[0m\u001b[0;34m\u001b[0m\u001b[0m\n\u001b[1;32m    220\u001b[0m         \u001b[0;31m# TODO we should handle EAs consistently and move this check before the if/else\u001b[0m\u001b[0;34m\u001b[0m\u001b[0;34m\u001b[0m\u001b[0m\n",
      "\u001b[0;31mTypeError\u001b[0m: unsupported operand type(s) for -: 'numpy.ndarray' and 'Timestamp'"
     ]
    }
   ],
   "source": [
    "#DATEDIFF('day',{ FIXED [Customer Name],YEAR([Order Date]): MAX([Order Date])},[Max Order Date of the Year])+1\n",
    "#recency 오늘까지의 일자\n",
    "user_recency['recency'] = \n"
   ]
  },
  {
   "cell_type": "code",
   "execution_count": null,
   "id": "027f89af",
   "metadata": {},
   "outputs": [],
   "source": [
    "#클러스터링 - 나이,성별 없는 유저 날리고 \n",
    "#나이, 성별, session수, ,카테고리 1, 구매금액, 구매횟수로 클러스터링"
   ]
  },
  {
   "cell_type": "code",
   "execution_count": null,
   "id": "37e99757",
   "metadata": {},
   "outputs": [],
   "source": [
    "print('생일 없는 유저 : ', df['birth_date'].isnull().sum())\n",
    "print('성별 없는 유저 : ', df['gender'].isnull().sum())"
   ]
  },
  {
   "cell_type": "code",
   "execution_count": null,
   "id": "f8b364d7",
   "metadata": {},
   "outputs": [],
   "source": [
    "print('전체 유저 수 :',df['user_no'].count())"
   ]
  },
  {
   "cell_type": "code",
   "execution_count": null,
   "id": "5a893882",
   "metadata": {},
   "outputs": [],
   "source": [
    "#df2 = 개인정보 없는 유저 날린df \n",
    "df2 = df.dropna(axis=0, subset=['birth_date'])\n",
    "df2 = df2.dropna(axis=0, subset=['gender'])"
   ]
  },
  {
   "cell_type": "code",
   "execution_count": null,
   "id": "0ce8f3df",
   "metadata": {},
   "outputs": [],
   "source": [
    "print('생일 없는 유저 : ', df2['birth_date'].isnull().sum())\n",
    "print('성별 없는 유저 : ', df2['gender'].isnull().sum())"
   ]
  },
  {
   "cell_type": "code",
   "execution_count": null,
   "id": "6e40b6ec",
   "metadata": {},
   "outputs": [],
   "source": [
    "df2.head()"
   ]
  },
  {
   "cell_type": "code",
   "execution_count": null,
   "id": "3f1815f1",
   "metadata": {},
   "outputs": [],
   "source": [
    "df2 = df2[['session_id', 'event_name', 'user_no', 'gender', 'birth_date', 'category1_name', 'brand_name', 'item_name', 'price']]"
   ]
  },
  {
   "cell_type": "code",
   "execution_count": null,
   "id": "345de53a",
   "metadata": {},
   "outputs": [],
   "source": [
    "df2.head()"
   ]
  },
  {
   "cell_type": "code",
   "execution_count": null,
   "id": "a8ad1e30",
   "metadata": {},
   "outputs": [],
   "source": []
  },
  {
   "cell_type": "code",
   "execution_count": null,
   "id": "13d346c3",
   "metadata": {},
   "outputs": [],
   "source": []
  },
  {
   "cell_type": "code",
   "execution_count": null,
   "id": "ba5d5fb1",
   "metadata": {},
   "outputs": [],
   "source": []
  },
  {
   "cell_type": "code",
   "execution_count": null,
   "id": "e62c711d",
   "metadata": {},
   "outputs": [],
   "source": []
  },
  {
   "cell_type": "code",
   "execution_count": null,
   "id": "88c36139",
   "metadata": {},
   "outputs": [],
   "source": []
  },
  {
   "cell_type": "code",
   "execution_count": null,
   "id": "b5c95768",
   "metadata": {},
   "outputs": [],
   "source": []
  },
  {
   "cell_type": "code",
   "execution_count": null,
   "id": "ef1c9993",
   "metadata": {},
   "outputs": [],
   "source": []
  },
  {
   "cell_type": "code",
   "execution_count": null,
   "id": "2a7e2a1a",
   "metadata": {},
   "outputs": [],
   "source": []
  },
  {
   "cell_type": "code",
   "execution_count": null,
   "id": "e6dbc166",
   "metadata": {},
   "outputs": [],
   "source": []
  },
  {
   "cell_type": "code",
   "execution_count": null,
   "id": "824a12c6",
   "metadata": {},
   "outputs": [],
   "source": []
  },
  {
   "cell_type": "code",
   "execution_count": null,
   "id": "5bb8f33b",
   "metadata": {},
   "outputs": [],
   "source": []
  },
  {
   "cell_type": "code",
   "execution_count": null,
   "id": "5c9cea22",
   "metadata": {},
   "outputs": [],
   "source": []
  },
  {
   "cell_type": "code",
   "execution_count": null,
   "id": "a5faab01",
   "metadata": {},
   "outputs": [],
   "source": []
  },
  {
   "cell_type": "code",
   "execution_count": null,
   "id": "d0e44aae",
   "metadata": {},
   "outputs": [],
   "source": []
  },
  {
   "cell_type": "code",
   "execution_count": null,
   "id": "46c80a43",
   "metadata": {},
   "outputs": [],
   "source": []
  },
  {
   "cell_type": "code",
   "execution_count": null,
   "id": "c08f26da",
   "metadata": {},
   "outputs": [],
   "source": []
  },
  {
   "cell_type": "code",
   "execution_count": null,
   "id": "228fcae9",
   "metadata": {},
   "outputs": [],
   "source": []
  },
  {
   "cell_type": "code",
   "execution_count": null,
   "id": "241456ad",
   "metadata": {},
   "outputs": [],
   "source": []
  },
  {
   "cell_type": "code",
   "execution_count": null,
   "id": "e0cc2c5e",
   "metadata": {},
   "outputs": [],
   "source": []
  },
  {
   "cell_type": "code",
   "execution_count": null,
   "id": "3b16bb7b",
   "metadata": {},
   "outputs": [],
   "source": []
  },
  {
   "cell_type": "code",
   "execution_count": null,
   "id": "4a62f241",
   "metadata": {},
   "outputs": [],
   "source": []
  },
  {
   "cell_type": "code",
   "execution_count": null,
   "id": "666d6f4a",
   "metadata": {},
   "outputs": [],
   "source": []
  },
  {
   "cell_type": "code",
   "execution_count": null,
   "id": "7be63fd3",
   "metadata": {},
   "outputs": [],
   "source": []
  },
  {
   "cell_type": "code",
   "execution_count": null,
   "id": "bc3635a4",
   "metadata": {},
   "outputs": [],
   "source": []
  },
  {
   "cell_type": "code",
   "execution_count": null,
   "id": "ba1fd75f",
   "metadata": {},
   "outputs": [],
   "source": []
  },
  {
   "cell_type": "code",
   "execution_count": null,
   "id": "8c63d076",
   "metadata": {},
   "outputs": [],
   "source": []
  },
  {
   "cell_type": "code",
   "execution_count": null,
   "id": "9098c887",
   "metadata": {},
   "outputs": [],
   "source": []
  },
  {
   "cell_type": "code",
   "execution_count": null,
   "id": "0f47c36d",
   "metadata": {},
   "outputs": [],
   "source": []
  },
  {
   "cell_type": "code",
   "execution_count": null,
   "id": "ff1c091a",
   "metadata": {},
   "outputs": [],
   "source": []
  },
  {
   "cell_type": "code",
   "execution_count": null,
   "id": "eb4c502b",
   "metadata": {},
   "outputs": [],
   "source": []
  },
  {
   "cell_type": "code",
   "execution_count": null,
   "id": "342af6b6",
   "metadata": {},
   "outputs": [],
   "source": []
  },
  {
   "cell_type": "code",
   "execution_count": null,
   "id": "20781480",
   "metadata": {},
   "outputs": [],
   "source": []
  },
  {
   "cell_type": "code",
   "execution_count": null,
   "id": "272e662c",
   "metadata": {},
   "outputs": [],
   "source": []
  },
  {
   "cell_type": "code",
   "execution_count": null,
   "id": "b23cab4e",
   "metadata": {},
   "outputs": [],
   "source": []
  },
  {
   "cell_type": "code",
   "execution_count": null,
   "id": "16620d70",
   "metadata": {},
   "outputs": [],
   "source": []
  },
  {
   "cell_type": "code",
   "execution_count": null,
   "id": "70eb839e",
   "metadata": {},
   "outputs": [],
   "source": []
  },
  {
   "cell_type": "code",
   "execution_count": null,
   "id": "41c4e4ef",
   "metadata": {},
   "outputs": [],
   "source": []
  },
  {
   "cell_type": "code",
   "execution_count": null,
   "id": "25d245cb",
   "metadata": {},
   "outputs": [],
   "source": []
  },
  {
   "cell_type": "code",
   "execution_count": null,
   "id": "2fe86213",
   "metadata": {},
   "outputs": [],
   "source": []
  },
  {
   "cell_type": "code",
   "execution_count": null,
   "id": "90d9b76f",
   "metadata": {},
   "outputs": [],
   "source": []
  },
  {
   "cell_type": "code",
   "execution_count": null,
   "id": "37e0b9af",
   "metadata": {},
   "outputs": [],
   "source": []
  },
  {
   "cell_type": "code",
   "execution_count": null,
   "id": "6545bdce",
   "metadata": {},
   "outputs": [],
   "source": []
  },
  {
   "cell_type": "code",
   "execution_count": null,
   "id": "0401acae",
   "metadata": {},
   "outputs": [],
   "source": []
  },
  {
   "cell_type": "code",
   "execution_count": null,
   "id": "712478a9",
   "metadata": {},
   "outputs": [],
   "source": []
  },
  {
   "cell_type": "code",
   "execution_count": null,
   "id": "5c0ba47c",
   "metadata": {},
   "outputs": [],
   "source": []
  },
  {
   "cell_type": "code",
   "execution_count": null,
   "id": "d3536c53",
   "metadata": {},
   "outputs": [],
   "source": []
  },
  {
   "cell_type": "code",
   "execution_count": null,
   "id": "5e3445c1",
   "metadata": {},
   "outputs": [],
   "source": []
  },
  {
   "cell_type": "code",
   "execution_count": null,
   "id": "39fe77c7",
   "metadata": {},
   "outputs": [],
   "source": []
  },
  {
   "cell_type": "code",
   "execution_count": null,
   "id": "b05ecb33",
   "metadata": {},
   "outputs": [],
   "source": []
  },
  {
   "cell_type": "code",
   "execution_count": null,
   "id": "b94bbb04",
   "metadata": {},
   "outputs": [],
   "source": []
  },
  {
   "cell_type": "code",
   "execution_count": null,
   "id": "ae4a09c6",
   "metadata": {},
   "outputs": [],
   "source": []
  },
  {
   "cell_type": "code",
   "execution_count": null,
   "id": "7b7dc3e5",
   "metadata": {},
   "outputs": [],
   "source": []
  },
  {
   "cell_type": "code",
   "execution_count": null,
   "id": "dc5754d8",
   "metadata": {},
   "outputs": [],
   "source": []
  },
  {
   "cell_type": "code",
   "execution_count": null,
   "id": "dc080c9f",
   "metadata": {},
   "outputs": [],
   "source": []
  },
  {
   "cell_type": "code",
   "execution_count": null,
   "id": "1f90f333",
   "metadata": {},
   "outputs": [],
   "source": []
  },
  {
   "cell_type": "code",
   "execution_count": null,
   "id": "dc3f91b1",
   "metadata": {},
   "outputs": [],
   "source": []
  },
  {
   "cell_type": "code",
   "execution_count": null,
   "id": "91a37975",
   "metadata": {},
   "outputs": [],
   "source": []
  },
  {
   "cell_type": "code",
   "execution_count": null,
   "id": "b8523b25",
   "metadata": {},
   "outputs": [],
   "source": []
  },
  {
   "cell_type": "code",
   "execution_count": null,
   "id": "2e9ed2e3",
   "metadata": {},
   "outputs": [],
   "source": []
  },
  {
   "cell_type": "code",
   "execution_count": null,
   "id": "989523a3",
   "metadata": {},
   "outputs": [],
   "source": []
  },
  {
   "cell_type": "code",
   "execution_count": null,
   "id": "d1cab5d4",
   "metadata": {},
   "outputs": [],
   "source": []
  },
  {
   "cell_type": "code",
   "execution_count": null,
   "id": "82031a48",
   "metadata": {},
   "outputs": [],
   "source": []
  },
  {
   "cell_type": "code",
   "execution_count": null,
   "id": "231f3b4e",
   "metadata": {},
   "outputs": [],
   "source": []
  }
 ],
 "metadata": {
  "kernelspec": {
   "display_name": "Python 3 (ipykernel)",
   "language": "python",
   "name": "python3"
  },
  "language_info": {
   "codemirror_mode": {
    "name": "ipython",
    "version": 3
   },
   "file_extension": ".py",
   "mimetype": "text/x-python",
   "name": "python",
   "nbconvert_exporter": "python",
   "pygments_lexer": "ipython3",
   "version": "3.9.7"
  },
  "toc": {
   "base_numbering": 1,
   "nav_menu": {},
   "number_sections": true,
   "sideBar": true,
   "skip_h1_title": false,
   "title_cell": "Table of Contents",
   "title_sidebar": "Contents",
   "toc_cell": false,
   "toc_position": {},
   "toc_section_display": true,
   "toc_window_display": true
  },
  "varInspector": {
   "cols": {
    "lenName": 16,
    "lenType": 16,
    "lenVar": 40
   },
   "kernels_config": {
    "python": {
     "delete_cmd_postfix": "",
     "delete_cmd_prefix": "del ",
     "library": "var_list.py",
     "varRefreshCmd": "print(var_dic_list())"
    },
    "r": {
     "delete_cmd_postfix": ") ",
     "delete_cmd_prefix": "rm(",
     "library": "var_list.r",
     "varRefreshCmd": "cat(var_dic_list()) "
    }
   },
   "types_to_exclude": [
    "module",
    "function",
    "builtin_function_or_method",
    "instance",
    "_Feature"
   ],
   "window_display": false
  }
 },
 "nbformat": 4,
 "nbformat_minor": 5
}
