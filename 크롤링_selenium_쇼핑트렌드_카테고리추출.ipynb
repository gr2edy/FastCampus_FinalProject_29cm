{
 "cells": [
  {
   "cell_type": "code",
   "execution_count": null,
   "id": "8fa0e38e-e748-44e2-983f-8a8314d72dec",
   "metadata": {},
   "outputs": [],
   "source": []
  },
  {
   "cell_type": "code",
   "execution_count": 131,
   "id": "b2ff38bc-c237-4b1b-9c7f-df774ee87830",
   "metadata": {},
   "outputs": [],
   "source": [
    "import selenium\n",
    "import time\n",
    "from selenium import webdriver\n",
    "from selenium.webdriver import ActionChains\n",
    "import numpy as np\n",
    "from selenium.webdriver.common.keys import Keys\n",
    "from selenium.webdriver.common.by import By\n",
    "\n",
    "from selenium.webdriver.support import expected_conditions as EC\n",
    "from selenium.webdriver.support.ui import Select\n",
    "from selenium.webdriver.support.ui import WebDriverWait"
   ]
  },
  {
   "cell_type": "code",
   "execution_count": 2,
   "id": "d2aec233-c391-46a6-8209-c936b4de0b00",
   "metadata": {},
   "outputs": [],
   "source": [
    "\n",
    "categories_ = [\n",
    "      {\"name\": \"패션잡화\", \"param\": [ \"50000001\"]},\n",
    "      {\"name\": \"화장품/미용\", \"param\": [ \"50000002\"]},\n",
    "      {\"name\": \"가구/인테리어\", \"param\": [ \"50000004\"]},\n",
    "      {\"name\": \"출산/육아\", \"param\": [ \"50000005\"]},\n",
    "      {\"name\": \"식품\", \"param\": [ \"50000006\"]},\n",
    "      {\"name\": \"스포츠/레저\", \"param\": [ \"50000007\"]},\n",
    "      {\"name\": \"생활/건강\", \"param\": [ \"50000008\"]},\n",
    "      {\"name\": \"여가/생활편의\", \"param\": [ \"50000009\"]},\n",
    "      {\"name\": \"면세\", \"param\": [ \"50000010\"]},\n",
    "      {\"name\": \"디지털/가전\", \"param\": [ \"50000003\"]},\n",
    "      {\"name\": \"패션의류\", \"param\": [ \"50000000\"]}\n",
    "  ]\n"
   ]
  },
  {
   "cell_type": "code",
   "execution_count": 6,
   "id": "c67090dc-f664-452e-bc89-ecbdbf833dd2",
   "metadata": {},
   "outputs": [],
   "source": [
    "URL = 'https://search.shopping.naver.com/search/category?catId=50000001'\n",
    "path = r'F:\\mycoding\\chromedriver'\n",
    "driver = webdriver.Chrome(path)\n",
    "driver.get(url=URL)"
   ]
  },
  {
   "cell_type": "code",
   "execution_count": 39,
   "id": "fb06f4ae-bba7-49a2-8ec7-d5adacddcc2b",
   "metadata": {},
   "outputs": [],
   "source": [
    "# url 가져오기\n",
    "driver.get(url=URL)"
   ]
  },
  {
   "cell_type": "code",
   "execution_count": 70,
   "id": "5b8b501f-9d10-4330-a4cc-49dfe3172b44",
   "metadata": {},
   "outputs": [
    {
     "data": {
      "text/plain": [
       "'패션잡화 > 남성신발13\\n운동화\\n부츠\\n워커\\n모카신/털신\\n스니커즈\\n구두\\n실내화\\n슬리퍼\\n웰트화\\n슬립온\\n보트슈즈\\n샌들\\n기능화'"
      ]
     },
     "execution_count": 70,
     "metadata": {},
     "output_type": "execute_result"
    }
   ],
   "source": [
    "driver.find_elements_by_css_selector(\"div.filter_finder_cell__2218d\")[0].text"
   ]
  },
  {
   "cell_type": "code",
   "execution_count": null,
   "id": "08eb5652-6239-430e-9bb9-df9f941e2e47",
   "metadata": {},
   "outputs": [],
   "source": []
  },
  {
   "cell_type": "code",
   "execution_count": 38,
   "id": "fad60554-319a-4536-b30e-af3bc8fc73d9",
   "metadata": {},
   "outputs": [
    {
     "data": {
      "text/plain": [
       "'https://search.shopping.naver.com/search/category?catId=50003834&frm=NVSHCAT&origQuery&pagingIndex=1&pagingSize=40&productSet=total&query&sort=rel&timestamp=&viewType=list'"
      ]
     },
     "execution_count": 38,
     "metadata": {},
     "output_type": "execute_result"
    }
   ],
   "source": [
    "driver.current_url"
   ]
  },
  {
   "cell_type": "code",
   "execution_count": 89,
   "id": "40567073-abaa-4e52-89fa-ed548e4a32a2",
   "metadata": {},
   "outputs": [
    {
     "data": {
      "text/plain": [
       "[{'name': '패션잡화', 'param': ['50000001']},\n",
       " {'name': '화장품/미용', 'param': ['50000002']},\n",
       " {'name': '가구/인테리어', 'param': ['50000004']},\n",
       " {'name': '출산/육아', 'param': ['50000005']},\n",
       " {'name': '식품', 'param': ['50000006']},\n",
       " {'name': '스포츠/레저', 'param': ['50000007']},\n",
       " {'name': '생활/건강', 'param': ['50000008']},\n",
       " {'name': '여가/생활편의', 'param': ['50000009']},\n",
       " {'name': '면세', 'param': ['50000010']},\n",
       " {'name': '디지털/가전', 'param': ['50000003']},\n",
       " {'name': '패션의류', 'param': ['50000000']}]"
      ]
     },
     "execution_count": 89,
     "metadata": {},
     "output_type": "execute_result"
    }
   ],
   "source": [
    "categories_"
   ]
  },
  {
   "cell_type": "code",
   "execution_count": 53,
   "id": "29fd8f0c-4957-4664-ab5a-84c5b36ace21",
   "metadata": {},
   "outputs": [
    {
     "name": "stdout",
     "output_type": "stream",
     "text": [
      "패션잡화\n",
      "화장품/미용\n",
      "가구/인테리어\n",
      "출산/육아\n",
      "식품\n",
      "스포츠/레저\n",
      "생활/건강\n",
      "여가/생활편의\n",
      "면세\n",
      "디지털/가전\n",
      "패션의류\n"
     ]
    }
   ],
   "source": [
    "for i in categories_:\n",
    "    print(i['name'])"
   ]
  },
  {
   "cell_type": "code",
   "execution_count": 101,
   "id": "d7471f6c-ae73-46d0-b10a-e6a807c07996",
   "metadata": {},
   "outputs": [
    {
     "data": {
      "text/plain": [
       "'50000001'"
      ]
     },
     "execution_count": 101,
     "metadata": {},
     "output_type": "execute_result"
    }
   ],
   "source": [
    "categories_[0]['param'][0]"
   ]
  },
  {
   "cell_type": "code",
   "execution_count": 107,
   "id": "29849bec-932b-40a5-97d6-6c3b1b1c21c3",
   "metadata": {},
   "outputs": [
    {
     "data": {
      "text/plain": [
       "[{'name': '패션잡화', 'param': ['50000001']},\n",
       " {'name': '화장품/미용', 'param': ['50000002']},\n",
       " {'name': '가구/인테리어', 'param': ['50000004']},\n",
       " {'name': '출산/육아', 'param': ['50000005']},\n",
       " {'name': '식품', 'param': ['50000006']},\n",
       " {'name': '스포츠/레저', 'param': ['50000007']},\n",
       " {'name': '생활/건강', 'param': ['50000008']},\n",
       " {'name': '여가/생활편의', 'param': ['50000009']},\n",
       " {'name': '면세', 'param': ['50000010']},\n",
       " {'name': '디지털/가전', 'param': ['50000003']},\n",
       " {'name': '패션의류', 'param': ['50000000']}]"
      ]
     },
     "execution_count": 107,
     "metadata": {},
     "output_type": "execute_result"
    }
   ],
   "source": [
    "categories_"
   ]
  },
  {
   "cell_type": "code",
   "execution_count": 168,
   "id": "22cc4233-4df5-4500-bc50-68061607994f",
   "metadata": {
    "tags": []
   },
   "outputs": [],
   "source": [
    "path = r'F:\\mycoding\\chromedriver'\n",
    "driver = webdriver.Chrome(path)\n",
    "\n",
    "# 차단막는 코드\n",
    "seed = np.random.randint(100) # 무작위 정수 뽑아줌 -> 숫자가 시작되는 시작 포인트\n",
    "np.random.seed(seed)\n",
    "a = np.random.randint(5) # 무작위 시드에서 무작위 정수를 뽑음\n",
    "time.sleep(a)\n",
    "\n",
    "name_1_list=[]\n",
    "catid_1_list=[]\n",
    "name_2_list=[]\n",
    "catid_2_list=[]\n",
    "\n",
    "for i in categories_:\n",
    "    name_1= i['name']\n",
    "    catid_1= i['param'][0]\n",
    "    URL = f'https://search.shopping.naver.com/search/category?catId={catid_1}'\n",
    "\n",
    "    driver.get(url=URL)\n",
    "\n",
    "    category_list = driver.find_elements_by_css_selector(\"div.filter_finder_cell__2218d ul li\")\n",
    "    category_list_name = driver.find_elements_by_css_selector(\"div.filter_finder_cell__2218d\")[0].text.split('\\n')[1:]\n",
    "    for j,i in enumerate(category_list):\n",
    "        time.sleep(6)\n",
    "        # i.find_element_by_css_selector(\"a\").click()\n",
    "        driver.find_element_by_xpath(f'//*[@id=\"__next\"]/div/div[2]/div/div[2]/div[1]/div[1]/div[2]/div/ul/li[{j+1}]/a').click()\n",
    "        time.sleep(a)\n",
    "        catid_2=driver.current_url.split('catId=')[1].split('&')[0]\n",
    "        name_2=category_list_name[j]\n",
    "        name_1_list.append(name_1)\n",
    "        catid_1_list.append(catid_1)\n",
    "        name_2_list.append(name_2)\n",
    "        catid_2_list.append(catid_2)\n",
    "        time.sleep(a)\n",
    "        driver.get(url=URL)"
   ]
  },
  {
   "cell_type": "code",
   "execution_count": 177,
   "id": "7758ae11-6b99-4de5-a9fb-0bb35bfd51f3",
   "metadata": {},
   "outputs": [
    {
     "ename": "TypeError",
     "evalue": "__init__() got an unexpected keyword argument 'axis'",
     "output_type": "error",
     "traceback": [
      "\u001b[1;31m---------------------------------------------------------------------------\u001b[0m",
      "\u001b[1;31mTypeError\u001b[0m                                 Traceback (most recent call last)",
      "\u001b[1;32m<ipython-input-177-22869e8054bb>\u001b[0m in \u001b[0;36m<module>\u001b[1;34m\u001b[0m\n\u001b[0;32m      1\u001b[0m \u001b[1;32mimport\u001b[0m \u001b[0mpandas\u001b[0m \u001b[1;32mas\u001b[0m \u001b[0mpd\u001b[0m\u001b[1;33m\u001b[0m\u001b[1;33m\u001b[0m\u001b[0m\n\u001b[1;32m----> 2\u001b[1;33m \u001b[0mcategory_df\u001b[0m \u001b[1;33m=\u001b[0m \u001b[0mpd\u001b[0m\u001b[1;33m.\u001b[0m\u001b[0mDataFrame\u001b[0m\u001b[1;33m(\u001b[0m\u001b[1;33m[\u001b[0m\u001b[0mname_1_list\u001b[0m\u001b[1;33m,\u001b[0m\u001b[0mcatid_1_list\u001b[0m\u001b[1;33m,\u001b[0m\u001b[0mname_2_list\u001b[0m\u001b[1;33m,\u001b[0m\u001b[0mcatid_2_list\u001b[0m\u001b[1;33m]\u001b[0m\u001b[1;33m,\u001b[0m \u001b[0maxis\u001b[0m\u001b[1;33m=\u001b[0m\u001b[1;36m1\u001b[0m\u001b[1;33m)\u001b[0m\u001b[1;33m\u001b[0m\u001b[1;33m\u001b[0m\u001b[0m\n\u001b[0m",
      "\u001b[1;31mTypeError\u001b[0m: __init__() got an unexpected keyword argument 'axis'"
     ]
    }
   ],
   "source": [
    "import pandas as pd\n",
    "category_df = pd.DataFrame([name_1_list,catid_1_list,name_2_list,catid_2_list], axis=1)"
   ]
  },
  {
   "cell_type": "code",
   "execution_count": 178,
   "id": "31391930-6797-4256-b5d4-c9d8f93ec6ed",
   "metadata": {},
   "outputs": [
    {
     "data": {
      "text/plain": [
       "<zip at 0x1fa390ecec0>"
      ]
     },
     "execution_count": 178,
     "metadata": {},
     "output_type": "execute_result"
    }
   ],
   "source": [
    "zip([name_1_list,catid_1_list,name_2_list,catid_2_list])"
   ]
  },
  {
   "cell_type": "code",
   "execution_count": 197,
   "id": "ab65f339-1856-4756-abee-6cf191ab1ff8",
   "metadata": {},
   "outputs": [],
   "source": [
    "category_df=pd.DataFrame(columns=['name_1','catid_1','name_2','catid_2'])"
   ]
  },
  {
   "cell_type": "code",
   "execution_count": 198,
   "id": "1ba88edd-97e3-4237-ae8d-607f69aee8e2",
   "metadata": {},
   "outputs": [],
   "source": [
    "category_df['name_1']=name_1_list\n",
    "category_df['catid_1']=catid_1_list\n",
    "category_df['name_2']=name_2_list\n",
    "category_df['catid_2']=catid_2_list"
   ]
  },
  {
   "cell_type": "code",
   "execution_count": 188,
   "id": "aa6bb4ec-8761-4f11-ba79-5b7a6b8377a4",
   "metadata": {},
   "outputs": [],
   "source": [
    "category_df['name_1']=name_1_list"
   ]
  },
  {
   "cell_type": "code",
   "execution_count": 201,
   "id": "3ddf3129-e825-4711-ba23-3de478b0ae61",
   "metadata": {},
   "outputs": [],
   "source": [
    "category_df.to_csv('./naver_catid.csv',index=False)"
   ]
  },
  {
   "cell_type": "code",
   "execution_count": 159,
   "id": "f26b228b-4fca-4e14-abd5-d2cd722d22f1",
   "metadata": {
    "collapsed": true,
    "jupyter": {
     "outputs_hidden": true
    },
    "tags": []
   },
   "outputs": [
    {
     "ename": "StaleElementReferenceException",
     "evalue": "Message: stale element reference: element is not attached to the page document\n  (Session info: chrome=101.0.4951.54)\n",
     "output_type": "error",
     "traceback": [
      "\u001b[1;31m---------------------------------------------------------------------------\u001b[0m",
      "\u001b[1;31mStaleElementReferenceException\u001b[0m            Traceback (most recent call last)",
      "\u001b[1;32m<ipython-input-159-8248d33e3542>\u001b[0m in \u001b[0;36m<module>\u001b[1;34m\u001b[0m\n\u001b[1;32m----> 1\u001b[1;33m \u001b[0mi\u001b[0m\u001b[1;33m.\u001b[0m\u001b[0mfind_element_by_css_selector\u001b[0m\u001b[1;33m(\u001b[0m\u001b[1;34m'nth-child(1)'\u001b[0m\u001b[1;33m)\u001b[0m\u001b[1;33m\u001b[0m\u001b[1;33m\u001b[0m\u001b[0m\n\u001b[0m",
      "\u001b[1;32m~\\anaconda3\\lib\\site-packages\\selenium\\webdriver\\remote\\webelement.py\u001b[0m in \u001b[0;36mfind_element_by_css_selector\u001b[1;34m(self, css_selector)\u001b[0m\n\u001b[0;32m    428\u001b[0m             \u001b[0melement\u001b[0m \u001b[1;33m=\u001b[0m \u001b[0melement\u001b[0m\u001b[1;33m.\u001b[0m\u001b[0mfind_element_by_css_selector\u001b[0m\u001b[1;33m(\u001b[0m\u001b[1;34m'#foo'\u001b[0m\u001b[1;33m)\u001b[0m\u001b[1;33m\u001b[0m\u001b[1;33m\u001b[0m\u001b[0m\n\u001b[0;32m    429\u001b[0m         \"\"\"\n\u001b[1;32m--> 430\u001b[1;33m         \u001b[1;32mreturn\u001b[0m \u001b[0mself\u001b[0m\u001b[1;33m.\u001b[0m\u001b[0mfind_element\u001b[0m\u001b[1;33m(\u001b[0m\u001b[0mby\u001b[0m\u001b[1;33m=\u001b[0m\u001b[0mBy\u001b[0m\u001b[1;33m.\u001b[0m\u001b[0mCSS_SELECTOR\u001b[0m\u001b[1;33m,\u001b[0m \u001b[0mvalue\u001b[0m\u001b[1;33m=\u001b[0m\u001b[0mcss_selector\u001b[0m\u001b[1;33m)\u001b[0m\u001b[1;33m\u001b[0m\u001b[1;33m\u001b[0m\u001b[0m\n\u001b[0m\u001b[0;32m    431\u001b[0m \u001b[1;33m\u001b[0m\u001b[0m\n\u001b[0;32m    432\u001b[0m     \u001b[1;32mdef\u001b[0m \u001b[0mfind_elements_by_css_selector\u001b[0m\u001b[1;33m(\u001b[0m\u001b[0mself\u001b[0m\u001b[1;33m,\u001b[0m \u001b[0mcss_selector\u001b[0m\u001b[1;33m)\u001b[0m\u001b[1;33m:\u001b[0m\u001b[1;33m\u001b[0m\u001b[1;33m\u001b[0m\u001b[0m\n",
      "\u001b[1;32m~\\anaconda3\\lib\\site-packages\\selenium\\webdriver\\remote\\webelement.py\u001b[0m in \u001b[0;36mfind_element\u001b[1;34m(self, by, value)\u001b[0m\n\u001b[0;32m    656\u001b[0m                 \u001b[0mvalue\u001b[0m \u001b[1;33m=\u001b[0m \u001b[1;34m'[name=\"%s\"]'\u001b[0m \u001b[1;33m%\u001b[0m \u001b[0mvalue\u001b[0m\u001b[1;33m\u001b[0m\u001b[1;33m\u001b[0m\u001b[0m\n\u001b[0;32m    657\u001b[0m \u001b[1;33m\u001b[0m\u001b[0m\n\u001b[1;32m--> 658\u001b[1;33m         return self._execute(Command.FIND_CHILD_ELEMENT,\n\u001b[0m\u001b[0;32m    659\u001b[0m                              {\"using\": by, \"value\": value})['value']\n\u001b[0;32m    660\u001b[0m \u001b[1;33m\u001b[0m\u001b[0m\n",
      "\u001b[1;32m~\\anaconda3\\lib\\site-packages\\selenium\\webdriver\\remote\\webelement.py\u001b[0m in \u001b[0;36m_execute\u001b[1;34m(self, command, params)\u001b[0m\n\u001b[0;32m    631\u001b[0m             \u001b[0mparams\u001b[0m \u001b[1;33m=\u001b[0m \u001b[1;33m{\u001b[0m\u001b[1;33m}\u001b[0m\u001b[1;33m\u001b[0m\u001b[1;33m\u001b[0m\u001b[0m\n\u001b[0;32m    632\u001b[0m         \u001b[0mparams\u001b[0m\u001b[1;33m[\u001b[0m\u001b[1;34m'id'\u001b[0m\u001b[1;33m]\u001b[0m \u001b[1;33m=\u001b[0m \u001b[0mself\u001b[0m\u001b[1;33m.\u001b[0m\u001b[0m_id\u001b[0m\u001b[1;33m\u001b[0m\u001b[1;33m\u001b[0m\u001b[0m\n\u001b[1;32m--> 633\u001b[1;33m         \u001b[1;32mreturn\u001b[0m \u001b[0mself\u001b[0m\u001b[1;33m.\u001b[0m\u001b[0m_parent\u001b[0m\u001b[1;33m.\u001b[0m\u001b[0mexecute\u001b[0m\u001b[1;33m(\u001b[0m\u001b[0mcommand\u001b[0m\u001b[1;33m,\u001b[0m \u001b[0mparams\u001b[0m\u001b[1;33m)\u001b[0m\u001b[1;33m\u001b[0m\u001b[1;33m\u001b[0m\u001b[0m\n\u001b[0m\u001b[0;32m    634\u001b[0m \u001b[1;33m\u001b[0m\u001b[0m\n\u001b[0;32m    635\u001b[0m     \u001b[1;32mdef\u001b[0m \u001b[0mfind_element\u001b[0m\u001b[1;33m(\u001b[0m\u001b[0mself\u001b[0m\u001b[1;33m,\u001b[0m \u001b[0mby\u001b[0m\u001b[1;33m=\u001b[0m\u001b[0mBy\u001b[0m\u001b[1;33m.\u001b[0m\u001b[0mID\u001b[0m\u001b[1;33m,\u001b[0m \u001b[0mvalue\u001b[0m\u001b[1;33m=\u001b[0m\u001b[1;32mNone\u001b[0m\u001b[1;33m)\u001b[0m\u001b[1;33m:\u001b[0m\u001b[1;33m\u001b[0m\u001b[1;33m\u001b[0m\u001b[0m\n",
      "\u001b[1;32m~\\anaconda3\\lib\\site-packages\\selenium\\webdriver\\remote\\webdriver.py\u001b[0m in \u001b[0;36mexecute\u001b[1;34m(self, driver_command, params)\u001b[0m\n\u001b[0;32m    319\u001b[0m         \u001b[0mresponse\u001b[0m \u001b[1;33m=\u001b[0m \u001b[0mself\u001b[0m\u001b[1;33m.\u001b[0m\u001b[0mcommand_executor\u001b[0m\u001b[1;33m.\u001b[0m\u001b[0mexecute\u001b[0m\u001b[1;33m(\u001b[0m\u001b[0mdriver_command\u001b[0m\u001b[1;33m,\u001b[0m \u001b[0mparams\u001b[0m\u001b[1;33m)\u001b[0m\u001b[1;33m\u001b[0m\u001b[1;33m\u001b[0m\u001b[0m\n\u001b[0;32m    320\u001b[0m         \u001b[1;32mif\u001b[0m \u001b[0mresponse\u001b[0m\u001b[1;33m:\u001b[0m\u001b[1;33m\u001b[0m\u001b[1;33m\u001b[0m\u001b[0m\n\u001b[1;32m--> 321\u001b[1;33m             \u001b[0mself\u001b[0m\u001b[1;33m.\u001b[0m\u001b[0merror_handler\u001b[0m\u001b[1;33m.\u001b[0m\u001b[0mcheck_response\u001b[0m\u001b[1;33m(\u001b[0m\u001b[0mresponse\u001b[0m\u001b[1;33m)\u001b[0m\u001b[1;33m\u001b[0m\u001b[1;33m\u001b[0m\u001b[0m\n\u001b[0m\u001b[0;32m    322\u001b[0m             response['value'] = self._unwrap_value(\n\u001b[0;32m    323\u001b[0m                 response.get('value', None))\n",
      "\u001b[1;32m~\\anaconda3\\lib\\site-packages\\selenium\\webdriver\\remote\\errorhandler.py\u001b[0m in \u001b[0;36mcheck_response\u001b[1;34m(self, response)\u001b[0m\n\u001b[0;32m    240\u001b[0m                 \u001b[0malert_text\u001b[0m \u001b[1;33m=\u001b[0m \u001b[0mvalue\u001b[0m\u001b[1;33m[\u001b[0m\u001b[1;34m'alert'\u001b[0m\u001b[1;33m]\u001b[0m\u001b[1;33m.\u001b[0m\u001b[0mget\u001b[0m\u001b[1;33m(\u001b[0m\u001b[1;34m'text'\u001b[0m\u001b[1;33m)\u001b[0m\u001b[1;33m\u001b[0m\u001b[1;33m\u001b[0m\u001b[0m\n\u001b[0;32m    241\u001b[0m             \u001b[1;32mraise\u001b[0m \u001b[0mexception_class\u001b[0m\u001b[1;33m(\u001b[0m\u001b[0mmessage\u001b[0m\u001b[1;33m,\u001b[0m \u001b[0mscreen\u001b[0m\u001b[1;33m,\u001b[0m \u001b[0mstacktrace\u001b[0m\u001b[1;33m,\u001b[0m \u001b[0malert_text\u001b[0m\u001b[1;33m)\u001b[0m\u001b[1;33m\u001b[0m\u001b[1;33m\u001b[0m\u001b[0m\n\u001b[1;32m--> 242\u001b[1;33m         \u001b[1;32mraise\u001b[0m \u001b[0mexception_class\u001b[0m\u001b[1;33m(\u001b[0m\u001b[0mmessage\u001b[0m\u001b[1;33m,\u001b[0m \u001b[0mscreen\u001b[0m\u001b[1;33m,\u001b[0m \u001b[0mstacktrace\u001b[0m\u001b[1;33m)\u001b[0m\u001b[1;33m\u001b[0m\u001b[1;33m\u001b[0m\u001b[0m\n\u001b[0m\u001b[0;32m    243\u001b[0m \u001b[1;33m\u001b[0m\u001b[0m\n\u001b[0;32m    244\u001b[0m     \u001b[1;32mdef\u001b[0m \u001b[0m_value_or_default\u001b[0m\u001b[1;33m(\u001b[0m\u001b[0mself\u001b[0m\u001b[1;33m,\u001b[0m \u001b[0mobj\u001b[0m\u001b[1;33m,\u001b[0m \u001b[0mkey\u001b[0m\u001b[1;33m,\u001b[0m \u001b[0mdefault\u001b[0m\u001b[1;33m)\u001b[0m\u001b[1;33m:\u001b[0m\u001b[1;33m\u001b[0m\u001b[1;33m\u001b[0m\u001b[0m\n",
      "\u001b[1;31mStaleElementReferenceException\u001b[0m: Message: stale element reference: element is not attached to the page document\n  (Session info: chrome=101.0.4951.54)\n"
     ]
    }
   ],
   "source": [
    "i.find_element_by_css_selector('nth-child(1)')"
   ]
  },
  {
   "cell_type": "code",
   "execution_count": null,
   "id": "368cab88-2c40-4a2f-b6ae-cfbe16057b98",
   "metadata": {},
   "outputs": [],
   "source": [
    "#__next > div > div.style_container__1YjHN > div > div.filter_finder__1Gtei > div.filter_finder_filter__1DTIN > div.filter_finder_col__3ttPW.filter_is_active__3qqoC > div.filter_finder_row__1rXWv > div > ul > li:nth-child(1)"
   ]
  },
  {
   "cell_type": "code",
   "execution_count": 124,
   "id": "15c36e66-2235-48db-8539-d4d3bc1cdd60",
   "metadata": {},
   "outputs": [
    {
     "data": {
      "text/plain": [
       "'50000173'"
      ]
     },
     "execution_count": 124,
     "metadata": {},
     "output_type": "execute_result"
    }
   ],
   "source": [
    "//*[@id=\"__next\"]/div/div[2]/div/div[2]/div[1]/div[1]/div[2]/div/ul/li[1]\n",
    "//*[@id=\"__next\"]/div/div[2]/div/div[2]/div[1]/div[1]/div[2]/div/ul/li[2]/a\n",
    "//*[@id=\"__next\"]/div/div[2]/div/div[2]/div[1]/div[1]/div[2]/div/ul/li[1]/a"
   ]
  },
  {
   "cell_type": "code",
   "execution_count": 166,
   "id": "d55b8654-0cab-4b43-84a1-34104eeb8033",
   "metadata": {},
   "outputs": [],
   "source": [
    "driver.find_element_by_xpath('//*[@id=\"__next\"]/div/div[2]/div/div[2]/div[1]/div[1]/div[2]/div/ul/li[3]/a').click()"
   ]
  },
  {
   "cell_type": "code",
   "execution_count": 125,
   "id": "ff37dcfc-beb5-475e-88c2-3c114826e1fa",
   "metadata": {},
   "outputs": [
    {
     "data": {
      "text/plain": [
       "'여성신발'"
      ]
     },
     "execution_count": 125,
     "metadata": {},
     "output_type": "execute_result"
    }
   ],
   "source": [
    "name_2"
   ]
  },
  {
   "cell_type": "code",
   "execution_count": 129,
   "id": "6d98bdfb-564f-4d2b-aabd-822444c7f1a1",
   "metadata": {},
   "outputs": [
    {
     "data": {
      "text/plain": [
       "['50000173']"
      ]
     },
     "execution_count": 129,
     "metadata": {},
     "output_type": "execute_result"
    }
   ],
   "source": [
    "catid_2_list"
   ]
  },
  {
   "cell_type": "code",
   "execution_count": 121,
   "id": "790d801d-7a3a-4484-a50a-143d7c341d8a",
   "metadata": {},
   "outputs": [
    {
     "data": {
      "text/plain": [
       "'50000173'"
      ]
     },
     "execution_count": 121,
     "metadata": {},
     "output_type": "execute_result"
    }
   ],
   "source": [
    "driver.current_url.split('catId=')[1].split('&')[0]"
   ]
  },
  {
   "cell_type": "code",
   "execution_count": 114,
   "id": "e6837458-5fa8-45b0-a1d1-b6ff4aaef209",
   "metadata": {},
   "outputs": [
    {
     "data": {
      "text/plain": [
       "[<selenium.webdriver.remote.webelement.WebElement (session=\"0dae79eb6750dba687ed3f543a231bb7\", element=\"080b8c34-0d70-4bb4-9e74-6e83c895763c\")>,\n",
       " <selenium.webdriver.remote.webelement.WebElement (session=\"0dae79eb6750dba687ed3f543a231bb7\", element=\"74e2cb29-8abc-43aa-b89f-e3e38a4dd74a\")>,\n",
       " <selenium.webdriver.remote.webelement.WebElement (session=\"0dae79eb6750dba687ed3f543a231bb7\", element=\"ba25b264-a758-4982-8cbf-ef90b2822227\")>,\n",
       " <selenium.webdriver.remote.webelement.WebElement (session=\"0dae79eb6750dba687ed3f543a231bb7\", element=\"5c20bfd2-ac48-453a-9819-b8c375038155\")>,\n",
       " <selenium.webdriver.remote.webelement.WebElement (session=\"0dae79eb6750dba687ed3f543a231bb7\", element=\"a1656572-de84-42d0-91ef-d162211e034f\")>,\n",
       " <selenium.webdriver.remote.webelement.WebElement (session=\"0dae79eb6750dba687ed3f543a231bb7\", element=\"7177cb34-78af-40a8-af57-193241097b21\")>,\n",
       " <selenium.webdriver.remote.webelement.WebElement (session=\"0dae79eb6750dba687ed3f543a231bb7\", element=\"c5da44ad-fa71-4538-8634-5b5a1e125f74\")>,\n",
       " <selenium.webdriver.remote.webelement.WebElement (session=\"0dae79eb6750dba687ed3f543a231bb7\", element=\"267b480c-7b37-49e0-a86e-9ff3d972e130\")>,\n",
       " <selenium.webdriver.remote.webelement.WebElement (session=\"0dae79eb6750dba687ed3f543a231bb7\", element=\"86511aa7-c592-4c26-9300-eb996ddd2de9\")>,\n",
       " <selenium.webdriver.remote.webelement.WebElement (session=\"0dae79eb6750dba687ed3f543a231bb7\", element=\"92121af8-5a2c-44e0-8c4c-b8657c45f20d\")>,\n",
       " <selenium.webdriver.remote.webelement.WebElement (session=\"0dae79eb6750dba687ed3f543a231bb7\", element=\"8809e4b4-dda5-46eb-b2a0-b67e143d5ac8\")>,\n",
       " <selenium.webdriver.remote.webelement.WebElement (session=\"0dae79eb6750dba687ed3f543a231bb7\", element=\"7e54f0ce-5c07-4d07-ae9b-c7eb0d6c7871\")>,\n",
       " <selenium.webdriver.remote.webelement.WebElement (session=\"0dae79eb6750dba687ed3f543a231bb7\", element=\"e1c4e8a0-b224-4b92-8626-1d3009c2e410\")>,\n",
       " <selenium.webdriver.remote.webelement.WebElement (session=\"0dae79eb6750dba687ed3f543a231bb7\", element=\"6fb79c16-7bed-40bf-aa60-dc0ba65a5596\")>,\n",
       " <selenium.webdriver.remote.webelement.WebElement (session=\"0dae79eb6750dba687ed3f543a231bb7\", element=\"cf2e2490-6bfa-481e-884e-bc3373826e18\")>,\n",
       " <selenium.webdriver.remote.webelement.WebElement (session=\"0dae79eb6750dba687ed3f543a231bb7\", element=\"c05701f2-d252-44c7-acf5-584eacd7f9c9\")>,\n",
       " <selenium.webdriver.remote.webelement.WebElement (session=\"0dae79eb6750dba687ed3f543a231bb7\", element=\"c8015eba-1155-40fd-8187-6cd7dbc37461\")>,\n",
       " <selenium.webdriver.remote.webelement.WebElement (session=\"0dae79eb6750dba687ed3f543a231bb7\", element=\"e0586b68-dbdd-4fa2-a4fd-f57d1ad09541\")>]"
      ]
     },
     "execution_count": 114,
     "metadata": {},
     "output_type": "execute_result"
    }
   ],
   "source": [
    "category_list"
   ]
  },
  {
   "cell_type": "code",
   "execution_count": 122,
   "id": "833b9627-5923-4f3f-9be6-bd82f6c12db7",
   "metadata": {},
   "outputs": [
    {
     "data": {
      "text/plain": [
       "'여성신발'"
      ]
     },
     "execution_count": 122,
     "metadata": {},
     "output_type": "execute_result"
    }
   ],
   "source": [
    "category_list_name[0]"
   ]
  },
  {
   "cell_type": "code",
   "execution_count": 113,
   "id": "d20e3149-8028-4e77-a81a-41581d01e8cc",
   "metadata": {},
   "outputs": [],
   "source": [
    "driver.find_elements_by_css_selector(\"div.filter_finder_cell__2218d ul li\")[0].find_element_by_css_selector(\"a\").click()"
   ]
  },
  {
   "cell_type": "code",
   "execution_count": 99,
   "id": "61fbc2b4-d420-448a-9dd3-996fb2b97442",
   "metadata": {},
   "outputs": [
    {
     "data": {
      "text/plain": [
       "['50000001']"
      ]
     },
     "execution_count": 99,
     "metadata": {},
     "output_type": "execute_result"
    }
   ],
   "source": [
    "catid_1"
   ]
  },
  {
   "cell_type": "code",
   "execution_count": 95,
   "id": "4500337e-2497-44ff-b814-95c7f1822a97",
   "metadata": {},
   "outputs": [
    {
     "data": {
      "text/plain": [
       "[]"
      ]
     },
     "execution_count": 95,
     "metadata": {},
     "output_type": "execute_result"
    }
   ],
   "source": [
    "driver.find_elements_by_css_selector(\"div.filter_finder_row__1rXWv\")"
   ]
  },
  {
   "cell_type": "code",
   "execution_count": 94,
   "id": "3ce184e5-f1ff-4f47-b9a1-a263b8888b53",
   "metadata": {},
   "outputs": [
    {
     "data": {
      "text/plain": [
       "[]"
      ]
     },
     "execution_count": 94,
     "metadata": {},
     "output_type": "execute_result"
    }
   ],
   "source": [
    "category_list"
   ]
  },
  {
   "cell_type": "code",
   "execution_count": 57,
   "id": "8321c140-506c-4a2c-9d8a-c4ae9304349b",
   "metadata": {},
   "outputs": [],
   "source": [
    "category_list[0].find_element_by_css_selector(\"a\").click()"
   ]
  },
  {
   "cell_type": "code",
   "execution_count": 83,
   "id": "75b8c9ab-df18-4282-ac9c-7a1f0a95be79",
   "metadata": {},
   "outputs": [
    {
     "data": {
      "text/plain": [
       "'50000001'"
      ]
     },
     "execution_count": 83,
     "metadata": {},
     "output_type": "execute_result"
    }
   ],
   "source": [
    "driver.current_url.split('catId=')[1].split('&')[0]"
   ]
  },
  {
   "cell_type": "code",
   "execution_count": 79,
   "id": "9b065ee8-83de-4cf1-8691-f9d97149e160",
   "metadata": {},
   "outputs": [
    {
     "data": {
      "text/plain": [
       "['여성신발',\n",
       " '남성신발',\n",
       " '신발용품',\n",
       " '여성가방',\n",
       " '남성가방',\n",
       " '여행용가방/소품',\n",
       " '지갑',\n",
       " '벨트',\n",
       " '모자',\n",
       " '장갑',\n",
       " '양말',\n",
       " '선글라스/안경테',\n",
       " '헤어액세서리',\n",
       " '패션소품',\n",
       " '시계',\n",
       " '순금',\n",
       " '주얼리',\n",
       " '제화브랜드']"
      ]
     },
     "execution_count": 79,
     "metadata": {},
     "output_type": "execute_result"
    }
   ],
   "source": [
    "driver.find_elements_by_css_selector(\"div.filter_finder_cell__2218d\")[0].text.split('\\n')[1:]"
   ]
  },
  {
   "cell_type": "code",
   "execution_count": 77,
   "id": "0e7cf389-96a3-497c-a7c9-ddf8594455d0",
   "metadata": {},
   "outputs": [
    {
     "data": {
      "text/plain": [
       "'패션잡화 총 18개 카테고리'"
      ]
     },
     "execution_count": 77,
     "metadata": {},
     "output_type": "execute_result"
    }
   ],
   "source": [
    "test_list"
   ]
  },
  {
   "cell_type": "code",
   "execution_count": 65,
   "id": "9d463e4d-ce30-42d1-ac9f-18b87eb96188",
   "metadata": {},
   "outputs": [
    {
     "name": "stdout",
     "output_type": "stream",
     "text": [
      "0 <selenium.webdriver.remote.webelement.WebElement (session=\"1ffe6d7e843785022cfcfce27dd17091\", element=\"3c077c54-a6f3-4f9d-9ee6-02bde2eb2c15\")>\n",
      "1 <selenium.webdriver.remote.webelement.WebElement (session=\"1ffe6d7e843785022cfcfce27dd17091\", element=\"efc3b1de-67dc-47b4-b27d-3d1c4abbe315\")>\n",
      "2 <selenium.webdriver.remote.webelement.WebElement (session=\"1ffe6d7e843785022cfcfce27dd17091\", element=\"60820c2c-76e7-40d3-a35e-f00ab52a0ccf\")>\n",
      "3 <selenium.webdriver.remote.webelement.WebElement (session=\"1ffe6d7e843785022cfcfce27dd17091\", element=\"990f8203-0fd1-4289-b614-53af3d0d1a37\")>\n",
      "4 <selenium.webdriver.remote.webelement.WebElement (session=\"1ffe6d7e843785022cfcfce27dd17091\", element=\"7be8ad8f-cf40-4f1b-9c64-ecc8f567b3b7\")>\n",
      "5 <selenium.webdriver.remote.webelement.WebElement (session=\"1ffe6d7e843785022cfcfce27dd17091\", element=\"d7e49223-c03c-4a59-a5ec-7ae7b7fe818d\")>\n",
      "6 <selenium.webdriver.remote.webelement.WebElement (session=\"1ffe6d7e843785022cfcfce27dd17091\", element=\"cf87962a-18bf-42bd-80da-92950307911c\")>\n",
      "7 <selenium.webdriver.remote.webelement.WebElement (session=\"1ffe6d7e843785022cfcfce27dd17091\", element=\"da22d031-3245-4cdc-a713-1142431bcfa3\")>\n",
      "8 <selenium.webdriver.remote.webelement.WebElement (session=\"1ffe6d7e843785022cfcfce27dd17091\", element=\"be2eb3ef-8285-46b2-b3f2-3c8eaf0041a3\")>\n",
      "9 <selenium.webdriver.remote.webelement.WebElement (session=\"1ffe6d7e843785022cfcfce27dd17091\", element=\"f63e55ff-28d7-48dd-b64f-bc7f5b7e793e\")>\n",
      "10 <selenium.webdriver.remote.webelement.WebElement (session=\"1ffe6d7e843785022cfcfce27dd17091\", element=\"99aef1f6-1691-41ca-82d6-57300b3f0d4f\")>\n",
      "11 <selenium.webdriver.remote.webelement.WebElement (session=\"1ffe6d7e843785022cfcfce27dd17091\", element=\"a3c63138-1957-479f-b650-a1d6ee93121e\")>\n",
      "12 <selenium.webdriver.remote.webelement.WebElement (session=\"1ffe6d7e843785022cfcfce27dd17091\", element=\"7bc8e5ee-4190-4477-9157-39880fb997f1\")>\n",
      "13 <selenium.webdriver.remote.webelement.WebElement (session=\"1ffe6d7e843785022cfcfce27dd17091\", element=\"72f3e906-64d9-4b92-a23f-39ff52147b61\")>\n",
      "14 <selenium.webdriver.remote.webelement.WebElement (session=\"1ffe6d7e843785022cfcfce27dd17091\", element=\"f32b78f7-490b-43e8-821f-cbe640fa070c\")>\n",
      "15 <selenium.webdriver.remote.webelement.WebElement (session=\"1ffe6d7e843785022cfcfce27dd17091\", element=\"d9f5bf2a-0d2a-4835-9f5a-d44d02a1986f\")>\n",
      "16 <selenium.webdriver.remote.webelement.WebElement (session=\"1ffe6d7e843785022cfcfce27dd17091\", element=\"e16fadcb-5a5d-49b3-a5de-39b1cd95473f\")>\n",
      "17 <selenium.webdriver.remote.webelement.WebElement (session=\"1ffe6d7e843785022cfcfce27dd17091\", element=\"f45850e6-60c3-4a06-9114-985ddd1277c7\")>\n"
     ]
    }
   ],
   "source": [
    "for i,j in enumerate(category_list):\n",
    "    print(i,j)"
   ]
  },
  {
   "cell_type": "code",
   "execution_count": null,
   "id": "2de6c769-c491-4e72-8fa1-2b430d61caef",
   "metadata": {},
   "outputs": [],
   "source": []
  }
 ],
 "metadata": {
  "kernelspec": {
   "display_name": "Python 3",
   "language": "python",
   "name": "python3"
  },
  "language_info": {
   "codemirror_mode": {
    "name": "ipython",
    "version": 3
   },
   "file_extension": ".py",
   "mimetype": "text/x-python",
   "name": "python",
   "nbconvert_exporter": "python",
   "pygments_lexer": "ipython3",
   "version": "3.8.5"
  }
 },
 "nbformat": 4,
 "nbformat_minor": 5
}
