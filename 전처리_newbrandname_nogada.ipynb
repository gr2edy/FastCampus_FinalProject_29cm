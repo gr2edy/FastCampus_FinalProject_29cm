{
 "cells": [
  {
   "cell_type": "code",
   "execution_count": 1,
   "id": "aa473256-2cea-45a1-a170-332a551ec7d9",
   "metadata": {},
   "outputs": [],
   "source": [
    "#\n",
    "# 앞으로 수업에서 실행이 되었다고 가정하는 코드\n",
    "#\n",
    "\n",
    "# 그래프 시각화 시, jupyter에서 바로 표현되게 만드는 magic command\n",
    "%matplotlib inline\n",
    "\n",
    "# jupyter의 code cell에서 print() 함수 호출 없이, 복수의 변수명만 입력해도 바로 출력창에 출력값들이 나오도록 해주는 설정입니다.\n",
    "# 구글에 \"multiple output in jupyter withtout print()\" 로 검색하면 나오는 코드 중에 하나이니, 딱히 외우거나 하시지 않아도 됩니다.\n",
    "from IPython.core.interactiveshell import InteractiveShell\n",
    "InteractiveShell.ast_node_interactivity = \"all\"\n",
    "\n",
    "import pandas as pd\n",
    "pd.set_option('display.float_format', lambda x: '%.3f' % x)    # DataFrame 숫자데이터가 소수점 셋째자리까지 나오도록 설정\n",
    "pd.set_option('max_columns', None)  # DataFrame에서 모든 컬럼을 다 볼 수 있게 설정\n",
    "\n",
    "import warnings\n",
    "warnings.filterwarnings('ignore')\n",
    "pd.set_option('display.max_rows', 1000)\n",
    "pd.set_option('display.max_column', 1000)\n",
    "pd.options.display.float_format = '{:.2f}'.format\n",
    "\n",
    "import re\n",
    "import requests\n",
    "import bs4\n",
    "import pandas as pd\n",
    "import numpy as np\n",
    "from datetime import datetime\n",
    "import datetime\n",
    "import random\n",
    "from tqdm.autonotebook import tqdm\n",
    "import string\n",
    "import re\n",
    "import seaborn as sns\n",
    "import matplotlib.pyplot as plt\n",
    "import os\n",
    "plt.rcParams['font.family'] = 'AppleGothic' # 폰트 변경\n",
    "plt.rcParams['axes.unicode_minus'] = False # 축 값 마이너스 깨짐 해결"
   ]
  },
  {
   "cell_type": "code",
   "execution_count": 2,
   "id": "f66f3e21-fe80-4611-bbd4-78cb1a6ef43e",
   "metadata": {},
   "outputs": [],
   "source": [
    "filepath = 'F:/mycoding/패캠/데이터분석가 취업/파이널프로젝트/★KDT 참여기업_29cm/data/commerce/'"
   ]
  },
  {
   "cell_type": "code",
   "execution_count": 3,
   "id": "4d8c9568-a420-4c6f-bda4-03c045aedd3b",
   "metadata": {},
   "outputs": [],
   "source": [
    "sampled_events = pd.read_csv(filepath+'sampled_events.csv')\n",
    "sampled_products = pd.read_csv(filepath+'sampled_products.csv')\n",
    "sampled_users = pd.read_csv(filepath+'sampled_users.csv')"
   ]
  },
  {
   "cell_type": "code",
   "execution_count": 4,
   "id": "c9273168-e38c-4708-9ec6-e07cd026afdb",
   "metadata": {},
   "outputs": [],
   "source": [
    "mergedevents=pd.merge(sampled_events,sampled_products, on= 'item_no', how = 'left')"
   ]
  },
  {
   "cell_type": "code",
   "execution_count": 5,
   "id": "a45e52be-fd40-48ac-8057-8e9b0018938a",
   "metadata": {},
   "outputs": [],
   "source": [
    "mergedevents= pd.merge(mergedevents, sampled_users, on = 'user_no', how = 'left')"
   ]
  },
  {
   "cell_type": "code",
   "execution_count": 6,
   "id": "0c1e8ced-d4b5-4100-a822-7074078663c3",
   "metadata": {},
   "outputs": [],
   "source": [
    "mergedevents['event_timestamp'] = pd.to_datetime(mergedevents['event_timestamp'], format='%Y-%m-%d %H:%M:%S', errors='raise')"
   ]
  },
  {
   "cell_type": "code",
   "execution_count": 7,
   "id": "28ffb787-62e6-4534-ae8a-5c36f428c64c",
   "metadata": {},
   "outputs": [],
   "source": [
    "mergedevents=mergedevents.astype({'category1_code':'object'})\n",
    "mergedevents=mergedevents.astype({'category2_code':'object'})\n",
    "mergedevents=mergedevents.astype({'category3_code':'object'})\n",
    "mergedevents=mergedevents.astype({'brand_no':'object'})\n",
    "mergedevents['birth_date'] = pd.to_datetime(mergedevents['birth_date'], format='%Y-%m-%d', errors='coerce')"
   ]
  },
  {
   "cell_type": "markdown",
   "id": "54289d9e-4740-4845-9e70-0e3a8c461905",
   "metadata": {},
   "source": [
    "# 데이터 결측값 탐구"
   ]
  },
  {
   "cell_type": "code",
   "execution_count": 8,
   "id": "b1a0297c-625a-461d-b289-e3dea8299fd6",
   "metadata": {},
   "outputs": [],
   "source": [
    "null_item_list = mergedevents.loc[mergedevents['brand_name'].isnull(),['brand_name','item_name','category1_name','category2_name','category3_name','price']]\n",
    "mergedevents.loc[null_item_list.query('category2_name == \"주얼리\"')['item_name'].index,['brand_name']]='nulll'\n",
    "mergedevents.loc[null_item_list.query('item_name == \"[프리미엄침구] 시원한 시어서커/인견 여름이불 모음\"')['item_name'].index,['brand_name']]='오르다'\n",
    "mergedevents.loc[null_item_list.query('item_name == \"EMF 전자파차단 침대 거실 프리미엄 전기요\"')['item_name'].index,['brand_name']]='한스갤러리'\n",
    "mergedevents.loc[null_item_list.query('item_name == \"그린티 모이스트 파하 거즈 필링(30매)\"')['item_name'].index,['brand_name']]='네오젠'\n",
    "## 주얼리의 경우 브랜드 null 로 확인 브랜드 네임 null_로 변경"
   ]
  },
  {
   "cell_type": "code",
   "execution_count": 9,
   "id": "2031cd43-1ab4-425a-a372-d778e7896aea",
   "metadata": {},
   "outputs": [],
   "source": [
    "# _ 기준으로 자동화 해보자 인생 참 트로트다\n",
    "# _ 있는 항목들만 우선 추림. \n",
    "\n",
    "brandname_1=[]\n",
    "brandname_2=[]\n",
    "brandname_total=[]\n",
    "for i in mergedevents[mergedevents['brand_name'].str.rfind('_')!=-1]['brand_name'].unique():\n",
    "    idx = i.rfind('_')\n",
    "    brandname_1.append(i[:idx])\n",
    "    brandname_2.append(i[idx+1:])\n",
    "    brandname_total.append(i)"
   ]
  },
  {
   "cell_type": "code",
   "execution_count": 10,
   "id": "958c1155-8195-4ee2-aeb7-1972c6913038",
   "metadata": {},
   "outputs": [],
   "source": [
    "branddf = pd.DataFrame(columns=['brandname_1','brandname_2','brandname_total'])"
   ]
  },
  {
   "cell_type": "code",
   "execution_count": 11,
   "id": "78b150e7-2b2d-493c-bf69-e3ebe74bfdd4",
   "metadata": {},
   "outputs": [],
   "source": [
    "branddf['brandname_1']= brandname_1\n",
    "branddf['brandname_2']= brandname_2\n",
    "branddf['brandname_total']= brandname_total\n",
    "branddf['no']=1"
   ]
  },
  {
   "cell_type": "code",
   "execution_count": 12,
   "id": "d74b3300-7159-4ff7-9451-4a98a2675b19",
   "metadata": {},
   "outputs": [
    {
     "data": {
      "text/html": [
       "<div>\n",
       "<style scoped>\n",
       "    .dataframe tbody tr th:only-of-type {\n",
       "        vertical-align: middle;\n",
       "    }\n",
       "\n",
       "    .dataframe tbody tr th {\n",
       "        vertical-align: top;\n",
       "    }\n",
       "\n",
       "    .dataframe thead th {\n",
       "        text-align: right;\n",
       "    }\n",
       "</style>\n",
       "<table border=\"1\" class=\"dataframe\">\n",
       "  <thead>\n",
       "    <tr style=\"text-align: right;\">\n",
       "      <th></th>\n",
       "      <th>brandname_1</th>\n",
       "      <th>brandname_2</th>\n",
       "      <th>brandname_total</th>\n",
       "      <th>no</th>\n",
       "    </tr>\n",
       "  </thead>\n",
       "  <tbody>\n",
       "    <tr>\n",
       "      <th>0</th>\n",
       "      <td>TAW&amp;TOE</td>\n",
       "      <td>이누</td>\n",
       "      <td>TAW&amp;TOE_이누</td>\n",
       "      <td>1</td>\n",
       "    </tr>\n",
       "    <tr>\n",
       "      <th>1</th>\n",
       "      <td>TOMMY HILFIGER</td>\n",
       "      <td>주식회사 이랜드리테일</td>\n",
       "      <td>TOMMY HILFIGER_주식회사 이랜드리테일</td>\n",
       "      <td>1</td>\n",
       "    </tr>\n",
       "    <tr>\n",
       "      <th>2</th>\n",
       "      <td>apple</td>\n",
       "      <td>kt</td>\n",
       "      <td>apple_kt</td>\n",
       "      <td>1</td>\n",
       "    </tr>\n",
       "    <tr>\n",
       "      <th>3</th>\n",
       "      <td>drmartens</td>\n",
       "      <td>쿠폰 적용</td>\n",
       "      <td>drmartens_쿠폰 적용</td>\n",
       "      <td>1</td>\n",
       "    </tr>\n",
       "    <tr>\n",
       "      <th>4</th>\n",
       "      <td>loiter</td>\n",
       "      <td>loiter</td>\n",
       "      <td>loiter_loiter</td>\n",
       "      <td>1</td>\n",
       "    </tr>\n",
       "  </tbody>\n",
       "</table>\n",
       "</div>"
      ],
      "text/plain": [
       "      brandname_1  brandname_2             brandname_total  no\n",
       "0         TAW&TOE           이누                  TAW&TOE_이누   1\n",
       "1  TOMMY HILFIGER  주식회사 이랜드리테일  TOMMY HILFIGER_주식회사 이랜드리테일   1\n",
       "2           apple           kt                    apple_kt   1\n",
       "3       drmartens        쿠폰 적용             drmartens_쿠폰 적용   1\n",
       "4          loiter       loiter               loiter_loiter   1"
      ]
     },
     "execution_count": 12,
     "metadata": {},
     "output_type": "execute_result"
    }
   ],
   "source": [
    "branddf.head()"
   ]
  },
  {
   "cell_type": "code",
   "execution_count": 13,
   "id": "cca2f322-5235-4347-a246-c7a4a721238d",
   "metadata": {
    "tags": []
   },
   "outputs": [],
   "source": [
    "not_brandlist = list(set(mergedevents.brand_name.unique()) - set(branddf.brandname_total.unique()))"
   ]
  },
  {
   "cell_type": "code",
   "execution_count": 14,
   "id": "0783a736-ef72-48a8-bd4a-96b2f0170088",
   "metadata": {},
   "outputs": [],
   "source": [
    "## mergedevents 에서 brand_name_df 만\n",
    "brand_name_df = mergedevents[['brand_name','brand_no']].drop_duplicates().reset_index(drop=True)\n",
    "brand_name_df['new_brand_name']=''"
   ]
  },
  {
   "cell_type": "code",
   "execution_count": 15,
   "id": "f7e5186c-65a0-4e35-8287-93205cd641b2",
   "metadata": {},
   "outputs": [],
   "source": [
    "## 확실한 분류를 먼저 보자.... \n",
    "test_under_1 = [\n",
    "                '_이랜드리테일','_바이스트','_트렌드메카',\n",
    "                '_마이트레이딩홀딩스','_브랜드 잇','_원츠',\n",
    "                '_모어디','_에스엠케이', '_주식회사', '_올아이원트',\n",
    "                '_옐로우바나나', '_ 다올','_뉴욕트레이딩',\n",
    "                '_올포원컴퍼니','_트렉시','_더팩토리', '무료',\n",
    "                '_ 주식회사', '_(주)', '_3만', '_1', '_5만',\n",
    "                '(주)','_조아무역', '_ACC','_비컴퍼니','_비비엘유이',\n",
    "                '_풋스케이프','_자로라코리아','_사이브로(42BRO)',\n",
    "                '_이누','_쿠폰 적용','_kt','_착불'\n",
    "               ]"
   ]
  },
  {
   "cell_type": "code",
   "execution_count": null,
   "id": "9a93ece1-d57c-4295-a306-7ea5be5bb95e",
   "metadata": {},
   "outputs": [],
   "source": []
  },
  {
   "cell_type": "code",
   "execution_count": 16,
   "id": "c24a262d-a005-4d20-8c71-fc862a33a9a9",
   "metadata": {},
   "outputs": [],
   "source": [
    "# 2 braddf 에서 for 문으로 돌림 \n",
    "for i in test_under_1:\n",
    "    branddf_ = branddf[branddf['brandname_total'].str.contains(i)]['brandname_total'].unique()\n",
    "   \n",
    "    for j in branddf_ : \n",
    "        # mergedevents.query(f'brand_name==\"{j}\"')['new_brand_name'] = branddf.loc[branddf['brandname_total']==f'{j}'].reset_index()['brandname_1'][0]\n",
    "        brand_name_df.loc[brand_name_df['brand_name']==j, ['new_brand_name']] = branddf.loc[branddf['brandname_total']==f'{j}'].reset_index()['brandname_1'][0]"
   ]
  },
  {
   "cell_type": "code",
   "execution_count": 17,
   "id": "674db603-1700-41a8-8b3b-08f1660afe2b",
   "metadata": {},
   "outputs": [],
   "source": [
    "# # 2 braddf 에서 for 문으로 돌림 \n",
    "# for i in test_under_1:\n",
    "#     branddf_ = branddf[branddf['brandname_total'].str.contains(i)]['brandname_total'].unique()\n",
    "   \n",
    "#     for j in branddf_ : \n",
    "#         # mergedevents.query(f'brand_name==\"{j}\"')['new_brand_name'] = branddf.loc[branddf['brandname_total']==f'{j}'].reset_index()['brandname_1'][0]\n",
    "#         mergedevents.loc[mergedevents['brand_name']==j, ['new_brand_name']] = branddf.loc[branddf['brandname_total']==f'{j}'].reset_index()['brandname_1'][0]"
   ]
  },
  {
   "cell_type": "code",
   "execution_count": null,
   "id": "b80c4be7-f9c5-45ba-a836-a0f17b1b9bdf",
   "metadata": {},
   "outputs": [],
   "source": []
  },
  {
   "cell_type": "code",
   "execution_count": 18,
   "id": "6b29a2df-7e99-4eae-95b2-592bcf398136",
   "metadata": {
    "tags": []
   },
   "outputs": [],
   "source": [
    "## 확실한 것 들어갔는지 확인\n",
    "## 안들어간것 중에 _ 확인\n",
    "regex = '_'+r'[가-힣]+'\n",
    "regex_no = '_'+r'[0-9]+'\n",
    "diff_data_check = list(set(branddf['brandname_1']) - set(brand_name_df[brand_name_df['new_brand_name']!=''].brand_name))\n",
    "for i in  diff_data_check: \n",
    "    ## _한글 포함했는지 확인?? ## \n",
    "    for regex_idx in [regex,regex_no]:\n",
    "        powerfulremove = re.findall(regex_idx,i)\n",
    "        if len(powerfulremove) > 0:\n",
    "            branddf_ = branddf[branddf['brandname_total'].str.contains(powerfulremove[0])]['brandname_total'].unique()\n",
    "            for j in branddf_ : \n",
    "                # mergedevents.query(f'brand_name==\"{j}\"')['new_brand_name'] = branddf.loc[branddf['brandname_total']==f'{j}'].reset_index()['brandname_1'][0]\n",
    "                brand_name_df.loc[brand_name_df['brand_name']==j, ['new_brand_name']] = branddf.loc[branddf['brandname_total']==f'{j}'].reset_index()['brandname_1'][0]\n",
    "## 다시 제거 "
   ]
  },
  {
   "cell_type": "code",
   "execution_count": 19,
   "id": "1b0e4b2b-f005-4f40-a0c5-72dd76f6e975",
   "metadata": {
    "tags": []
   },
   "outputs": [
    {
     "name": "stdout",
     "output_type": "stream",
     "text": [
      "Int64Index([217, 1484, 2281, 6502], dtype='int64')\n",
      "Int64Index([7851], dtype='int64')\n",
      "Int64Index([5369], dtype='int64')\n",
      "Int64Index([5064], dtype='int64')\n",
      "Int64Index([2569], dtype='int64')\n",
      "Int64Index([1042, 3246], dtype='int64')\n",
      "Int64Index([4620], dtype='int64')\n",
      "Int64Index([7328], dtype='int64')\n",
      "Int64Index([7567], dtype='int64')\n",
      "Int64Index([5090], dtype='int64')\n",
      "Int64Index([7355], dtype='int64')\n",
      "Int64Index([1752, 3497], dtype='int64')\n",
      "Int64Index([1432, 4182], dtype='int64')\n",
      "Int64Index([5065], dtype='int64')\n",
      "Int64Index([2140, 2708], dtype='int64')\n",
      "Int64Index([2310], dtype='int64')\n",
      "Int64Index([3253], dtype='int64')\n",
      "Int64Index([4169], dtype='int64')\n",
      "Int64Index([3233], dtype='int64')\n",
      "Int64Index([4677], dtype='int64')\n",
      "Int64Index([4958, 6290], dtype='int64')\n"
     ]
    }
   ],
   "source": [
    "### _ 두개로 인해서 잘리지 않은 부분 재정리\n",
    "\n",
    "for i in ['_ACC','_스피드썬','_한사랑','_다솜','_무료','_SDF','_B','_회산디지털','_NCpicks','_코멧','_평강','코인비엠에스','프로젝트이든','그룹리츠','케이디엘','ACC','_디뷰','_KT','_(Y)','_조건','_디뷰','_현성','_보보','_다원','_최강쇼핑']:\n",
    "    a = brand_name_df[brand_name_df.new_brand_name.str.contains(i)].index\n",
    "    if len(a) > 0 :\n",
    "        print(a)\n",
    "        for j in a :\n",
    "            brand_name_df.iloc[j,-1]=brand_name_df.loc[brand_name_df[brand_name_df.new_brand_name.str.contains(i)].index[0],'new_brand_name'].split('_')[0]\n",
    "            "
   ]
  },
  {
   "cell_type": "code",
   "execution_count": 20,
   "id": "bcb7cea3-5df5-4cbd-b117-4ec980f0604a",
   "metadata": {},
   "outputs": [
    {
     "data": {
      "text/plain": [
       "628"
      ]
     },
     "execution_count": 20,
     "metadata": {},
     "output_type": "execute_result"
    }
   ],
   "source": [
    "len(brand_name_df[(brand_name_df.brand_name.str.contains('_')) & (brand_name_df.new_brand_name == '')])"
   ]
  },
  {
   "cell_type": "code",
   "execution_count": 21,
   "id": "760e2db4-d0e2-47ae-92f8-5b2aec1f94ca",
   "metadata": {
    "tags": []
   },
   "outputs": [
    {
     "data": {
      "text/plain": [
       "0       False\n",
       "1       False\n",
       "2       False\n",
       "3       False\n",
       "4       False\n",
       "        ...  \n",
       "7895    False\n",
       "7896    False\n",
       "7897    False\n",
       "7898    False\n",
       "7899    False\n",
       "Length: 7900, dtype: bool"
      ]
     },
     "execution_count": 21,
     "metadata": {},
     "output_type": "execute_result"
    }
   ],
   "source": [
    "(brand_name_df.brand_name.str.contains('_')) & (brand_name_df.new_brand_name == '')"
   ]
  },
  {
   "cell_type": "code",
   "execution_count": 22,
   "id": "fa0f3235-62cb-46c0-851b-794ed27d617e",
   "metadata": {},
   "outputs": [],
   "source": [
    "## 좌우 공백 제거\n",
    "brand_name_df['new_brand_name'] = brand_name_df['new_brand_name'].str.strip()"
   ]
  },
  {
   "cell_type": "code",
   "execution_count": 23,
   "id": "a0703380-3892-40c6-812c-6a1cd585bbf6",
   "metadata": {},
   "outputs": [],
   "source": [
    "## 띄어쓰기 제거 함수 안먹음.. \n",
    "def text_replace_for_df(x):\n",
    "    x.replace(\" \",'')\n",
    "    return x\n",
    "brand_name_df['new_brand_name'] = brand_name_df['new_brand_name'].apply(text_replace_for_df)"
   ]
  },
  {
   "cell_type": "code",
   "execution_count": 24,
   "id": "6438ad39-58a3-460d-8454-30a2bb660f45",
   "metadata": {},
   "outputs": [],
   "source": [
    "## str 로 쓰니까 먹음 \n",
    "brand_name_df['new_brand_name']= brand_name_df['new_brand_name'].str.replace(\" \",\"\")"
   ]
  },
  {
   "cell_type": "code",
   "execution_count": 25,
   "id": "c29c5112-f454-4215-9507-34ffe7f88508",
   "metadata": {},
   "outputs": [],
   "source": [
    "brand_name_df['new_brand_name'] = brand_name_df['new_brand_name'].str.upper()"
   ]
  },
  {
   "cell_type": "code",
   "execution_count": 26,
   "id": "efb90f27-e2d3-4e00-8edb-5a25ad2f1be8",
   "metadata": {},
   "outputs": [],
   "source": [
    "# ### brand_name_df 에서 brand_name _한글 아직 포함된경우가 있어서 다시.. \n",
    "# def underbar_korean(x):\n",
    "#     regex = '_'+r'[가-힣]+'\n",
    "#     underbar_korean_remove = re.findall(regex,x)\n",
    "#     if len(underbar_korean_remove) > 0 : \n",
    "#         return x.strip(underbar_korean_remove[0])\n",
    "#     else :\n",
    "#         return \"\""
   ]
  },
  {
   "cell_type": "code",
   "execution_count": 27,
   "id": "89dcf94a-8365-4535-ba08-d46f24e96edf",
   "metadata": {},
   "outputs": [],
   "source": [
    "### brand_name_df 에서 brand_name _한글 아직 포함된경우가 있어서 다시.. \n",
    "def underbar_korean(x):\n",
    "    p=re.compile('_[가-힣].*')\n",
    "    underbar_korean_remove = p.findall(x)\n",
    "    if len(underbar_korean_remove) > 0 : \n",
    "        return x.strip(underbar_korean_remove[0])\n",
    "    else :\n",
    "        return \"\""
   ]
  },
  {
   "cell_type": "code",
   "execution_count": 28,
   "id": "aeb99f86-382a-4ed5-a302-7a16a6bfc26a",
   "metadata": {},
   "outputs": [],
   "source": [
    "### brand_name_df 에서 brand_name _한글 아직 포함된경우가 있어서 다시.. \n",
    "def underbar_korean_num(x):\n",
    "    p=re.compile('_[0-9].*')\n",
    "    underbar_korean_remove = p.findall(x)\n",
    "    if len(underbar_korean_remove) > 0 : \n",
    "        return x.strip(underbar_korean_remove[0])\n",
    "    else :\n",
    "        return \"\""
   ]
  },
  {
   "cell_type": "code",
   "execution_count": 29,
   "id": "148993f3-e6b6-4499-b99e-ec37fe730487",
   "metadata": {},
   "outputs": [],
   "source": [
    "brand_name_df.loc[(brand_name_df.brand_name.str.contains('_')) & (brand_name_df.new_brand_name == ''),'new_brand_name'] = brand_name_df.brand_name.apply(underbar_korean)\n",
    "brand_name_df.loc[(brand_name_df.brand_name.str.contains('_')) & (brand_name_df.new_brand_name == ''),'new_brand_name'] = brand_name_df.brand_name.apply(underbar_korean_num)"
   ]
  },
  {
   "cell_type": "code",
   "execution_count": 30,
   "id": "f5b60a26-472b-4100-a4d8-eb4b218271a2",
   "metadata": {},
   "outputs": [],
   "source": [
    "### brand_name_df.brand_name 에서 _ 로 끝나는 것들은 제거 "
   ]
  },
  {
   "cell_type": "code",
   "execution_count": 31,
   "id": "c64282eb-8df5-4a97-8fd8-fda4f682a54d",
   "metadata": {},
   "outputs": [],
   "source": [
    "# def underbar_only(x):\n",
    "#     p=re.compile('_$')\n",
    "#     underbar_only_ = p.findall(x)\n",
    "#     if len(underbar_only_) > 0 : \n",
    "#         return x.replace('_','')"
   ]
  },
  {
   "cell_type": "code",
   "execution_count": 32,
   "id": "287eab5e-2b7b-473e-b53a-f495a86f7daf",
   "metadata": {},
   "outputs": [],
   "source": [
    "# def underbar_b(x):\n",
    "#     p=re.compile('_B')\n",
    "#     underbar_only_ = p.findall(x)\n",
    "#     if len(underbar_only_) > 0 : \n",
    "#         return x.replace('_','')"
   ]
  },
  {
   "cell_type": "code",
   "execution_count": 33,
   "id": "b37077c1-c878-49ba-aa16-045f4df3bc34",
   "metadata": {},
   "outputs": [],
   "source": [
    "# def underbar_sdf(x):\n",
    "#     p=re.compile('_SDF')\n",
    "#     underbar_only_ = p.findall(x)\n",
    "#     if len(underbar_only_) > 0 : \n",
    "#         return x.replace('_','')"
   ]
  },
  {
   "cell_type": "code",
   "execution_count": 34,
   "id": "53e4cbbf-4b27-4576-b737-b7e487458dbf",
   "metadata": {},
   "outputs": [],
   "source": [
    "def underbar_all(x):\n",
    "    for i in ['_$','_B', '_SDF', '_LS.*', '_[(].*','_INC']:\n",
    "        p=re.compile(i)\n",
    "        underbar_only_ = p.findall(x)\n",
    "        if len(underbar_only_) > 0 : \n",
    "            return x.replace('_','')"
   ]
  },
  {
   "cell_type": "code",
   "execution_count": 35,
   "id": "e5356d15-6b53-4b13-88f8-61aefad6b2ea",
   "metadata": {},
   "outputs": [],
   "source": [
    "# brand_name_df.loc[(brand_name_df.brand_name.str.contains('_')) & (brand_name_df.new_brand_name == ''),'new_brand_name'] = brand_name_df.loc[(brand_name_df.brand_name.str.contains('_')) & (brand_name_df.new_brand_name == ''),'brand_name'].apply(underbar_only)"
   ]
  },
  {
   "cell_type": "code",
   "execution_count": 36,
   "id": "295aca88-9b8c-4b87-8039-662747c417b2",
   "metadata": {},
   "outputs": [],
   "source": [
    "# brand_name_df.loc[(brand_name_df.brand_name.str.contains('_')) & (brand_name_df.new_brand_name.isnull()),'new_brand_name'] = brand_name_df.loc[(brand_name_df.brand_name.str.contains('_')) & (brand_name_df.new_brand_name.isnull()),'brand_name'].apply(underbar_only)\n",
    "# brand_name_df.loc[(brand_name_df.brand_name.str.contains('_')) & (brand_name_df.new_brand_name.isnull()),'new_brand_name'] = brand_name_df.loc[(brand_name_df.brand_name.str.contains('_')) & (brand_name_df.new_brand_name.isnull()),'brand_name'].apply(underbar_b)\n",
    "# brand_name_df.loc[(brand_name_df.brand_name.str.contains('_')) & (brand_name_df.new_brand_name.isnull()),'new_brand_name'] = brand_name_df.loc[(brand_name_df.brand_name.str.contains('_')) & (brand_name_df.new_brand_name.isnull()),'brand_name'].apply(underbar_sdf)\n",
    "brand_name_df.loc[(brand_name_df.brand_name.str.contains('_')) & (brand_name_df.new_brand_name.isnull()),'new_brand_name'] = brand_name_df.loc[(brand_name_df.brand_name.str.contains('_')) & (brand_name_df.new_brand_name.isnull()),'brand_name'].apply(underbar_all)"
   ]
  },
  {
   "cell_type": "code",
   "execution_count": 37,
   "id": "a499725e-c349-4d14-a11f-a447202cb6cc",
   "metadata": {},
   "outputs": [],
   "source": [
    "brand_name_df.loc[brand_name_df.new_brand_name.isnull(),'new_brand_name']=brand_name_df.loc[brand_name_df.new_brand_name.isnull(),'brand_name']"
   ]
  },
  {
   "cell_type": "code",
   "execution_count": 38,
   "id": "7bccf16f-fd55-489c-8089-80de2ee26837",
   "metadata": {},
   "outputs": [],
   "source": [
    "## _ 있는데 new_brand_name 에 안 옮겨진 항목이 있어서 해당건만 다시 작업\n",
    "branddf__ = branddf\n",
    "branddf__.rename(columns={'brandname_total':'brand_name'},inplace=True)\n",
    "brand_name_df_ = pd.merge(brand_name_df[brand_name_df['new_brand_name']==''],branddf__, on='brand_name', how = 'left')"
   ]
  },
  {
   "cell_type": "code",
   "execution_count": 39,
   "id": "d6b45930-61ec-438b-90ad-099c91b6c974",
   "metadata": {},
   "outputs": [],
   "source": [
    "brand_name_df_['brand_name_']=brand_name_df_['brand_name'].str.upper().str.replace(\" \",\"\")"
   ]
  },
  {
   "cell_type": "code",
   "execution_count": 40,
   "id": "13e42197-dbc7-4cd9-853b-6b1730b70754",
   "metadata": {},
   "outputs": [],
   "source": [
    "brand_name_df_['new_brand_name'] = brand_name_df_.brand_name_.apply(underbar_korean)"
   ]
  },
  {
   "cell_type": "code",
   "execution_count": 41,
   "id": "2419c8ab-993c-4899-bc05-06e400f6743d",
   "metadata": {
    "tags": []
   },
   "outputs": [],
   "source": [
    "brand_name_df_.loc[brand_name_df_.new_brand_name == '','new_brand_name']=brand_name_df_.loc[brand_name_df_.new_brand_name == '','brand_name']"
   ]
  },
  {
   "cell_type": "code",
   "execution_count": 42,
   "id": "b9cbc03e-c8c1-4146-84fc-35ac923cd7ab",
   "metadata": {},
   "outputs": [
    {
     "data": {
      "text/html": [
       "<div>\n",
       "<style scoped>\n",
       "    .dataframe tbody tr th:only-of-type {\n",
       "        vertical-align: middle;\n",
       "    }\n",
       "\n",
       "    .dataframe tbody tr th {\n",
       "        vertical-align: top;\n",
       "    }\n",
       "\n",
       "    .dataframe thead th {\n",
       "        text-align: right;\n",
       "    }\n",
       "</style>\n",
       "<table border=\"1\" class=\"dataframe\">\n",
       "  <thead>\n",
       "    <tr style=\"text-align: right;\">\n",
       "      <th></th>\n",
       "      <th>brand_name</th>\n",
       "      <th>brand_no</th>\n",
       "      <th>new_brand_name</th>\n",
       "      <th>brandname_1</th>\n",
       "      <th>brandname_2</th>\n",
       "      <th>no</th>\n",
       "      <th>brand_name_</th>\n",
       "    </tr>\n",
       "  </thead>\n",
       "  <tbody>\n",
       "    <tr>\n",
       "      <th>0</th>\n",
       "      <td>TOPTEN</td>\n",
       "      <td>13901.00</td>\n",
       "      <td>TOPTEN</td>\n",
       "      <td>NaN</td>\n",
       "      <td>NaN</td>\n",
       "      <td>nan</td>\n",
       "      <td>TOPTEN</td>\n",
       "    </tr>\n",
       "    <tr>\n",
       "      <th>1</th>\n",
       "      <td>Wave union</td>\n",
       "      <td>7604.00</td>\n",
       "      <td>Wave union</td>\n",
       "      <td>NaN</td>\n",
       "      <td>NaN</td>\n",
       "      <td>nan</td>\n",
       "      <td>WAVEUNION</td>\n",
       "    </tr>\n",
       "    <tr>\n",
       "      <th>2</th>\n",
       "      <td>MONGDOL</td>\n",
       "      <td>11472.00</td>\n",
       "      <td>MONGDOL</td>\n",
       "      <td>NaN</td>\n",
       "      <td>NaN</td>\n",
       "      <td>nan</td>\n",
       "      <td>MONGDOL</td>\n",
       "    </tr>\n",
       "    <tr>\n",
       "      <th>3</th>\n",
       "      <td>yeomim</td>\n",
       "      <td>3135.00</td>\n",
       "      <td>yeomim</td>\n",
       "      <td>NaN</td>\n",
       "      <td>NaN</td>\n",
       "      <td>nan</td>\n",
       "      <td>YEOMIM</td>\n",
       "    </tr>\n",
       "    <tr>\n",
       "      <th>4</th>\n",
       "      <td>Rockfish Weatherwear</td>\n",
       "      <td>7036.00</td>\n",
       "      <td>Rockfish Weatherwear</td>\n",
       "      <td>NaN</td>\n",
       "      <td>NaN</td>\n",
       "      <td>nan</td>\n",
       "      <td>ROCKFISHWEATHERWEAR</td>\n",
       "    </tr>\n",
       "  </tbody>\n",
       "</table>\n",
       "</div>"
      ],
      "text/plain": [
       "             brand_name brand_no        new_brand_name brandname_1  \\\n",
       "0                TOPTEN 13901.00                TOPTEN         NaN   \n",
       "1            Wave union  7604.00            Wave union         NaN   \n",
       "2               MONGDOL 11472.00               MONGDOL         NaN   \n",
       "3                yeomim  3135.00                yeomim         NaN   \n",
       "4  Rockfish Weatherwear  7036.00  Rockfish Weatherwear         NaN   \n",
       "\n",
       "  brandname_2  no          brand_name_  \n",
       "0         NaN nan               TOPTEN  \n",
       "1         NaN nan            WAVEUNION  \n",
       "2         NaN nan              MONGDOL  \n",
       "3         NaN nan               YEOMIM  \n",
       "4         NaN nan  ROCKFISHWEATHERWEAR  "
      ]
     },
     "execution_count": 42,
     "metadata": {},
     "output_type": "execute_result"
    }
   ],
   "source": [
    "brand_name_df_.head()"
   ]
  },
  {
   "cell_type": "code",
   "execution_count": 43,
   "id": "980a3d51-db17-4c5d-888c-3891b5b415ba",
   "metadata": {},
   "outputs": [],
   "source": [
    "brand_name_df__ = pd.merge(brand_name_df,brand_name_df_[['brand_no','new_brand_name']],on='brand_no',how='left')"
   ]
  },
  {
   "cell_type": "code",
   "execution_count": 44,
   "id": "ccb038ba-ccc7-4d53-8fb6-7998e2c0f86e",
   "metadata": {},
   "outputs": [
    {
     "data": {
      "text/html": [
       "<div>\n",
       "<style scoped>\n",
       "    .dataframe tbody tr th:only-of-type {\n",
       "        vertical-align: middle;\n",
       "    }\n",
       "\n",
       "    .dataframe tbody tr th {\n",
       "        vertical-align: top;\n",
       "    }\n",
       "\n",
       "    .dataframe thead th {\n",
       "        text-align: right;\n",
       "    }\n",
       "</style>\n",
       "<table border=\"1\" class=\"dataframe\">\n",
       "  <thead>\n",
       "    <tr style=\"text-align: right;\">\n",
       "      <th></th>\n",
       "      <th>brand_no</th>\n",
       "      <th>new_brand_name</th>\n",
       "    </tr>\n",
       "  </thead>\n",
       "  <tbody>\n",
       "    <tr>\n",
       "      <th>0</th>\n",
       "      <td>13901.00</td>\n",
       "      <td>TOPTEN</td>\n",
       "    </tr>\n",
       "    <tr>\n",
       "      <th>1</th>\n",
       "      <td>7604.00</td>\n",
       "      <td>Wave union</td>\n",
       "    </tr>\n",
       "    <tr>\n",
       "      <th>2</th>\n",
       "      <td>11472.00</td>\n",
       "      <td>MONGDOL</td>\n",
       "    </tr>\n",
       "    <tr>\n",
       "      <th>3</th>\n",
       "      <td>3135.00</td>\n",
       "      <td>yeomim</td>\n",
       "    </tr>\n",
       "    <tr>\n",
       "      <th>4</th>\n",
       "      <td>7036.00</td>\n",
       "      <td>Rockfish Weatherwear</td>\n",
       "    </tr>\n",
       "    <tr>\n",
       "      <th>...</th>\n",
       "      <td>...</td>\n",
       "      <td>...</td>\n",
       "    </tr>\n",
       "    <tr>\n",
       "      <th>6885</th>\n",
       "      <td>15042.00</td>\n",
       "      <td>소다스트림</td>\n",
       "    </tr>\n",
       "    <tr>\n",
       "      <th>6886</th>\n",
       "      <td>14066.00</td>\n",
       "      <td>퍼펙토</td>\n",
       "    </tr>\n",
       "    <tr>\n",
       "      <th>6887</th>\n",
       "      <td>15257.00</td>\n",
       "      <td>어나더스케줄</td>\n",
       "    </tr>\n",
       "    <tr>\n",
       "      <th>6888</th>\n",
       "      <td>15265.00</td>\n",
       "      <td>보틀웍스</td>\n",
       "    </tr>\n",
       "    <tr>\n",
       "      <th>6889</th>\n",
       "      <td>15526.00</td>\n",
       "      <td>LAZYDONUT</td>\n",
       "    </tr>\n",
       "  </tbody>\n",
       "</table>\n",
       "<p>6890 rows × 2 columns</p>\n",
       "</div>"
      ],
      "text/plain": [
       "     brand_no        new_brand_name\n",
       "0    13901.00                TOPTEN\n",
       "1     7604.00            Wave union\n",
       "2    11472.00               MONGDOL\n",
       "3     3135.00                yeomim\n",
       "4     7036.00  Rockfish Weatherwear\n",
       "...       ...                   ...\n",
       "6885 15042.00                 소다스트림\n",
       "6886 14066.00                   퍼펙토\n",
       "6887 15257.00                어나더스케줄\n",
       "6888 15265.00                  보틀웍스\n",
       "6889 15526.00             LAZYDONUT\n",
       "\n",
       "[6890 rows x 2 columns]"
      ]
     },
     "execution_count": 44,
     "metadata": {},
     "output_type": "execute_result"
    }
   ],
   "source": [
    "brand_name_df_[['brand_no','new_brand_name']]"
   ]
  },
  {
   "cell_type": "code",
   "execution_count": 45,
   "id": "c27d3451-2800-4051-909e-eac966bfb053",
   "metadata": {},
   "outputs": [
    {
     "data": {
      "text/plain": [
       "0       False\n",
       "1       False\n",
       "2       False\n",
       "3       False\n",
       "4       False\n",
       "        ...  \n",
       "7898    False\n",
       "7900    False\n",
       "7901    False\n",
       "7902    False\n",
       "7904    False\n",
       "Name: brand_name, Length: 6896, dtype: bool"
      ]
     },
     "execution_count": 45,
     "metadata": {},
     "output_type": "execute_result"
    }
   ],
   "source": [
    "brand_name_df__[brand_name_df__.new_brand_name_x==\"\"].brand_name.str.contains('_',na=False)"
   ]
  },
  {
   "cell_type": "code",
   "execution_count": 46,
   "id": "ebc88fcd-98d1-4ca5-b0cc-bed82c4f3f48",
   "metadata": {},
   "outputs": [],
   "source": [
    "brand_name_df__.loc[brand_name_df__.new_brand_name_x == '','new_brand_name_x'] = brand_name_df__.loc[brand_name_df__.new_brand_name_x == '','new_brand_name_y']"
   ]
  },
  {
   "cell_type": "code",
   "execution_count": 47,
   "id": "ab0a53f0-f05f-4eb1-bd31-be97ee54e13b",
   "metadata": {},
   "outputs": [
    {
     "data": {
      "text/plain": [
       "'DENOVO'"
      ]
     },
     "execution_count": 47,
     "metadata": {},
     "output_type": "execute_result"
    }
   ],
   "source": [
    "underbar_all('DENOVO__')"
   ]
  },
  {
   "cell_type": "code",
   "execution_count": 48,
   "id": "8a4b3962-ff6b-4b11-81ae-1d611c901217",
   "metadata": {
    "tags": []
   },
   "outputs": [],
   "source": [
    "brand_name_df__.loc[brand_name_df__.new_brand_name_x.str.contains('_'),'new_brand_name_x'] = brand_name_df__[brand_name_df__.new_brand_name_x.str.contains('_')].new_brand_name_x.apply(underbar_all)"
   ]
  },
  {
   "cell_type": "code",
   "execution_count": 49,
   "id": "42915fba-b104-4012-b6e8-39bae00d0643",
   "metadata": {},
   "outputs": [],
   "source": [
    "brand_name_df__.loc[brand_name_df__.new_brand_name_x.isna(),'new_brand_name_x'] = brand_name_df__.loc[brand_name_df__.new_brand_name_x.isna(),'brand_name']"
   ]
  },
  {
   "cell_type": "code",
   "execution_count": null,
   "id": "c781fa42-08d1-4863-a02d-9271ad1a9e81",
   "metadata": {},
   "outputs": [],
   "source": []
  },
  {
   "cell_type": "code",
   "execution_count": 53,
   "id": "b4830a2e-f38a-4690-afcf-fc9fa51dd5d7",
   "metadata": {},
   "outputs": [],
   "source": [
    "brand_name_df__.loc[brand_name_df__.brand_no.isnull(),'new_brand_name_x'] = brand_name_df__.loc[brand_name_df__.brand_no.isnull(),'brand_name']"
   ]
  },
  {
   "cell_type": "code",
   "execution_count": 55,
   "id": "172ff2ec-9feb-4fc8-a5ac-66c655afc390",
   "metadata": {},
   "outputs": [
    {
     "data": {
      "text/html": [
       "<div>\n",
       "<style scoped>\n",
       "    .dataframe tbody tr th:only-of-type {\n",
       "        vertical-align: middle;\n",
       "    }\n",
       "\n",
       "    .dataframe tbody tr th {\n",
       "        vertical-align: top;\n",
       "    }\n",
       "\n",
       "    .dataframe thead th {\n",
       "        text-align: right;\n",
       "    }\n",
       "</style>\n",
       "<table border=\"1\" class=\"dataframe\">\n",
       "  <thead>\n",
       "    <tr style=\"text-align: right;\">\n",
       "      <th></th>\n",
       "      <th>brand_name</th>\n",
       "      <th>brand_no</th>\n",
       "      <th>new_brand_name_x</th>\n",
       "      <th>new_brand_name_y</th>\n",
       "    </tr>\n",
       "  </thead>\n",
       "  <tbody>\n",
       "    <tr>\n",
       "      <th>4468</th>\n",
       "      <td>네오젠</td>\n",
       "      <td>NaN</td>\n",
       "      <td>네오젠</td>\n",
       "      <td>네오젠</td>\n",
       "    </tr>\n",
       "    <tr>\n",
       "      <th>4469</th>\n",
       "      <td>네오젠</td>\n",
       "      <td>NaN</td>\n",
       "      <td>네오젠</td>\n",
       "      <td>오르다</td>\n",
       "    </tr>\n",
       "    <tr>\n",
       "      <th>4470</th>\n",
       "      <td>네오젠</td>\n",
       "      <td>NaN</td>\n",
       "      <td>네오젠</td>\n",
       "      <td>한스갤러리</td>\n",
       "    </tr>\n",
       "    <tr>\n",
       "      <th>6913</th>\n",
       "      <td>오르다</td>\n",
       "      <td>NaN</td>\n",
       "      <td>오르다</td>\n",
       "      <td>네오젠</td>\n",
       "    </tr>\n",
       "    <tr>\n",
       "      <th>6914</th>\n",
       "      <td>오르다</td>\n",
       "      <td>NaN</td>\n",
       "      <td>오르다</td>\n",
       "      <td>오르다</td>\n",
       "    </tr>\n",
       "    <tr>\n",
       "      <th>6915</th>\n",
       "      <td>오르다</td>\n",
       "      <td>NaN</td>\n",
       "      <td>오르다</td>\n",
       "      <td>한스갤러리</td>\n",
       "    </tr>\n",
       "    <tr>\n",
       "      <th>7574</th>\n",
       "      <td>한스갤러리</td>\n",
       "      <td>NaN</td>\n",
       "      <td>한스갤러리</td>\n",
       "      <td>네오젠</td>\n",
       "    </tr>\n",
       "    <tr>\n",
       "      <th>7575</th>\n",
       "      <td>한스갤러리</td>\n",
       "      <td>NaN</td>\n",
       "      <td>한스갤러리</td>\n",
       "      <td>오르다</td>\n",
       "    </tr>\n",
       "    <tr>\n",
       "      <th>7576</th>\n",
       "      <td>한스갤러리</td>\n",
       "      <td>NaN</td>\n",
       "      <td>한스갤러리</td>\n",
       "      <td>한스갤러리</td>\n",
       "    </tr>\n",
       "  </tbody>\n",
       "</table>\n",
       "</div>"
      ],
      "text/plain": [
       "     brand_name brand_no new_brand_name_x new_brand_name_y\n",
       "4468        네오젠      NaN              네오젠              네오젠\n",
       "4469        네오젠      NaN              네오젠              오르다\n",
       "4470        네오젠      NaN              네오젠            한스갤러리\n",
       "6913        오르다      NaN              오르다              네오젠\n",
       "6914        오르다      NaN              오르다              오르다\n",
       "6915        오르다      NaN              오르다            한스갤러리\n",
       "7574      한스갤러리      NaN            한스갤러리              네오젠\n",
       "7575      한스갤러리      NaN            한스갤러리              오르다\n",
       "7576      한스갤러리      NaN            한스갤러리            한스갤러리"
      ]
     },
     "execution_count": 55,
     "metadata": {},
     "output_type": "execute_result"
    }
   ],
   "source": [
    "brand_name_df__.loc[brand_name_df__.brand_no.isnull()] "
   ]
  },
  {
   "cell_type": "code",
   "execution_count": 56,
   "id": "9c74c649-190d-467f-96b8-7a2fdd635d76",
   "metadata": {},
   "outputs": [],
   "source": [
    "brand_name_df__= brand_name_df__[['brand_no','new_brand_name_x']]"
   ]
  },
  {
   "cell_type": "code",
   "execution_count": 58,
   "id": "7e36cb5a-5ff4-4c7f-b9d5-d10db1cbcfa7",
   "metadata": {},
   "outputs": [
    {
     "data": {
      "text/html": [
       "<div>\n",
       "<style scoped>\n",
       "    .dataframe tbody tr th:only-of-type {\n",
       "        vertical-align: middle;\n",
       "    }\n",
       "\n",
       "    .dataframe tbody tr th {\n",
       "        vertical-align: top;\n",
       "    }\n",
       "\n",
       "    .dataframe thead th {\n",
       "        text-align: right;\n",
       "    }\n",
       "</style>\n",
       "<table border=\"1\" class=\"dataframe\">\n",
       "  <thead>\n",
       "    <tr style=\"text-align: right;\">\n",
       "      <th></th>\n",
       "      <th>brand_no</th>\n",
       "      <th>brand_name</th>\n",
       "    </tr>\n",
       "  </thead>\n",
       "  <tbody>\n",
       "    <tr>\n",
       "      <th>0</th>\n",
       "      <td>13901.00</td>\n",
       "      <td>TOPTEN</td>\n",
       "    </tr>\n",
       "    <tr>\n",
       "      <th>1</th>\n",
       "      <td>7604.00</td>\n",
       "      <td>Wave union</td>\n",
       "    </tr>\n",
       "    <tr>\n",
       "      <th>2</th>\n",
       "      <td>11472.00</td>\n",
       "      <td>MONGDOL</td>\n",
       "    </tr>\n",
       "    <tr>\n",
       "      <th>3</th>\n",
       "      <td>3135.00</td>\n",
       "      <td>yeomim</td>\n",
       "    </tr>\n",
       "    <tr>\n",
       "      <th>4</th>\n",
       "      <td>7036.00</td>\n",
       "      <td>Rockfish Weatherwear</td>\n",
       "    </tr>\n",
       "    <tr>\n",
       "      <th>...</th>\n",
       "      <td>...</td>\n",
       "      <td>...</td>\n",
       "    </tr>\n",
       "    <tr>\n",
       "      <th>7901</th>\n",
       "      <td>15257.00</td>\n",
       "      <td>어나더스케줄</td>\n",
       "    </tr>\n",
       "    <tr>\n",
       "      <th>7902</th>\n",
       "      <td>15265.00</td>\n",
       "      <td>보틀웍스</td>\n",
       "    </tr>\n",
       "    <tr>\n",
       "      <th>7903</th>\n",
       "      <td>15447.00</td>\n",
       "      <td>보틀웍스</td>\n",
       "    </tr>\n",
       "    <tr>\n",
       "      <th>7904</th>\n",
       "      <td>15526.00</td>\n",
       "      <td>LAZYDONUT</td>\n",
       "    </tr>\n",
       "    <tr>\n",
       "      <th>7905</th>\n",
       "      <td>15301.00</td>\n",
       "      <td>CHANEL</td>\n",
       "    </tr>\n",
       "  </tbody>\n",
       "</table>\n",
       "<p>7906 rows × 2 columns</p>\n",
       "</div>"
      ],
      "text/plain": [
       "     brand_no            brand_name\n",
       "0    13901.00                TOPTEN\n",
       "1     7604.00            Wave union\n",
       "2    11472.00               MONGDOL\n",
       "3     3135.00                yeomim\n",
       "4     7036.00  Rockfish Weatherwear\n",
       "...       ...                   ...\n",
       "7901 15257.00                어나더스케줄\n",
       "7902 15265.00                  보틀웍스\n",
       "7903 15447.00                  보틀웍스\n",
       "7904 15526.00             LAZYDONUT\n",
       "7905 15301.00                CHANEL\n",
       "\n",
       "[7906 rows x 2 columns]"
      ]
     },
     "execution_count": 58,
     "metadata": {},
     "output_type": "execute_result"
    }
   ],
   "source": [
    "brand_name_df__.rename(columns={'new_brand_name_x':'brand_name'})"
   ]
  },
  {
   "cell_type": "code",
   "execution_count": 50,
   "id": "812d129c-7c27-47d2-81bf-c018b159ae4d",
   "metadata": {},
   "outputs": [],
   "source": [
    "brand_name_df__.to_excel('./brand_name_df__.xlsx')"
   ]
  }
 ],
 "metadata": {
  "kernelspec": {
   "display_name": "Python 3",
   "language": "python",
   "name": "python3"
  },
  "language_info": {
   "codemirror_mode": {
    "name": "ipython",
    "version": 3
   },
   "file_extension": ".py",
   "mimetype": "text/x-python",
   "name": "python",
   "nbconvert_exporter": "python",
   "pygments_lexer": "ipython3",
   "version": "3.8.5"
  }
 },
 "nbformat": 4,
 "nbformat_minor": 5
}
